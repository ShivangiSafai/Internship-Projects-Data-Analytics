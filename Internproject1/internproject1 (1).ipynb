{
 "cells": [
  {
   "cell_type": "markdown",
   "id": "f1d1c0ed",
   "metadata": {
    "papermill": {
     "duration": 0.024384,
     "end_time": "2024-07-03T17:52:51.036352",
     "exception": false,
     "start_time": "2024-07-03T17:52:51.011968",
     "status": "completed"
    },
    "tags": []
   },
   "source": [
    "Title: Bank Churn Model"
   ]
  },
  {
   "cell_type": "markdown",
   "id": "d0611d2f",
   "metadata": {
    "papermill": {
     "duration": 0.023819,
     "end_time": "2024-07-03T17:52:51.085979",
     "exception": false,
     "start_time": "2024-07-03T17:52:51.062160",
     "status": "completed"
    },
    "tags": []
   },
   "source": [
    "Objective: The aim of this project is to classify the bank customers who have chances of leaving the bank that is churn over here. Now this pattern is not even or balanced so we are considering that even if there is unbalance how by using machine learning suitable model we can increase the performance of the model. Here are points we shall we implementing for project:\n",
    "1.Data Encoding\n",
    "2.Feature Scaling\n",
    "3.Handling Inbalance Data By:\n",
    "    a.Random Under Sampling\n",
    "    b.Random Over Sampling\n",
    "4.Support Vector Machine Classification\n",
    "5.Grid Search for Hyperparameter tunning."
   ]
  },
  {
   "cell_type": "markdown",
   "id": "6a50f8e6",
   "metadata": {
    "papermill": {
     "duration": 0.023574,
     "end_time": "2024-07-03T17:52:51.134595",
     "exception": false,
     "start_time": "2024-07-03T17:52:51.111021",
     "status": "completed"
    },
    "tags": []
   },
   "source": [
    "Data Source:\n",
    "The dataset for the project has been refered of the YBI-Foundation Bank Churn Model dataset which is available on github. The dataset is called 'Bank Churn Modelling.csv'dataset."
   ]
  },
  {
   "cell_type": "markdown",
   "id": "7b4ce66b",
   "metadata": {
    "papermill": {
     "duration": 0.024063,
     "end_time": "2024-07-03T17:52:51.182941",
     "exception": false,
     "start_time": "2024-07-03T17:52:51.158878",
     "status": "completed"
    },
    "tags": []
   },
   "source": [
    "Import Libraries"
   ]
  },
  {
   "cell_type": "code",
   "execution_count": 1,
   "id": "7df3cde4",
   "metadata": {
    "execution": {
     "iopub.execute_input": "2024-07-03T17:52:51.233746Z",
     "iopub.status.busy": "2024-07-03T17:52:51.233361Z",
     "iopub.status.idle": "2024-07-03T17:52:53.474376Z",
     "shell.execute_reply": "2024-07-03T17:52:53.473351Z"
    },
    "papermill": {
     "duration": 2.270178,
     "end_time": "2024-07-03T17:52:53.477005",
     "exception": false,
     "start_time": "2024-07-03T17:52:51.206827",
     "status": "completed"
    },
    "tags": []
   },
   "outputs": [],
   "source": [
    "import pandas as pd\n",
    "import seaborn as sns\n",
    "import matplotlib.pyplot as plt\n",
    "import numpy as np"
   ]
  },
  {
   "cell_type": "markdown",
   "id": "eff20b6e",
   "metadata": {
    "papermill": {
     "duration": 0.023887,
     "end_time": "2024-07-03T17:52:53.524929",
     "exception": false,
     "start_time": "2024-07-03T17:52:53.501042",
     "status": "completed"
    },
    "tags": []
   },
   "source": [
    "Import Data"
   ]
  },
  {
   "cell_type": "code",
   "execution_count": 2,
   "id": "e519350f",
   "metadata": {
    "execution": {
     "iopub.execute_input": "2024-07-03T17:52:53.574830Z",
     "iopub.status.busy": "2024-07-03T17:52:53.574339Z",
     "iopub.status.idle": "2024-07-03T17:52:53.621244Z",
     "shell.execute_reply": "2024-07-03T17:52:53.620160Z"
    },
    "papermill": {
     "duration": 0.075077,
     "end_time": "2024-07-03T17:52:53.623971",
     "exception": false,
     "start_time": "2024-07-03T17:52:53.548894",
     "status": "completed"
    },
    "tags": []
   },
   "outputs": [],
   "source": [
    "df=pd.read_csv('/kaggle/input/project1-dataset/BankChurnDataset.csv')"
   ]
  },
  {
   "cell_type": "markdown",
   "id": "f038a9b4",
   "metadata": {
    "papermill": {
     "duration": 0.023795,
     "end_time": "2024-07-03T17:52:53.671868",
     "exception": false,
     "start_time": "2024-07-03T17:52:53.648073",
     "status": "completed"
    },
    "tags": []
   },
   "source": [
    "Describe Data"
   ]
  },
  {
   "cell_type": "code",
   "execution_count": 3,
   "id": "041bb14e",
   "metadata": {
    "execution": {
     "iopub.execute_input": "2024-07-03T17:52:53.722723Z",
     "iopub.status.busy": "2024-07-03T17:52:53.722321Z",
     "iopub.status.idle": "2024-07-03T17:52:53.751146Z",
     "shell.execute_reply": "2024-07-03T17:52:53.749795Z"
    },
    "papermill": {
     "duration": 0.057796,
     "end_time": "2024-07-03T17:52:53.753537",
     "exception": false,
     "start_time": "2024-07-03T17:52:53.695741",
     "status": "completed"
    },
    "tags": []
   },
   "outputs": [
    {
     "data": {
      "text/html": [
       "<div>\n",
       "<style scoped>\n",
       "    .dataframe tbody tr th:only-of-type {\n",
       "        vertical-align: middle;\n",
       "    }\n",
       "\n",
       "    .dataframe tbody tr th {\n",
       "        vertical-align: top;\n",
       "    }\n",
       "\n",
       "    .dataframe thead th {\n",
       "        text-align: right;\n",
       "    }\n",
       "</style>\n",
       "<table border=\"1\" class=\"dataframe\">\n",
       "  <thead>\n",
       "    <tr style=\"text-align: right;\">\n",
       "      <th></th>\n",
       "      <th>CustomerId</th>\n",
       "      <th>Surname</th>\n",
       "      <th>CreditScore</th>\n",
       "      <th>Geography</th>\n",
       "      <th>Gender</th>\n",
       "      <th>Age</th>\n",
       "      <th>Tenure</th>\n",
       "      <th>Balance</th>\n",
       "      <th>Num Of Products</th>\n",
       "      <th>Has Credit Card</th>\n",
       "      <th>Is Active Member</th>\n",
       "      <th>Estimated Salary</th>\n",
       "      <th>Churn</th>\n",
       "    </tr>\n",
       "  </thead>\n",
       "  <tbody>\n",
       "    <tr>\n",
       "      <th>0</th>\n",
       "      <td>15634602</td>\n",
       "      <td>Hargrave</td>\n",
       "      <td>619</td>\n",
       "      <td>France</td>\n",
       "      <td>Female</td>\n",
       "      <td>42</td>\n",
       "      <td>2</td>\n",
       "      <td>0.00</td>\n",
       "      <td>1</td>\n",
       "      <td>1</td>\n",
       "      <td>1</td>\n",
       "      <td>101348.88</td>\n",
       "      <td>1</td>\n",
       "    </tr>\n",
       "    <tr>\n",
       "      <th>1</th>\n",
       "      <td>15647311</td>\n",
       "      <td>Hill</td>\n",
       "      <td>608</td>\n",
       "      <td>Spain</td>\n",
       "      <td>Female</td>\n",
       "      <td>41</td>\n",
       "      <td>1</td>\n",
       "      <td>83807.86</td>\n",
       "      <td>1</td>\n",
       "      <td>0</td>\n",
       "      <td>1</td>\n",
       "      <td>112542.58</td>\n",
       "      <td>0</td>\n",
       "    </tr>\n",
       "    <tr>\n",
       "      <th>2</th>\n",
       "      <td>15619304</td>\n",
       "      <td>Onio</td>\n",
       "      <td>502</td>\n",
       "      <td>France</td>\n",
       "      <td>Female</td>\n",
       "      <td>42</td>\n",
       "      <td>8</td>\n",
       "      <td>159660.80</td>\n",
       "      <td>3</td>\n",
       "      <td>1</td>\n",
       "      <td>0</td>\n",
       "      <td>113931.57</td>\n",
       "      <td>1</td>\n",
       "    </tr>\n",
       "    <tr>\n",
       "      <th>3</th>\n",
       "      <td>15701354</td>\n",
       "      <td>Boni</td>\n",
       "      <td>699</td>\n",
       "      <td>France</td>\n",
       "      <td>Female</td>\n",
       "      <td>39</td>\n",
       "      <td>1</td>\n",
       "      <td>0.00</td>\n",
       "      <td>2</td>\n",
       "      <td>0</td>\n",
       "      <td>0</td>\n",
       "      <td>93826.63</td>\n",
       "      <td>0</td>\n",
       "    </tr>\n",
       "    <tr>\n",
       "      <th>4</th>\n",
       "      <td>15737888</td>\n",
       "      <td>Mitchell</td>\n",
       "      <td>850</td>\n",
       "      <td>Spain</td>\n",
       "      <td>Female</td>\n",
       "      <td>43</td>\n",
       "      <td>2</td>\n",
       "      <td>125510.82</td>\n",
       "      <td>1</td>\n",
       "      <td>1</td>\n",
       "      <td>1</td>\n",
       "      <td>79084.10</td>\n",
       "      <td>0</td>\n",
       "    </tr>\n",
       "  </tbody>\n",
       "</table>\n",
       "</div>"
      ],
      "text/plain": [
       "   CustomerId   Surname  CreditScore Geography  Gender  Age  Tenure  \\\n",
       "0    15634602  Hargrave          619    France  Female   42       2   \n",
       "1    15647311      Hill          608     Spain  Female   41       1   \n",
       "2    15619304      Onio          502    France  Female   42       8   \n",
       "3    15701354      Boni          699    France  Female   39       1   \n",
       "4    15737888  Mitchell          850     Spain  Female   43       2   \n",
       "\n",
       "     Balance  Num Of Products  Has Credit Card  Is Active Member  \\\n",
       "0       0.00                1                1                 1   \n",
       "1   83807.86                1                0                 1   \n",
       "2  159660.80                3                1                 0   \n",
       "3       0.00                2                0                 0   \n",
       "4  125510.82                1                1                 1   \n",
       "\n",
       "   Estimated Salary  Churn  \n",
       "0         101348.88      1  \n",
       "1         112542.58      0  \n",
       "2         113931.57      1  \n",
       "3          93826.63      0  \n",
       "4          79084.10      0  "
      ]
     },
     "execution_count": 3,
     "metadata": {},
     "output_type": "execute_result"
    }
   ],
   "source": [
    "df.head()"
   ]
  },
  {
   "cell_type": "code",
   "execution_count": 4,
   "id": "04aeb044",
   "metadata": {
    "execution": {
     "iopub.execute_input": "2024-07-03T17:52:53.862955Z",
     "iopub.status.busy": "2024-07-03T17:52:53.862560Z",
     "iopub.status.idle": "2024-07-03T17:52:53.878261Z",
     "shell.execute_reply": "2024-07-03T17:52:53.877135Z"
    },
    "papermill": {
     "duration": 0.043671,
     "end_time": "2024-07-03T17:52:53.880605",
     "exception": false,
     "start_time": "2024-07-03T17:52:53.836934",
     "status": "completed"
    },
    "tags": []
   },
   "outputs": [
    {
     "data": {
      "text/html": [
       "<div>\n",
       "<style scoped>\n",
       "    .dataframe tbody tr th:only-of-type {\n",
       "        vertical-align: middle;\n",
       "    }\n",
       "\n",
       "    .dataframe tbody tr th {\n",
       "        vertical-align: top;\n",
       "    }\n",
       "\n",
       "    .dataframe thead th {\n",
       "        text-align: right;\n",
       "    }\n",
       "</style>\n",
       "<table border=\"1\" class=\"dataframe\">\n",
       "  <thead>\n",
       "    <tr style=\"text-align: right;\">\n",
       "      <th></th>\n",
       "      <th>CustomerId</th>\n",
       "      <th>Surname</th>\n",
       "      <th>CreditScore</th>\n",
       "      <th>Geography</th>\n",
       "      <th>Gender</th>\n",
       "      <th>Age</th>\n",
       "      <th>Tenure</th>\n",
       "      <th>Balance</th>\n",
       "      <th>Num Of Products</th>\n",
       "      <th>Has Credit Card</th>\n",
       "      <th>Is Active Member</th>\n",
       "      <th>Estimated Salary</th>\n",
       "      <th>Churn</th>\n",
       "    </tr>\n",
       "  </thead>\n",
       "  <tbody>\n",
       "    <tr>\n",
       "      <th>9995</th>\n",
       "      <td>15606229</td>\n",
       "      <td>Obijiaku</td>\n",
       "      <td>771</td>\n",
       "      <td>France</td>\n",
       "      <td>Male</td>\n",
       "      <td>39</td>\n",
       "      <td>5</td>\n",
       "      <td>0.00</td>\n",
       "      <td>2</td>\n",
       "      <td>1</td>\n",
       "      <td>0</td>\n",
       "      <td>96270.64</td>\n",
       "      <td>0</td>\n",
       "    </tr>\n",
       "    <tr>\n",
       "      <th>9996</th>\n",
       "      <td>15569892</td>\n",
       "      <td>Johnstone</td>\n",
       "      <td>516</td>\n",
       "      <td>France</td>\n",
       "      <td>Male</td>\n",
       "      <td>35</td>\n",
       "      <td>10</td>\n",
       "      <td>57369.61</td>\n",
       "      <td>1</td>\n",
       "      <td>1</td>\n",
       "      <td>1</td>\n",
       "      <td>101699.77</td>\n",
       "      <td>0</td>\n",
       "    </tr>\n",
       "    <tr>\n",
       "      <th>9997</th>\n",
       "      <td>15584532</td>\n",
       "      <td>Liu</td>\n",
       "      <td>709</td>\n",
       "      <td>France</td>\n",
       "      <td>Female</td>\n",
       "      <td>36</td>\n",
       "      <td>7</td>\n",
       "      <td>0.00</td>\n",
       "      <td>1</td>\n",
       "      <td>0</td>\n",
       "      <td>1</td>\n",
       "      <td>42085.58</td>\n",
       "      <td>1</td>\n",
       "    </tr>\n",
       "    <tr>\n",
       "      <th>9998</th>\n",
       "      <td>15682355</td>\n",
       "      <td>Sabbatini</td>\n",
       "      <td>772</td>\n",
       "      <td>Germany</td>\n",
       "      <td>Male</td>\n",
       "      <td>42</td>\n",
       "      <td>3</td>\n",
       "      <td>75075.31</td>\n",
       "      <td>2</td>\n",
       "      <td>1</td>\n",
       "      <td>0</td>\n",
       "      <td>92888.52</td>\n",
       "      <td>1</td>\n",
       "    </tr>\n",
       "    <tr>\n",
       "      <th>9999</th>\n",
       "      <td>15628319</td>\n",
       "      <td>Walker</td>\n",
       "      <td>792</td>\n",
       "      <td>France</td>\n",
       "      <td>Female</td>\n",
       "      <td>28</td>\n",
       "      <td>4</td>\n",
       "      <td>130142.79</td>\n",
       "      <td>1</td>\n",
       "      <td>1</td>\n",
       "      <td>0</td>\n",
       "      <td>38190.78</td>\n",
       "      <td>0</td>\n",
       "    </tr>\n",
       "  </tbody>\n",
       "</table>\n",
       "</div>"
      ],
      "text/plain": [
       "      CustomerId    Surname  CreditScore Geography  Gender  Age  Tenure  \\\n",
       "9995    15606229   Obijiaku          771    France    Male   39       5   \n",
       "9996    15569892  Johnstone          516    France    Male   35      10   \n",
       "9997    15584532        Liu          709    France  Female   36       7   \n",
       "9998    15682355  Sabbatini          772   Germany    Male   42       3   \n",
       "9999    15628319     Walker          792    France  Female   28       4   \n",
       "\n",
       "        Balance  Num Of Products  Has Credit Card  Is Active Member  \\\n",
       "9995       0.00                2                1                 0   \n",
       "9996   57369.61                1                1                 1   \n",
       "9997       0.00                1                0                 1   \n",
       "9998   75075.31                2                1                 0   \n",
       "9999  130142.79                1                1                 0   \n",
       "\n",
       "      Estimated Salary  Churn  \n",
       "9995          96270.64      0  \n",
       "9996         101699.77      0  \n",
       "9997          42085.58      1  \n",
       "9998          92888.52      1  \n",
       "9999          38190.78      0  "
      ]
     },
     "execution_count": 4,
     "metadata": {},
     "output_type": "execute_result"
    }
   ],
   "source": [
    "df.tail()"
   ]
  },
  {
   "cell_type": "code",
   "execution_count": 5,
   "id": "8b818164",
   "metadata": {
    "execution": {
     "iopub.execute_input": "2024-07-03T17:52:53.933003Z",
     "iopub.status.busy": "2024-07-03T17:52:53.932617Z",
     "iopub.status.idle": "2024-07-03T17:52:53.975084Z",
     "shell.execute_reply": "2024-07-03T17:52:53.973911Z"
    },
    "papermill": {
     "duration": 0.071347,
     "end_time": "2024-07-03T17:52:53.977510",
     "exception": false,
     "start_time": "2024-07-03T17:52:53.906163",
     "status": "completed"
    },
    "tags": []
   },
   "outputs": [
    {
     "data": {
      "text/html": [
       "<div>\n",
       "<style scoped>\n",
       "    .dataframe tbody tr th:only-of-type {\n",
       "        vertical-align: middle;\n",
       "    }\n",
       "\n",
       "    .dataframe tbody tr th {\n",
       "        vertical-align: top;\n",
       "    }\n",
       "\n",
       "    .dataframe thead th {\n",
       "        text-align: right;\n",
       "    }\n",
       "</style>\n",
       "<table border=\"1\" class=\"dataframe\">\n",
       "  <thead>\n",
       "    <tr style=\"text-align: right;\">\n",
       "      <th></th>\n",
       "      <th>CustomerId</th>\n",
       "      <th>CreditScore</th>\n",
       "      <th>Age</th>\n",
       "      <th>Tenure</th>\n",
       "      <th>Balance</th>\n",
       "      <th>Num Of Products</th>\n",
       "      <th>Has Credit Card</th>\n",
       "      <th>Is Active Member</th>\n",
       "      <th>Estimated Salary</th>\n",
       "      <th>Churn</th>\n",
       "    </tr>\n",
       "  </thead>\n",
       "  <tbody>\n",
       "    <tr>\n",
       "      <th>count</th>\n",
       "      <td>1.000000e+04</td>\n",
       "      <td>10000.000000</td>\n",
       "      <td>10000.000000</td>\n",
       "      <td>10000.000000</td>\n",
       "      <td>10000.000000</td>\n",
       "      <td>10000.000000</td>\n",
       "      <td>10000.00000</td>\n",
       "      <td>10000.000000</td>\n",
       "      <td>10000.000000</td>\n",
       "      <td>10000.000000</td>\n",
       "    </tr>\n",
       "    <tr>\n",
       "      <th>mean</th>\n",
       "      <td>1.569094e+07</td>\n",
       "      <td>650.528800</td>\n",
       "      <td>38.921800</td>\n",
       "      <td>5.012800</td>\n",
       "      <td>76485.889288</td>\n",
       "      <td>1.530200</td>\n",
       "      <td>0.70550</td>\n",
       "      <td>0.515100</td>\n",
       "      <td>100090.239881</td>\n",
       "      <td>0.203700</td>\n",
       "    </tr>\n",
       "    <tr>\n",
       "      <th>std</th>\n",
       "      <td>7.193619e+04</td>\n",
       "      <td>96.653299</td>\n",
       "      <td>10.487806</td>\n",
       "      <td>2.892174</td>\n",
       "      <td>62397.405202</td>\n",
       "      <td>0.581654</td>\n",
       "      <td>0.45584</td>\n",
       "      <td>0.499797</td>\n",
       "      <td>57510.492818</td>\n",
       "      <td>0.402769</td>\n",
       "    </tr>\n",
       "    <tr>\n",
       "      <th>min</th>\n",
       "      <td>1.556570e+07</td>\n",
       "      <td>350.000000</td>\n",
       "      <td>18.000000</td>\n",
       "      <td>0.000000</td>\n",
       "      <td>0.000000</td>\n",
       "      <td>1.000000</td>\n",
       "      <td>0.00000</td>\n",
       "      <td>0.000000</td>\n",
       "      <td>11.580000</td>\n",
       "      <td>0.000000</td>\n",
       "    </tr>\n",
       "    <tr>\n",
       "      <th>25%</th>\n",
       "      <td>1.562853e+07</td>\n",
       "      <td>584.000000</td>\n",
       "      <td>32.000000</td>\n",
       "      <td>3.000000</td>\n",
       "      <td>0.000000</td>\n",
       "      <td>1.000000</td>\n",
       "      <td>0.00000</td>\n",
       "      <td>0.000000</td>\n",
       "      <td>51002.110000</td>\n",
       "      <td>0.000000</td>\n",
       "    </tr>\n",
       "    <tr>\n",
       "      <th>50%</th>\n",
       "      <td>1.569074e+07</td>\n",
       "      <td>652.000000</td>\n",
       "      <td>37.000000</td>\n",
       "      <td>5.000000</td>\n",
       "      <td>97198.540000</td>\n",
       "      <td>1.000000</td>\n",
       "      <td>1.00000</td>\n",
       "      <td>1.000000</td>\n",
       "      <td>100193.915000</td>\n",
       "      <td>0.000000</td>\n",
       "    </tr>\n",
       "    <tr>\n",
       "      <th>75%</th>\n",
       "      <td>1.575323e+07</td>\n",
       "      <td>718.000000</td>\n",
       "      <td>44.000000</td>\n",
       "      <td>7.000000</td>\n",
       "      <td>127644.240000</td>\n",
       "      <td>2.000000</td>\n",
       "      <td>1.00000</td>\n",
       "      <td>1.000000</td>\n",
       "      <td>149388.247500</td>\n",
       "      <td>0.000000</td>\n",
       "    </tr>\n",
       "    <tr>\n",
       "      <th>max</th>\n",
       "      <td>1.581569e+07</td>\n",
       "      <td>850.000000</td>\n",
       "      <td>92.000000</td>\n",
       "      <td>10.000000</td>\n",
       "      <td>250898.090000</td>\n",
       "      <td>4.000000</td>\n",
       "      <td>1.00000</td>\n",
       "      <td>1.000000</td>\n",
       "      <td>199992.480000</td>\n",
       "      <td>1.000000</td>\n",
       "    </tr>\n",
       "  </tbody>\n",
       "</table>\n",
       "</div>"
      ],
      "text/plain": [
       "         CustomerId   CreditScore           Age        Tenure        Balance  \\\n",
       "count  1.000000e+04  10000.000000  10000.000000  10000.000000   10000.000000   \n",
       "mean   1.569094e+07    650.528800     38.921800      5.012800   76485.889288   \n",
       "std    7.193619e+04     96.653299     10.487806      2.892174   62397.405202   \n",
       "min    1.556570e+07    350.000000     18.000000      0.000000       0.000000   \n",
       "25%    1.562853e+07    584.000000     32.000000      3.000000       0.000000   \n",
       "50%    1.569074e+07    652.000000     37.000000      5.000000   97198.540000   \n",
       "75%    1.575323e+07    718.000000     44.000000      7.000000  127644.240000   \n",
       "max    1.581569e+07    850.000000     92.000000     10.000000  250898.090000   \n",
       "\n",
       "       Num Of Products  Has Credit Card  Is Active Member  Estimated Salary  \\\n",
       "count     10000.000000      10000.00000      10000.000000      10000.000000   \n",
       "mean          1.530200          0.70550          0.515100     100090.239881   \n",
       "std           0.581654          0.45584          0.499797      57510.492818   \n",
       "min           1.000000          0.00000          0.000000         11.580000   \n",
       "25%           1.000000          0.00000          0.000000      51002.110000   \n",
       "50%           1.000000          1.00000          1.000000     100193.915000   \n",
       "75%           2.000000          1.00000          1.000000     149388.247500   \n",
       "max           4.000000          1.00000          1.000000     199992.480000   \n",
       "\n",
       "              Churn  \n",
       "count  10000.000000  \n",
       "mean       0.203700  \n",
       "std        0.402769  \n",
       "min        0.000000  \n",
       "25%        0.000000  \n",
       "50%        0.000000  \n",
       "75%        0.000000  \n",
       "max        1.000000  "
      ]
     },
     "execution_count": 5,
     "metadata": {},
     "output_type": "execute_result"
    }
   ],
   "source": [
    "df.describe()"
   ]
  },
  {
   "cell_type": "code",
   "execution_count": 6,
   "id": "03a85135",
   "metadata": {
    "execution": {
     "iopub.execute_input": "2024-07-03T17:52:54.029691Z",
     "iopub.status.busy": "2024-07-03T17:52:54.029306Z",
     "iopub.status.idle": "2024-07-03T17:52:54.053396Z",
     "shell.execute_reply": "2024-07-03T17:52:54.052329Z"
    },
    "papermill": {
     "duration": 0.053766,
     "end_time": "2024-07-03T17:52:54.056716",
     "exception": false,
     "start_time": "2024-07-03T17:52:54.002950",
     "status": "completed"
    },
    "tags": []
   },
   "outputs": [
    {
     "name": "stdout",
     "output_type": "stream",
     "text": [
      "<class 'pandas.core.frame.DataFrame'>\n",
      "RangeIndex: 10000 entries, 0 to 9999\n",
      "Data columns (total 13 columns):\n",
      " #   Column            Non-Null Count  Dtype  \n",
      "---  ------            --------------  -----  \n",
      " 0   CustomerId        10000 non-null  int64  \n",
      " 1   Surname           10000 non-null  object \n",
      " 2   CreditScore       10000 non-null  int64  \n",
      " 3   Geography         10000 non-null  object \n",
      " 4   Gender            10000 non-null  object \n",
      " 5   Age               10000 non-null  int64  \n",
      " 6   Tenure            10000 non-null  int64  \n",
      " 7   Balance           10000 non-null  float64\n",
      " 8   Num Of Products   10000 non-null  int64  \n",
      " 9   Has Credit Card   10000 non-null  int64  \n",
      " 10  Is Active Member  10000 non-null  int64  \n",
      " 11  Estimated Salary  10000 non-null  float64\n",
      " 12  Churn             10000 non-null  int64  \n",
      "dtypes: float64(2), int64(8), object(3)\n",
      "memory usage: 1015.8+ KB\n"
     ]
    }
   ],
   "source": [
    "df.info()"
   ]
  },
  {
   "cell_type": "code",
   "execution_count": 7,
   "id": "2518a98b",
   "metadata": {
    "execution": {
     "iopub.execute_input": "2024-07-03T17:52:54.110015Z",
     "iopub.status.busy": "2024-07-03T17:52:54.109587Z",
     "iopub.status.idle": "2024-07-03T17:52:54.119788Z",
     "shell.execute_reply": "2024-07-03T17:52:54.118819Z"
    },
    "papermill": {
     "duration": 0.039764,
     "end_time": "2024-07-03T17:52:54.122074",
     "exception": false,
     "start_time": "2024-07-03T17:52:54.082310",
     "status": "completed"
    },
    "tags": []
   },
   "outputs": [
    {
     "data": {
      "text/plain": [
       "CustomerId          0\n",
       "Surname             0\n",
       "CreditScore         0\n",
       "Geography           0\n",
       "Gender              0\n",
       "Age                 0\n",
       "Tenure              0\n",
       "Balance             0\n",
       "Num Of Products     0\n",
       "Has Credit Card     0\n",
       "Is Active Member    0\n",
       "Estimated Salary    0\n",
       "Churn               0\n",
       "dtype: int64"
      ]
     },
     "execution_count": 7,
     "metadata": {},
     "output_type": "execute_result"
    }
   ],
   "source": [
    "df.isna().sum()"
   ]
  },
  {
   "cell_type": "markdown",
   "id": "43bf2a48",
   "metadata": {
    "papermill": {
     "duration": 0.025004,
     "end_time": "2024-07-03T17:52:54.173170",
     "exception": false,
     "start_time": "2024-07-03T17:52:54.148166",
     "status": "completed"
    },
    "tags": []
   },
   "source": [
    "This indicates no null behaviour of the attributes and also displays sum which is 0 here"
   ]
  },
  {
   "cell_type": "markdown",
   "id": "da1f9344",
   "metadata": {
    "papermill": {
     "duration": 0.024993,
     "end_time": "2024-07-03T17:52:54.223859",
     "exception": false,
     "start_time": "2024-07-03T17:52:54.198866",
     "status": "completed"
    },
    "tags": []
   },
   "source": [
    "Data Visualization: We can use shape to understand the size of the data and understand it."
   ]
  },
  {
   "cell_type": "code",
   "execution_count": 8,
   "id": "ee2af2f8",
   "metadata": {
    "execution": {
     "iopub.execute_input": "2024-07-03T17:52:54.278994Z",
     "iopub.status.busy": "2024-07-03T17:52:54.277660Z",
     "iopub.status.idle": "2024-07-03T17:52:54.285265Z",
     "shell.execute_reply": "2024-07-03T17:52:54.284002Z"
    },
    "papermill": {
     "duration": 0.038473,
     "end_time": "2024-07-03T17:52:54.287733",
     "exception": false,
     "start_time": "2024-07-03T17:52:54.249260",
     "status": "completed"
    },
    "tags": []
   },
   "outputs": [
    {
     "data": {
      "text/plain": [
       "(10000, 13)"
      ]
     },
     "execution_count": 8,
     "metadata": {},
     "output_type": "execute_result"
    }
   ],
   "source": [
    "df.shape"
   ]
  },
  {
   "cell_type": "markdown",
   "id": "71b2b4a2",
   "metadata": {
    "papermill": {
     "duration": 0.025113,
     "end_time": "2024-07-03T17:52:54.338229",
     "exception": false,
     "start_time": "2024-07-03T17:52:54.313116",
     "status": "completed"
    },
    "tags": []
   },
   "source": [
    "Data Preprocessing"
   ]
  },
  {
   "cell_type": "markdown",
   "id": "9d4e1002",
   "metadata": {
    "papermill": {
     "duration": 0.025062,
     "end_time": "2024-07-03T17:52:54.388415",
     "exception": false,
     "start_time": "2024-07-03T17:52:54.363353",
     "status": "completed"
    },
    "tags": []
   },
   "source": [
    "This shows that all values in customerid field are unique and can also be used for unique identification of tuple."
   ]
  },
  {
   "cell_type": "code",
   "execution_count": 9,
   "id": "2f1db763",
   "metadata": {
    "execution": {
     "iopub.execute_input": "2024-07-03T17:52:54.442205Z",
     "iopub.status.busy": "2024-07-03T17:52:54.441788Z",
     "iopub.status.idle": "2024-07-03T17:52:54.449534Z",
     "shell.execute_reply": "2024-07-03T17:52:54.448532Z"
    },
    "papermill": {
     "duration": 0.038009,
     "end_time": "2024-07-03T17:52:54.451731",
     "exception": false,
     "start_time": "2024-07-03T17:52:54.413722",
     "status": "completed"
    },
    "tags": []
   },
   "outputs": [
    {
     "data": {
      "text/plain": [
       "0"
      ]
     },
     "execution_count": 9,
     "metadata": {},
     "output_type": "execute_result"
    }
   ],
   "source": [
    "df.duplicated('CustomerId').sum()"
   ]
  },
  {
   "cell_type": "code",
   "execution_count": 10,
   "id": "d882ee12",
   "metadata": {
    "execution": {
     "iopub.execute_input": "2024-07-03T17:52:54.504073Z",
     "iopub.status.busy": "2024-07-03T17:52:54.503551Z",
     "iopub.status.idle": "2024-07-03T17:52:54.509853Z",
     "shell.execute_reply": "2024-07-03T17:52:54.508835Z"
    },
    "papermill": {
     "duration": 0.035209,
     "end_time": "2024-07-03T17:52:54.512202",
     "exception": false,
     "start_time": "2024-07-03T17:52:54.476993",
     "status": "completed"
    },
    "tags": []
   },
   "outputs": [],
   "source": [
    "df=df.set_index('CustomerId')"
   ]
  },
  {
   "cell_type": "code",
   "execution_count": 11,
   "id": "456c9e7e",
   "metadata": {
    "execution": {
     "iopub.execute_input": "2024-07-03T17:52:54.564635Z",
     "iopub.status.busy": "2024-07-03T17:52:54.563899Z",
     "iopub.status.idle": "2024-07-03T17:52:54.580029Z",
     "shell.execute_reply": "2024-07-03T17:52:54.578848Z"
    },
    "papermill": {
     "duration": 0.045166,
     "end_time": "2024-07-03T17:52:54.582448",
     "exception": false,
     "start_time": "2024-07-03T17:52:54.537282",
     "status": "completed"
    },
    "tags": []
   },
   "outputs": [
    {
     "data": {
      "text/html": [
       "<div>\n",
       "<style scoped>\n",
       "    .dataframe tbody tr th:only-of-type {\n",
       "        vertical-align: middle;\n",
       "    }\n",
       "\n",
       "    .dataframe tbody tr th {\n",
       "        vertical-align: top;\n",
       "    }\n",
       "\n",
       "    .dataframe thead th {\n",
       "        text-align: right;\n",
       "    }\n",
       "</style>\n",
       "<table border=\"1\" class=\"dataframe\">\n",
       "  <thead>\n",
       "    <tr style=\"text-align: right;\">\n",
       "      <th></th>\n",
       "      <th>Surname</th>\n",
       "      <th>CreditScore</th>\n",
       "      <th>Geography</th>\n",
       "      <th>Gender</th>\n",
       "      <th>Age</th>\n",
       "      <th>Tenure</th>\n",
       "      <th>Balance</th>\n",
       "      <th>Num Of Products</th>\n",
       "      <th>Has Credit Card</th>\n",
       "      <th>Is Active Member</th>\n",
       "      <th>Estimated Salary</th>\n",
       "      <th>Churn</th>\n",
       "    </tr>\n",
       "    <tr>\n",
       "      <th>CustomerId</th>\n",
       "      <th></th>\n",
       "      <th></th>\n",
       "      <th></th>\n",
       "      <th></th>\n",
       "      <th></th>\n",
       "      <th></th>\n",
       "      <th></th>\n",
       "      <th></th>\n",
       "      <th></th>\n",
       "      <th></th>\n",
       "      <th></th>\n",
       "      <th></th>\n",
       "    </tr>\n",
       "  </thead>\n",
       "  <tbody>\n",
       "    <tr>\n",
       "      <th>15634602</th>\n",
       "      <td>Hargrave</td>\n",
       "      <td>619</td>\n",
       "      <td>France</td>\n",
       "      <td>Female</td>\n",
       "      <td>42</td>\n",
       "      <td>2</td>\n",
       "      <td>0.00</td>\n",
       "      <td>1</td>\n",
       "      <td>1</td>\n",
       "      <td>1</td>\n",
       "      <td>101348.88</td>\n",
       "      <td>1</td>\n",
       "    </tr>\n",
       "    <tr>\n",
       "      <th>15647311</th>\n",
       "      <td>Hill</td>\n",
       "      <td>608</td>\n",
       "      <td>Spain</td>\n",
       "      <td>Female</td>\n",
       "      <td>41</td>\n",
       "      <td>1</td>\n",
       "      <td>83807.86</td>\n",
       "      <td>1</td>\n",
       "      <td>0</td>\n",
       "      <td>1</td>\n",
       "      <td>112542.58</td>\n",
       "      <td>0</td>\n",
       "    </tr>\n",
       "    <tr>\n",
       "      <th>15619304</th>\n",
       "      <td>Onio</td>\n",
       "      <td>502</td>\n",
       "      <td>France</td>\n",
       "      <td>Female</td>\n",
       "      <td>42</td>\n",
       "      <td>8</td>\n",
       "      <td>159660.80</td>\n",
       "      <td>3</td>\n",
       "      <td>1</td>\n",
       "      <td>0</td>\n",
       "      <td>113931.57</td>\n",
       "      <td>1</td>\n",
       "    </tr>\n",
       "    <tr>\n",
       "      <th>15701354</th>\n",
       "      <td>Boni</td>\n",
       "      <td>699</td>\n",
       "      <td>France</td>\n",
       "      <td>Female</td>\n",
       "      <td>39</td>\n",
       "      <td>1</td>\n",
       "      <td>0.00</td>\n",
       "      <td>2</td>\n",
       "      <td>0</td>\n",
       "      <td>0</td>\n",
       "      <td>93826.63</td>\n",
       "      <td>0</td>\n",
       "    </tr>\n",
       "    <tr>\n",
       "      <th>15737888</th>\n",
       "      <td>Mitchell</td>\n",
       "      <td>850</td>\n",
       "      <td>Spain</td>\n",
       "      <td>Female</td>\n",
       "      <td>43</td>\n",
       "      <td>2</td>\n",
       "      <td>125510.82</td>\n",
       "      <td>1</td>\n",
       "      <td>1</td>\n",
       "      <td>1</td>\n",
       "      <td>79084.10</td>\n",
       "      <td>0</td>\n",
       "    </tr>\n",
       "  </tbody>\n",
       "</table>\n",
       "</div>"
      ],
      "text/plain": [
       "             Surname  CreditScore Geography  Gender  Age  Tenure    Balance  \\\n",
       "CustomerId                                                                    \n",
       "15634602    Hargrave          619    France  Female   42       2       0.00   \n",
       "15647311        Hill          608     Spain  Female   41       1   83807.86   \n",
       "15619304        Onio          502    France  Female   42       8  159660.80   \n",
       "15701354        Boni          699    France  Female   39       1       0.00   \n",
       "15737888    Mitchell          850     Spain  Female   43       2  125510.82   \n",
       "\n",
       "            Num Of Products  Has Credit Card  Is Active Member  \\\n",
       "CustomerId                                                       \n",
       "15634602                  1                1                 1   \n",
       "15647311                  1                0                 1   \n",
       "15619304                  3                1                 0   \n",
       "15701354                  2                0                 0   \n",
       "15737888                  1                1                 1   \n",
       "\n",
       "            Estimated Salary  Churn  \n",
       "CustomerId                           \n",
       "15634602           101348.88      1  \n",
       "15647311           112542.58      0  \n",
       "15619304           113931.57      1  \n",
       "15701354            93826.63      0  \n",
       "15737888            79084.10      0  "
      ]
     },
     "execution_count": 11,
     "metadata": {},
     "output_type": "execute_result"
    }
   ],
   "source": [
    "df.head()"
   ]
  },
  {
   "cell_type": "code",
   "execution_count": 12,
   "id": "3fa1f2bd",
   "metadata": {
    "execution": {
     "iopub.execute_input": "2024-07-03T17:52:54.635470Z",
     "iopub.status.busy": "2024-07-03T17:52:54.635116Z",
     "iopub.status.idle": "2024-07-03T17:52:54.644065Z",
     "shell.execute_reply": "2024-07-03T17:52:54.642982Z"
    },
    "papermill": {
     "duration": 0.038033,
     "end_time": "2024-07-03T17:52:54.646283",
     "exception": false,
     "start_time": "2024-07-03T17:52:54.608250",
     "status": "completed"
    },
    "tags": []
   },
   "outputs": [
    {
     "data": {
      "text/plain": [
       "Geography\n",
       "France     5014\n",
       "Germany    2509\n",
       "Spain      2477\n",
       "Name: count, dtype: int64"
      ]
     },
     "execution_count": 12,
     "metadata": {},
     "output_type": "execute_result"
    }
   ],
   "source": [
    "df['Geography'].value_counts()"
   ]
  },
  {
   "cell_type": "markdown",
   "id": "7e3b5330",
   "metadata": {
    "papermill": {
     "duration": 0.025578,
     "end_time": "2024-07-03T17:52:54.697624",
     "exception": false,
     "start_time": "2024-07-03T17:52:54.672046",
     "status": "completed"
    },
    "tags": []
   },
   "source": [
    "Since here we see that values are not regular/numerical or we see their is drastic change from count 5014 to 2477 in spain. So for proper interpretation and use for the model we encode it by use of function as below:"
   ]
  },
  {
   "cell_type": "code",
   "execution_count": 13,
   "id": "259ce542",
   "metadata": {
    "execution": {
     "iopub.execute_input": "2024-07-03T17:52:54.752746Z",
     "iopub.status.busy": "2024-07-03T17:52:54.752371Z",
     "iopub.status.idle": "2024-07-03T17:52:54.764258Z",
     "shell.execute_reply": "2024-07-03T17:52:54.763113Z"
    },
    "papermill": {
     "duration": 0.041219,
     "end_time": "2024-07-03T17:52:54.766452",
     "exception": false,
     "start_time": "2024-07-03T17:52:54.725233",
     "status": "completed"
    },
    "tags": []
   },
   "outputs": [
    {
     "name": "stderr",
     "output_type": "stream",
     "text": [
      "/tmp/ipykernel_18/1985855611.py:1: FutureWarning: Downcasting behavior in `replace` is deprecated and will be removed in a future version. To retain the old behavior, explicitly call `result.infer_objects(copy=False)`. To opt-in to the future behavior, set `pd.set_option('future.no_silent_downcasting', True)`\n",
      "  df.replace({'Geography':{'France':2,'Germany':1,'Spain':0}},inplace=True)\n"
     ]
    }
   ],
   "source": [
    "df.replace({'Geography':{'France':2,'Germany':1,'Spain':0}},inplace=True)"
   ]
  },
  {
   "cell_type": "code",
   "execution_count": 14,
   "id": "222560f4",
   "metadata": {
    "execution": {
     "iopub.execute_input": "2024-07-03T17:52:54.820296Z",
     "iopub.status.busy": "2024-07-03T17:52:54.819896Z",
     "iopub.status.idle": "2024-07-03T17:52:54.829022Z",
     "shell.execute_reply": "2024-07-03T17:52:54.828034Z"
    },
    "papermill": {
     "duration": 0.038816,
     "end_time": "2024-07-03T17:52:54.831302",
     "exception": false,
     "start_time": "2024-07-03T17:52:54.792486",
     "status": "completed"
    },
    "tags": []
   },
   "outputs": [
    {
     "data": {
      "text/plain": [
       "Gender\n",
       "Male      5457\n",
       "Female    4543\n",
       "Name: count, dtype: int64"
      ]
     },
     "execution_count": 14,
     "metadata": {},
     "output_type": "execute_result"
    }
   ],
   "source": [
    "df['Gender'].value_counts()"
   ]
  },
  {
   "cell_type": "code",
   "execution_count": 15,
   "id": "2ebf10c7",
   "metadata": {
    "execution": {
     "iopub.execute_input": "2024-07-03T17:52:54.885537Z",
     "iopub.status.busy": "2024-07-03T17:52:54.885165Z",
     "iopub.status.idle": "2024-07-03T17:52:54.896432Z",
     "shell.execute_reply": "2024-07-03T17:52:54.895329Z"
    },
    "papermill": {
     "duration": 0.041744,
     "end_time": "2024-07-03T17:52:54.898997",
     "exception": false,
     "start_time": "2024-07-03T17:52:54.857253",
     "status": "completed"
    },
    "tags": []
   },
   "outputs": [
    {
     "name": "stderr",
     "output_type": "stream",
     "text": [
      "/tmp/ipykernel_18/1988347549.py:1: FutureWarning: Downcasting behavior in `replace` is deprecated and will be removed in a future version. To retain the old behavior, explicitly call `result.infer_objects(copy=False)`. To opt-in to the future behavior, set `pd.set_option('future.no_silent_downcasting', True)`\n",
      "  df.replace({'Gender':{'Male':1,'Female':0}},inplace=True)\n"
     ]
    }
   ],
   "source": [
    "df.replace({'Gender':{'Male':1,'Female':0}},inplace=True)"
   ]
  },
  {
   "cell_type": "code",
   "execution_count": 16,
   "id": "8175a0c3",
   "metadata": {
    "execution": {
     "iopub.execute_input": "2024-07-03T17:52:54.953791Z",
     "iopub.status.busy": "2024-07-03T17:52:54.953433Z",
     "iopub.status.idle": "2024-07-03T17:52:54.963855Z",
     "shell.execute_reply": "2024-07-03T17:52:54.962856Z"
    },
    "papermill": {
     "duration": 0.040333,
     "end_time": "2024-07-03T17:52:54.966129",
     "exception": false,
     "start_time": "2024-07-03T17:52:54.925796",
     "status": "completed"
    },
    "tags": []
   },
   "outputs": [
    {
     "data": {
      "text/plain": [
       "Num Of Products\n",
       "1    5084\n",
       "2    4590\n",
       "3     266\n",
       "4      60\n",
       "Name: count, dtype: int64"
      ]
     },
     "execution_count": 16,
     "metadata": {},
     "output_type": "execute_result"
    }
   ],
   "source": [
    "df['Num Of Products'].value_counts()"
   ]
  },
  {
   "cell_type": "markdown",
   "id": "00123ca1",
   "metadata": {
    "papermill": {
     "duration": 0.027165,
     "end_time": "2024-07-03T17:52:55.020253",
     "exception": false,
     "start_time": "2024-07-03T17:52:54.993088",
     "status": "completed"
    },
    "tags": []
   },
   "source": [
    "As here number 3 and 4 products are very less hence we club them/merge them into 2"
   ]
  },
  {
   "cell_type": "code",
   "execution_count": 17,
   "id": "979fe420",
   "metadata": {
    "execution": {
     "iopub.execute_input": "2024-07-03T17:52:55.075918Z",
     "iopub.status.busy": "2024-07-03T17:52:55.075508Z",
     "iopub.status.idle": "2024-07-03T17:52:55.083179Z",
     "shell.execute_reply": "2024-07-03T17:52:55.082162Z"
    },
    "papermill": {
     "duration": 0.038377,
     "end_time": "2024-07-03T17:52:55.085661",
     "exception": false,
     "start_time": "2024-07-03T17:52:55.047284",
     "status": "completed"
    },
    "tags": []
   },
   "outputs": [],
   "source": [
    "df.replace({'Num Of Products':{1:0,2:1,3:1,4:1}},inplace=True)"
   ]
  },
  {
   "cell_type": "code",
   "execution_count": 18,
   "id": "e964f273",
   "metadata": {
    "execution": {
     "iopub.execute_input": "2024-07-03T17:52:55.141788Z",
     "iopub.status.busy": "2024-07-03T17:52:55.141419Z",
     "iopub.status.idle": "2024-07-03T17:52:55.150084Z",
     "shell.execute_reply": "2024-07-03T17:52:55.148897Z"
    },
    "papermill": {
     "duration": 0.039916,
     "end_time": "2024-07-03T17:52:55.152477",
     "exception": false,
     "start_time": "2024-07-03T17:52:55.112561",
     "status": "completed"
    },
    "tags": []
   },
   "outputs": [
    {
     "data": {
      "text/plain": [
       "Has Credit Card\n",
       "1    7055\n",
       "0    2945\n",
       "Name: count, dtype: int64"
      ]
     },
     "execution_count": 18,
     "metadata": {},
     "output_type": "execute_result"
    }
   ],
   "source": [
    "df['Has Credit Card'].value_counts()"
   ]
  },
  {
   "cell_type": "code",
   "execution_count": 19,
   "id": "9e487f7a",
   "metadata": {
    "execution": {
     "iopub.execute_input": "2024-07-03T17:52:55.207149Z",
     "iopub.status.busy": "2024-07-03T17:52:55.206717Z",
     "iopub.status.idle": "2024-07-03T17:52:55.215230Z",
     "shell.execute_reply": "2024-07-03T17:52:55.214135Z"
    },
    "papermill": {
     "duration": 0.038209,
     "end_time": "2024-07-03T17:52:55.217433",
     "exception": false,
     "start_time": "2024-07-03T17:52:55.179224",
     "status": "completed"
    },
    "tags": []
   },
   "outputs": [
    {
     "data": {
      "text/plain": [
       "Is Active Member\n",
       "1    5151\n",
       "0    4849\n",
       "Name: count, dtype: int64"
      ]
     },
     "execution_count": 19,
     "metadata": {},
     "output_type": "execute_result"
    }
   ],
   "source": [
    "df['Is Active Member'].value_counts()"
   ]
  },
  {
   "cell_type": "code",
   "execution_count": 20,
   "id": "e1a9bed7",
   "metadata": {
    "execution": {
     "iopub.execute_input": "2024-07-03T17:52:55.273128Z",
     "iopub.status.busy": "2024-07-03T17:52:55.272707Z",
     "iopub.status.idle": "2024-07-03T17:52:55.282707Z",
     "shell.execute_reply": "2024-07-03T17:52:55.281618Z"
    },
    "papermill": {
     "duration": 0.041127,
     "end_time": "2024-07-03T17:52:55.285228",
     "exception": false,
     "start_time": "2024-07-03T17:52:55.244101",
     "status": "completed"
    },
    "tags": []
   },
   "outputs": [
    {
     "data": {
      "text/plain": [
       "Churn\n",
       "0    3117\n",
       "1     500\n",
       "Name: count, dtype: int64"
      ]
     },
     "execution_count": 20,
     "metadata": {},
     "output_type": "execute_result"
    }
   ],
   "source": [
    "df.loc[(df['Balance']==0),'Churn'].value_counts()"
   ]
  },
  {
   "cell_type": "markdown",
   "id": "29ef4e6e",
   "metadata": {
    "papermill": {
     "duration": 0.027251,
     "end_time": "2024-07-03T17:52:55.339499",
     "exception": false,
     "start_time": "2024-07-03T17:52:55.312248",
     "status": "completed"
    },
    "tags": []
   },
   "source": [
    "Here we interpret that customers that have zero balance have a large chance of churn so we create another feature as 'Zero Balance'"
   ]
  },
  {
   "cell_type": "code",
   "execution_count": 21,
   "id": "01ce02be",
   "metadata": {
    "execution": {
     "iopub.execute_input": "2024-07-03T17:52:55.397051Z",
     "iopub.status.busy": "2024-07-03T17:52:55.396536Z",
     "iopub.status.idle": "2024-07-03T17:52:55.403432Z",
     "shell.execute_reply": "2024-07-03T17:52:55.402186Z"
    },
    "papermill": {
     "duration": 0.039771,
     "end_time": "2024-07-03T17:52:55.406261",
     "exception": false,
     "start_time": "2024-07-03T17:52:55.366490",
     "status": "completed"
    },
    "tags": []
   },
   "outputs": [],
   "source": [
    "df['Zero Balance']=np.where(df['Balance']>0,1,0)"
   ]
  },
  {
   "cell_type": "code",
   "execution_count": 22,
   "id": "e01b7ebd",
   "metadata": {
    "execution": {
     "iopub.execute_input": "2024-07-03T17:52:55.463129Z",
     "iopub.status.busy": "2024-07-03T17:52:55.462245Z",
     "iopub.status.idle": "2024-07-03T17:52:55.830679Z",
     "shell.execute_reply": "2024-07-03T17:52:55.829603Z"
    },
    "papermill": {
     "duration": 0.398986,
     "end_time": "2024-07-03T17:52:55.832987",
     "exception": false,
     "start_time": "2024-07-03T17:52:55.434001",
     "status": "completed"
    },
    "tags": []
   },
   "outputs": [
    {
     "data": {
      "text/plain": [
       "<Axes: >"
      ]
     },
     "execution_count": 22,
     "metadata": {},
     "output_type": "execute_result"
    },
    {
     "data": {
      "image/png": "[encoded data removed]",
      "text/plain": [
       "<Figure size 640x480 with 1 Axes>"
      ]
     },
     "metadata": {},
     "output_type": "display_data"
    }
   ],
   "source": [
    "df['Zero Balance'].hist()"
   ]
  },
  {
   "cell_type": "code",
   "execution_count": 23,
   "id": "b9070ac7",
   "metadata": {
    "execution": {
     "iopub.execute_input": "2024-07-03T17:52:55.889537Z",
     "iopub.status.busy": "2024-07-03T17:52:55.889148Z",
     "iopub.status.idle": "2024-07-03T17:52:55.907709Z",
     "shell.execute_reply": "2024-07-03T17:52:55.906680Z"
    },
    "papermill": {
     "duration": 0.049865,
     "end_time": "2024-07-03T17:52:55.910228",
     "exception": false,
     "start_time": "2024-07-03T17:52:55.860363",
     "status": "completed"
    },
    "tags": []
   },
   "outputs": [
    {
     "data": {
      "text/html": [
       "<div>\n",
       "<style scoped>\n",
       "    .dataframe tbody tr th:only-of-type {\n",
       "        vertical-align: middle;\n",
       "    }\n",
       "\n",
       "    .dataframe tbody tr th {\n",
       "        vertical-align: top;\n",
       "    }\n",
       "\n",
       "    .dataframe thead th {\n",
       "        text-align: right;\n",
       "    }\n",
       "</style>\n",
       "<table border=\"1\" class=\"dataframe\">\n",
       "  <thead>\n",
       "    <tr style=\"text-align: right;\">\n",
       "      <th></th>\n",
       "      <th></th>\n",
       "      <th>Surname</th>\n",
       "      <th>CreditScore</th>\n",
       "      <th>Gender</th>\n",
       "      <th>Age</th>\n",
       "      <th>Tenure</th>\n",
       "      <th>Balance</th>\n",
       "      <th>Num Of Products</th>\n",
       "      <th>Has Credit Card</th>\n",
       "      <th>Is Active Member</th>\n",
       "      <th>Estimated Salary</th>\n",
       "      <th>Zero Balance</th>\n",
       "    </tr>\n",
       "    <tr>\n",
       "      <th>Geography</th>\n",
       "      <th>Churn</th>\n",
       "      <th></th>\n",
       "      <th></th>\n",
       "      <th></th>\n",
       "      <th></th>\n",
       "      <th></th>\n",
       "      <th></th>\n",
       "      <th></th>\n",
       "      <th></th>\n",
       "      <th></th>\n",
       "      <th></th>\n",
       "      <th></th>\n",
       "    </tr>\n",
       "  </thead>\n",
       "  <tbody>\n",
       "    <tr>\n",
       "      <th rowspan=\"2\" valign=\"top\">0</th>\n",
       "      <th>0</th>\n",
       "      <td>2064</td>\n",
       "      <td>2064</td>\n",
       "      <td>2064</td>\n",
       "      <td>2064</td>\n",
       "      <td>2064</td>\n",
       "      <td>2064</td>\n",
       "      <td>2064</td>\n",
       "      <td>2064</td>\n",
       "      <td>2064</td>\n",
       "      <td>2064</td>\n",
       "      <td>2064</td>\n",
       "    </tr>\n",
       "    <tr>\n",
       "      <th>1</th>\n",
       "      <td>413</td>\n",
       "      <td>413</td>\n",
       "      <td>413</td>\n",
       "      <td>413</td>\n",
       "      <td>413</td>\n",
       "      <td>413</td>\n",
       "      <td>413</td>\n",
       "      <td>413</td>\n",
       "      <td>413</td>\n",
       "      <td>413</td>\n",
       "      <td>413</td>\n",
       "    </tr>\n",
       "    <tr>\n",
       "      <th rowspan=\"2\" valign=\"top\">1</th>\n",
       "      <th>0</th>\n",
       "      <td>1695</td>\n",
       "      <td>1695</td>\n",
       "      <td>1695</td>\n",
       "      <td>1695</td>\n",
       "      <td>1695</td>\n",
       "      <td>1695</td>\n",
       "      <td>1695</td>\n",
       "      <td>1695</td>\n",
       "      <td>1695</td>\n",
       "      <td>1695</td>\n",
       "      <td>1695</td>\n",
       "    </tr>\n",
       "    <tr>\n",
       "      <th>1</th>\n",
       "      <td>814</td>\n",
       "      <td>814</td>\n",
       "      <td>814</td>\n",
       "      <td>814</td>\n",
       "      <td>814</td>\n",
       "      <td>814</td>\n",
       "      <td>814</td>\n",
       "      <td>814</td>\n",
       "      <td>814</td>\n",
       "      <td>814</td>\n",
       "      <td>814</td>\n",
       "    </tr>\n",
       "    <tr>\n",
       "      <th rowspan=\"2\" valign=\"top\">2</th>\n",
       "      <th>0</th>\n",
       "      <td>4204</td>\n",
       "      <td>4204</td>\n",
       "      <td>4204</td>\n",
       "      <td>4204</td>\n",
       "      <td>4204</td>\n",
       "      <td>4204</td>\n",
       "      <td>4204</td>\n",
       "      <td>4204</td>\n",
       "      <td>4204</td>\n",
       "      <td>4204</td>\n",
       "      <td>4204</td>\n",
       "    </tr>\n",
       "    <tr>\n",
       "      <th>1</th>\n",
       "      <td>810</td>\n",
       "      <td>810</td>\n",
       "      <td>810</td>\n",
       "      <td>810</td>\n",
       "      <td>810</td>\n",
       "      <td>810</td>\n",
       "      <td>810</td>\n",
       "      <td>810</td>\n",
       "      <td>810</td>\n",
       "      <td>810</td>\n",
       "      <td>810</td>\n",
       "    </tr>\n",
       "  </tbody>\n",
       "</table>\n",
       "</div>"
      ],
      "text/plain": [
       "                 Surname  CreditScore  Gender   Age  Tenure  Balance  \\\n",
       "Geography Churn                                                        \n",
       "0         0         2064         2064    2064  2064    2064     2064   \n",
       "          1          413          413     413   413     413      413   \n",
       "1         0         1695         1695    1695  1695    1695     1695   \n",
       "          1          814          814     814   814     814      814   \n",
       "2         0         4204         4204    4204  4204    4204     4204   \n",
       "          1          810          810     810   810     810      810   \n",
       "\n",
       "                 Num Of Products  Has Credit Card  Is Active Member  \\\n",
       "Geography Churn                                                       \n",
       "0         0                 2064             2064              2064   \n",
       "          1                  413              413               413   \n",
       "1         0                 1695             1695              1695   \n",
       "          1                  814              814               814   \n",
       "2         0                 4204             4204              4204   \n",
       "          1                  810              810               810   \n",
       "\n",
       "                 Estimated Salary  Zero Balance  \n",
       "Geography Churn                                  \n",
       "0         0                  2064          2064  \n",
       "          1                   413           413  \n",
       "1         0                  1695          1695  \n",
       "          1                   814           814  \n",
       "2         0                  4204          4204  \n",
       "          1                   810           810  "
      ]
     },
     "execution_count": 23,
     "metadata": {},
     "output_type": "execute_result"
    }
   ],
   "source": [
    "df.groupby(['Geography','Churn']).count()"
   ]
  },
  {
   "cell_type": "code",
   "execution_count": 24,
   "id": "f2b67d59",
   "metadata": {
    "execution": {
     "iopub.execute_input": "2024-07-03T17:52:55.968000Z",
     "iopub.status.busy": "2024-07-03T17:52:55.967609Z",
     "iopub.status.idle": "2024-07-03T17:52:55.983151Z",
     "shell.execute_reply": "2024-07-03T17:52:55.982022Z"
    },
    "papermill": {
     "duration": 0.047653,
     "end_time": "2024-07-03T17:52:55.985676",
     "exception": false,
     "start_time": "2024-07-03T17:52:55.938023",
     "status": "completed"
    },
    "tags": []
   },
   "outputs": [
    {
     "data": {
      "text/html": [
       "<div>\n",
       "<style scoped>\n",
       "    .dataframe tbody tr th:only-of-type {\n",
       "        vertical-align: middle;\n",
       "    }\n",
       "\n",
       "    .dataframe tbody tr th {\n",
       "        vertical-align: top;\n",
       "    }\n",
       "\n",
       "    .dataframe thead th {\n",
       "        text-align: right;\n",
       "    }\n",
       "</style>\n",
       "<table border=\"1\" class=\"dataframe\">\n",
       "  <thead>\n",
       "    <tr style=\"text-align: right;\">\n",
       "      <th></th>\n",
       "      <th>Surname</th>\n",
       "      <th>CreditScore</th>\n",
       "      <th>Geography</th>\n",
       "      <th>Gender</th>\n",
       "      <th>Age</th>\n",
       "      <th>Tenure</th>\n",
       "      <th>Balance</th>\n",
       "      <th>Num Of Products</th>\n",
       "      <th>Has Credit Card</th>\n",
       "      <th>Is Active Member</th>\n",
       "      <th>Estimated Salary</th>\n",
       "      <th>Churn</th>\n",
       "      <th>Zero Balance</th>\n",
       "    </tr>\n",
       "    <tr>\n",
       "      <th>CustomerId</th>\n",
       "      <th></th>\n",
       "      <th></th>\n",
       "      <th></th>\n",
       "      <th></th>\n",
       "      <th></th>\n",
       "      <th></th>\n",
       "      <th></th>\n",
       "      <th></th>\n",
       "      <th></th>\n",
       "      <th></th>\n",
       "      <th></th>\n",
       "      <th></th>\n",
       "      <th></th>\n",
       "    </tr>\n",
       "  </thead>\n",
       "  <tbody>\n",
       "    <tr>\n",
       "      <th>15634602</th>\n",
       "      <td>Hargrave</td>\n",
       "      <td>619</td>\n",
       "      <td>2</td>\n",
       "      <td>0</td>\n",
       "      <td>42</td>\n",
       "      <td>2</td>\n",
       "      <td>0.00</td>\n",
       "      <td>0</td>\n",
       "      <td>1</td>\n",
       "      <td>1</td>\n",
       "      <td>101348.88</td>\n",
       "      <td>1</td>\n",
       "      <td>0</td>\n",
       "    </tr>\n",
       "    <tr>\n",
       "      <th>15647311</th>\n",
       "      <td>Hill</td>\n",
       "      <td>608</td>\n",
       "      <td>0</td>\n",
       "      <td>0</td>\n",
       "      <td>41</td>\n",
       "      <td>1</td>\n",
       "      <td>83807.86</td>\n",
       "      <td>0</td>\n",
       "      <td>0</td>\n",
       "      <td>1</td>\n",
       "      <td>112542.58</td>\n",
       "      <td>0</td>\n",
       "      <td>1</td>\n",
       "    </tr>\n",
       "    <tr>\n",
       "      <th>15619304</th>\n",
       "      <td>Onio</td>\n",
       "      <td>502</td>\n",
       "      <td>2</td>\n",
       "      <td>0</td>\n",
       "      <td>42</td>\n",
       "      <td>8</td>\n",
       "      <td>159660.80</td>\n",
       "      <td>1</td>\n",
       "      <td>1</td>\n",
       "      <td>0</td>\n",
       "      <td>113931.57</td>\n",
       "      <td>1</td>\n",
       "      <td>1</td>\n",
       "    </tr>\n",
       "    <tr>\n",
       "      <th>15701354</th>\n",
       "      <td>Boni</td>\n",
       "      <td>699</td>\n",
       "      <td>2</td>\n",
       "      <td>0</td>\n",
       "      <td>39</td>\n",
       "      <td>1</td>\n",
       "      <td>0.00</td>\n",
       "      <td>1</td>\n",
       "      <td>0</td>\n",
       "      <td>0</td>\n",
       "      <td>93826.63</td>\n",
       "      <td>0</td>\n",
       "      <td>0</td>\n",
       "    </tr>\n",
       "    <tr>\n",
       "      <th>15737888</th>\n",
       "      <td>Mitchell</td>\n",
       "      <td>850</td>\n",
       "      <td>0</td>\n",
       "      <td>0</td>\n",
       "      <td>43</td>\n",
       "      <td>2</td>\n",
       "      <td>125510.82</td>\n",
       "      <td>0</td>\n",
       "      <td>1</td>\n",
       "      <td>1</td>\n",
       "      <td>79084.10</td>\n",
       "      <td>0</td>\n",
       "      <td>1</td>\n",
       "    </tr>\n",
       "  </tbody>\n",
       "</table>\n",
       "</div>"
      ],
      "text/plain": [
       "             Surname  CreditScore  Geography  Gender  Age  Tenure    Balance  \\\n",
       "CustomerId                                                                     \n",
       "15634602    Hargrave          619          2       0   42       2       0.00   \n",
       "15647311        Hill          608          0       0   41       1   83807.86   \n",
       "15619304        Onio          502          2       0   42       8  159660.80   \n",
       "15701354        Boni          699          2       0   39       1       0.00   \n",
       "15737888    Mitchell          850          0       0   43       2  125510.82   \n",
       "\n",
       "            Num Of Products  Has Credit Card  Is Active Member  \\\n",
       "CustomerId                                                       \n",
       "15634602                  0                1                 1   \n",
       "15647311                  0                0                 1   \n",
       "15619304                  1                1                 0   \n",
       "15701354                  1                0                 0   \n",
       "15737888                  0                1                 1   \n",
       "\n",
       "            Estimated Salary  Churn  Zero Balance  \n",
       "CustomerId                                         \n",
       "15634602           101348.88      1             0  \n",
       "15647311           112542.58      0             1  \n",
       "15619304           113931.57      1             1  \n",
       "15701354            93826.63      0             0  \n",
       "15737888            79084.10      0             1  "
      ]
     },
     "execution_count": 24,
     "metadata": {},
     "output_type": "execute_result"
    }
   ],
   "source": [
    "df.head()"
   ]
  },
  {
   "cell_type": "code",
   "execution_count": 25,
   "id": "9614b979",
   "metadata": {
    "execution": {
     "iopub.execute_input": "2024-07-03T17:52:56.043777Z",
     "iopub.status.busy": "2024-07-03T17:52:56.042989Z",
     "iopub.status.idle": "2024-07-03T17:52:56.048251Z",
     "shell.execute_reply": "2024-07-03T17:52:56.047079Z"
    },
    "papermill": {
     "duration": 0.037114,
     "end_time": "2024-07-03T17:52:56.050914",
     "exception": false,
     "start_time": "2024-07-03T17:52:56.013800",
     "status": "completed"
    },
    "tags": []
   },
   "outputs": [],
   "source": [
    "Y=df['Churn']"
   ]
  },
  {
   "cell_type": "markdown",
   "id": "2fe42412",
   "metadata": {
    "papermill": {
     "duration": 0.027744,
     "end_time": "2024-07-03T17:52:56.108640",
     "exception": false,
     "start_time": "2024-07-03T17:52:56.080896",
     "status": "completed"
    },
    "tags": []
   },
   "source": [
    "Define Target Variable (y) and Feature Variables (X)"
   ]
  },
  {
   "cell_type": "markdown",
   "id": "f994aabe",
   "metadata": {
    "papermill": {
     "duration": 0.027849,
     "end_time": "2024-07-03T17:52:56.164562",
     "exception": false,
     "start_time": "2024-07-03T17:52:56.136713",
     "status": "completed"
    },
    "tags": []
   },
   "source": [
    "Surname does not participate in prediction and churn is the target feature so we drop them in X"
   ]
  },
  {
   "cell_type": "code",
   "execution_count": 26,
   "id": "fd57acdb",
   "metadata": {
    "execution": {
     "iopub.execute_input": "2024-07-03T17:52:56.221862Z",
     "iopub.status.busy": "2024-07-03T17:52:56.220902Z",
     "iopub.status.idle": "2024-07-03T17:52:56.229191Z",
     "shell.execute_reply": "2024-07-03T17:52:56.228148Z"
    },
    "papermill": {
     "duration": 0.039813,
     "end_time": "2024-07-03T17:52:56.231895",
     "exception": false,
     "start_time": "2024-07-03T17:52:56.192082",
     "status": "completed"
    },
    "tags": []
   },
   "outputs": [],
   "source": [
    "X=df.drop(['Surname','Churn'],axis=1)"
   ]
  },
  {
   "cell_type": "code",
   "execution_count": 27,
   "id": "495c7d12",
   "metadata": {
    "execution": {
     "iopub.execute_input": "2024-07-03T17:52:56.293033Z",
     "iopub.status.busy": "2024-07-03T17:52:56.292637Z",
     "iopub.status.idle": "2024-07-03T17:52:56.300271Z",
     "shell.execute_reply": "2024-07-03T17:52:56.298979Z"
    },
    "papermill": {
     "duration": 0.041394,
     "end_time": "2024-07-03T17:52:56.302551",
     "exception": false,
     "start_time": "2024-07-03T17:52:56.261157",
     "status": "completed"
    },
    "tags": []
   },
   "outputs": [
    {
     "data": {
      "text/plain": [
       "((10000, 11), (10000,))"
      ]
     },
     "execution_count": 27,
     "metadata": {},
     "output_type": "execute_result"
    }
   ],
   "source": [
    "X.shape,Y.shape"
   ]
  },
  {
   "cell_type": "code",
   "execution_count": 28,
   "id": "741af11a",
   "metadata": {
    "execution": {
     "iopub.execute_input": "2024-07-03T17:52:56.360438Z",
     "iopub.status.busy": "2024-07-03T17:52:56.360008Z",
     "iopub.status.idle": "2024-07-03T17:52:56.368887Z",
     "shell.execute_reply": "2024-07-03T17:52:56.367593Z"
    },
    "papermill": {
     "duration": 0.04084,
     "end_time": "2024-07-03T17:52:56.371405",
     "exception": false,
     "start_time": "2024-07-03T17:52:56.330565",
     "status": "completed"
    },
    "tags": []
   },
   "outputs": [
    {
     "data": {
      "text/plain": [
       "Churn\n",
       "0    7963\n",
       "1    2037\n",
       "Name: count, dtype: int64"
      ]
     },
     "execution_count": 28,
     "metadata": {},
     "output_type": "execute_result"
    }
   ],
   "source": [
    "df['Churn'].value_counts()"
   ]
  },
  {
   "cell_type": "code",
   "execution_count": 29,
   "id": "a5a08345",
   "metadata": {
    "execution": {
     "iopub.execute_input": "2024-07-03T17:52:56.431654Z",
     "iopub.status.busy": "2024-07-03T17:52:56.430669Z",
     "iopub.status.idle": "2024-07-03T17:52:56.602607Z",
     "shell.execute_reply": "2024-07-03T17:52:56.601406Z"
    },
    "papermill": {
     "duration": 0.205026,
     "end_time": "2024-07-03T17:52:56.605172",
     "exception": false,
     "start_time": "2024-07-03T17:52:56.400146",
     "status": "completed"
    },
    "tags": []
   },
   "outputs": [
    {
     "data": {
      "text/plain": [
       "<Axes: xlabel='Churn', ylabel='count'>"
      ]
     },
     "execution_count": 29,
     "metadata": {},
     "output_type": "execute_result"
    },
    {
     "data": {
      "image/png": "[encoded data removed]",
      "text/plain": [
       "<Figure size 640x480 with 1 Axes>"
      ]
     },
     "metadata": {},
     "output_type": "display_data"
    }
   ],
   "source": [
    "sns.countplot(x='Churn',data=df)"
   ]
  },
  {
   "cell_type": "markdown",
   "id": "5fd30bd9",
   "metadata": {
    "papermill": {
     "duration": 0.027996,
     "end_time": "2024-07-03T17:52:56.661602",
     "exception": false,
     "start_time": "2024-07-03T17:52:56.633606",
     "status": "completed"
    },
    "tags": []
   },
   "source": [
    "Performing Random Under Sampling Method"
   ]
  },
  {
   "cell_type": "code",
   "execution_count": 30,
   "id": "d40ea51c",
   "metadata": {
    "execution": {
     "iopub.execute_input": "2024-07-03T17:52:56.722871Z",
     "iopub.status.busy": "2024-07-03T17:52:56.722445Z",
     "iopub.status.idle": "2024-07-03T17:52:57.458874Z",
     "shell.execute_reply": "2024-07-03T17:52:57.457612Z"
    },
    "papermill": {
     "duration": 0.770455,
     "end_time": "2024-07-03T17:52:57.461422",
     "exception": false,
     "start_time": "2024-07-03T17:52:56.690967",
     "status": "completed"
    },
    "tags": []
   },
   "outputs": [],
   "source": [
    "from imblearn.under_sampling import RandomUnderSampler"
   ]
  },
  {
   "cell_type": "code",
   "execution_count": 31,
   "id": "495ff3f6",
   "metadata": {
    "execution": {
     "iopub.execute_input": "2024-07-03T17:52:57.520205Z",
     "iopub.status.busy": "2024-07-03T17:52:57.519556Z",
     "iopub.status.idle": "2024-07-03T17:52:57.525226Z",
     "shell.execute_reply": "2024-07-03T17:52:57.524108Z"
    },
    "papermill": {
     "duration": 0.037799,
     "end_time": "2024-07-03T17:52:57.527480",
     "exception": false,
     "start_time": "2024-07-03T17:52:57.489681",
     "status": "completed"
    },
    "tags": []
   },
   "outputs": [],
   "source": [
    "rus=RandomUnderSampler(random_state=2529)"
   ]
  },
  {
   "cell_type": "code",
   "execution_count": 32,
   "id": "04b2be9f",
   "metadata": {
    "execution": {
     "iopub.execute_input": "2024-07-03T17:52:57.586265Z",
     "iopub.status.busy": "2024-07-03T17:52:57.585577Z",
     "iopub.status.idle": "2024-07-03T17:52:57.600276Z",
     "shell.execute_reply": "2024-07-03T17:52:57.599211Z"
    },
    "papermill": {
     "duration": 0.046957,
     "end_time": "2024-07-03T17:52:57.602952",
     "exception": false,
     "start_time": "2024-07-03T17:52:57.555995",
     "status": "completed"
    },
    "tags": []
   },
   "outputs": [],
   "source": [
    "X_rus,Y_rus=rus.fit_resample(X,Y)"
   ]
  },
  {
   "cell_type": "code",
   "execution_count": 33,
   "id": "8ee63dc5",
   "metadata": {
    "execution": {
     "iopub.execute_input": "2024-07-03T17:52:57.662029Z",
     "iopub.status.busy": "2024-07-03T17:52:57.661277Z",
     "iopub.status.idle": "2024-07-03T17:52:57.668911Z",
     "shell.execute_reply": "2024-07-03T17:52:57.667791Z"
    },
    "papermill": {
     "duration": 0.039339,
     "end_time": "2024-07-03T17:52:57.670993",
     "exception": false,
     "start_time": "2024-07-03T17:52:57.631654",
     "status": "completed"
    },
    "tags": []
   },
   "outputs": [
    {
     "data": {
      "text/plain": [
       "[[(4074, 11), (4074,)], [(10000, 11), (10000,)]]"
      ]
     },
     "execution_count": 33,
     "metadata": {},
     "output_type": "execute_result"
    }
   ],
   "source": [
    "[[X_rus.shape,Y_rus.shape],[X.shape,Y.shape]]"
   ]
  },
  {
   "cell_type": "code",
   "execution_count": 34,
   "id": "c85cfdef",
   "metadata": {
    "execution": {
     "iopub.execute_input": "2024-07-03T17:52:57.747044Z",
     "iopub.status.busy": "2024-07-03T17:52:57.746611Z",
     "iopub.status.idle": "2024-07-03T17:52:57.755436Z",
     "shell.execute_reply": "2024-07-03T17:52:57.754359Z"
    },
    "papermill": {
     "duration": 0.04752,
     "end_time": "2024-07-03T17:52:57.757434",
     "exception": false,
     "start_time": "2024-07-03T17:52:57.709914",
     "status": "completed"
    },
    "tags": []
   },
   "outputs": [
    {
     "data": {
      "text/plain": [
       "Churn\n",
       "0    2037\n",
       "1    2037\n",
       "Name: count, dtype: int64"
      ]
     },
     "execution_count": 34,
     "metadata": {},
     "output_type": "execute_result"
    }
   ],
   "source": [
    "Y.value_counts()\n",
    "Y_rus.value_counts()\n"
   ]
  },
  {
   "cell_type": "code",
   "execution_count": 35,
   "id": "898fced0",
   "metadata": {
    "execution": {
     "iopub.execute_input": "2024-07-03T17:52:57.818304Z",
     "iopub.status.busy": "2024-07-03T17:52:57.817933Z",
     "iopub.status.idle": "2024-07-03T17:52:58.111149Z",
     "shell.execute_reply": "2024-07-03T17:52:58.110070Z"
    },
    "papermill": {
     "duration": 0.326833,
     "end_time": "2024-07-03T17:52:58.113490",
     "exception": false,
     "start_time": "2024-07-03T17:52:57.786657",
     "status": "completed"
    },
    "tags": []
   },
   "outputs": [
    {
     "data": {
      "text/plain": [
       "<Axes: ylabel='Frequency'>"
      ]
     },
     "execution_count": 35,
     "metadata": {},
     "output_type": "execute_result"
    },
    {
     "data": {
      "image/png": "[encoded data removed]",
      "text/plain": [
       "<Figure size 640x480 with 1 Axes>"
      ]
     },
     "metadata": {},
     "output_type": "display_data"
    }
   ],
   "source": [
    "Y_rus.plot(kind='hist')"
   ]
  },
  {
   "cell_type": "markdown",
   "id": "f7151c85",
   "metadata": {
    "papermill": {
     "duration": 0.034256,
     "end_time": "2024-07-03T17:52:58.180707",
     "exception": false,
     "start_time": "2024-07-03T17:52:58.146451",
     "status": "completed"
    },
    "tags": []
   },
   "source": [
    "Performing Random Over Sampling Method"
   ]
  },
  {
   "cell_type": "code",
   "execution_count": 36,
   "id": "796e26a0",
   "metadata": {
    "execution": {
     "iopub.execute_input": "2024-07-03T17:52:58.244979Z",
     "iopub.status.busy": "2024-07-03T17:52:58.243932Z",
     "iopub.status.idle": "2024-07-03T17:52:58.249130Z",
     "shell.execute_reply": "2024-07-03T17:52:58.248057Z"
    },
    "papermill": {
     "duration": 0.040548,
     "end_time": "2024-07-03T17:52:58.251499",
     "exception": false,
     "start_time": "2024-07-03T17:52:58.210951",
     "status": "completed"
    },
    "tags": []
   },
   "outputs": [],
   "source": [
    "from imblearn.over_sampling import RandomOverSampler"
   ]
  },
  {
   "cell_type": "code",
   "execution_count": 37,
   "id": "d9a509ec",
   "metadata": {
    "execution": {
     "iopub.execute_input": "2024-07-03T17:52:58.314444Z",
     "iopub.status.busy": "2024-07-03T17:52:58.314031Z",
     "iopub.status.idle": "2024-07-03T17:52:58.319127Z",
     "shell.execute_reply": "2024-07-03T17:52:58.318014Z"
    },
    "papermill": {
     "duration": 0.038653,
     "end_time": "2024-07-03T17:52:58.321391",
     "exception": false,
     "start_time": "2024-07-03T17:52:58.282738",
     "status": "completed"
    },
    "tags": []
   },
   "outputs": [],
   "source": [
    "ros=RandomOverSampler(random_state=2529)"
   ]
  },
  {
   "cell_type": "code",
   "execution_count": 38,
   "id": "042ebb13",
   "metadata": {
    "execution": {
     "iopub.execute_input": "2024-07-03T17:52:58.382197Z",
     "iopub.status.busy": "2024-07-03T17:52:58.381522Z",
     "iopub.status.idle": "2024-07-03T17:52:58.403238Z",
     "shell.execute_reply": "2024-07-03T17:52:58.401757Z"
    },
    "papermill": {
     "duration": 0.055091,
     "end_time": "2024-07-03T17:52:58.405888",
     "exception": false,
     "start_time": "2024-07-03T17:52:58.350797",
     "status": "completed"
    },
    "tags": []
   },
   "outputs": [],
   "source": [
    "X_ros,Y_ros=ros.fit_resample(X,Y)"
   ]
  },
  {
   "cell_type": "code",
   "execution_count": 39,
   "id": "decc4f0d",
   "metadata": {
    "execution": {
     "iopub.execute_input": "2024-07-03T17:52:58.465981Z",
     "iopub.status.busy": "2024-07-03T17:52:58.465576Z",
     "iopub.status.idle": "2024-07-03T17:52:58.473004Z",
     "shell.execute_reply": "2024-07-03T17:52:58.471896Z"
    },
    "papermill": {
     "duration": 0.040061,
     "end_time": "2024-07-03T17:52:58.475252",
     "exception": false,
     "start_time": "2024-07-03T17:52:58.435191",
     "status": "completed"
    },
    "tags": []
   },
   "outputs": [
    {
     "data": {
      "text/plain": [
       "[[(15926, 11), (15926,)], [(10000, 11), (10000,)]]"
      ]
     },
     "execution_count": 39,
     "metadata": {},
     "output_type": "execute_result"
    }
   ],
   "source": [
    "[[X_ros.shape,Y_ros.shape],[X.shape,Y.shape]]"
   ]
  },
  {
   "cell_type": "code",
   "execution_count": 40,
   "id": "bfd40388",
   "metadata": {
    "execution": {
     "iopub.execute_input": "2024-07-03T17:52:58.536753Z",
     "iopub.status.busy": "2024-07-03T17:52:58.536004Z",
     "iopub.status.idle": "2024-07-03T17:52:58.544928Z",
     "shell.execute_reply": "2024-07-03T17:52:58.543881Z"
    },
    "papermill": {
     "duration": 0.042576,
     "end_time": "2024-07-03T17:52:58.547336",
     "exception": false,
     "start_time": "2024-07-03T17:52:58.504760",
     "status": "completed"
    },
    "tags": []
   },
   "outputs": [
    {
     "data": {
      "text/plain": [
       "Churn\n",
       "1    7963\n",
       "0    7963\n",
       "Name: count, dtype: int64"
      ]
     },
     "execution_count": 40,
     "metadata": {},
     "output_type": "execute_result"
    }
   ],
   "source": [
    "Y.value_counts()\n",
    "Y_ros.value_counts()\n"
   ]
  },
  {
   "cell_type": "code",
   "execution_count": 41,
   "id": "9324ccde",
   "metadata": {
    "execution": {
     "iopub.execute_input": "2024-07-03T17:52:58.607479Z",
     "iopub.status.busy": "2024-07-03T17:52:58.607083Z",
     "iopub.status.idle": "2024-07-03T17:52:58.855330Z",
     "shell.execute_reply": "2024-07-03T17:52:58.854008Z"
    },
    "papermill": {
     "duration": 0.28107,
     "end_time": "2024-07-03T17:52:58.857805",
     "exception": false,
     "start_time": "2024-07-03T17:52:58.576735",
     "status": "completed"
    },
    "tags": []
   },
   "outputs": [
    {
     "data": {
      "text/plain": [
       "<Axes: ylabel='Frequency'>"
      ]
     },
     "execution_count": 41,
     "metadata": {},
     "output_type": "execute_result"
    },
    {
     "data": {
      "image/png": "[encoded data removed]",
      "text/plain": [
       "<Figure size 640x480 with 1 Axes>"
      ]
     },
     "metadata": {},
     "output_type": "display_data"
    }
   ],
   "source": [
    "Y_ros.plot(kind='hist')"
   ]
  },
  {
   "cell_type": "markdown",
   "id": "ff65ee0a",
   "metadata": {
    "papermill": {
     "duration": 0.030145,
     "end_time": "2024-07-03T17:52:58.917523",
     "exception": false,
     "start_time": "2024-07-03T17:52:58.887378",
     "status": "completed"
    },
    "tags": []
   },
   "source": [
    "Train Test Split"
   ]
  },
  {
   "cell_type": "code",
   "execution_count": 42,
   "id": "1543584c",
   "metadata": {
    "execution": {
     "iopub.execute_input": "2024-07-03T17:52:58.978421Z",
     "iopub.status.busy": "2024-07-03T17:52:58.978025Z",
     "iopub.status.idle": "2024-07-03T17:52:58.983033Z",
     "shell.execute_reply": "2024-07-03T17:52:58.981935Z"
    },
    "papermill": {
     "duration": 0.038453,
     "end_time": "2024-07-03T17:52:58.985450",
     "exception": false,
     "start_time": "2024-07-03T17:52:58.946997",
     "status": "completed"
    },
    "tags": []
   },
   "outputs": [],
   "source": [
    "from sklearn.model_selection import train_test_split"
   ]
  },
  {
   "cell_type": "markdown",
   "id": "0144c261",
   "metadata": {
    "papermill": {
     "duration": 0.04781,
     "end_time": "2024-07-03T17:52:59.069116",
     "exception": false,
     "start_time": "2024-07-03T17:52:59.021306",
     "status": "completed"
    },
    "tags": []
   },
   "source": [
    "Spliting The Actual Data first"
   ]
  },
  {
   "cell_type": "code",
   "execution_count": 43,
   "id": "5b5a95c5",
   "metadata": {
    "execution": {
     "iopub.execute_input": "2024-07-03T17:52:59.134103Z",
     "iopub.status.busy": "2024-07-03T17:52:59.133690Z",
     "iopub.status.idle": "2024-07-03T17:52:59.142618Z",
     "shell.execute_reply": "2024-07-03T17:52:59.141555Z"
    },
    "papermill": {
     "duration": 0.042533,
     "end_time": "2024-07-03T17:52:59.144989",
     "exception": false,
     "start_time": "2024-07-03T17:52:59.102456",
     "status": "completed"
    },
    "tags": []
   },
   "outputs": [],
   "source": [
    "X_train,X_test,Y_train,Y_test=train_test_split(X,Y,test_size=0.3,random_state=2529)"
   ]
  },
  {
   "cell_type": "markdown",
   "id": "2a505406",
   "metadata": {
    "papermill": {
     "duration": 0.0299,
     "end_time": "2024-07-03T17:52:59.206032",
     "exception": false,
     "start_time": "2024-07-03T17:52:59.176132",
     "status": "completed"
    },
    "tags": []
   },
   "source": [
    "Spliting The Random Over Sampled Data"
   ]
  },
  {
   "cell_type": "code",
   "execution_count": 44,
   "id": "73403e03",
   "metadata": {
    "execution": {
     "iopub.execute_input": "2024-07-03T17:52:59.268029Z",
     "iopub.status.busy": "2024-07-03T17:52:59.267623Z",
     "iopub.status.idle": "2024-07-03T17:52:59.277581Z",
     "shell.execute_reply": "2024-07-03T17:52:59.276409Z"
    },
    "papermill": {
     "duration": 0.043843,
     "end_time": "2024-07-03T17:52:59.280024",
     "exception": false,
     "start_time": "2024-07-03T17:52:59.236181",
     "status": "completed"
    },
    "tags": []
   },
   "outputs": [],
   "source": [
    "X_train_ros,X_test_ros,Y_train_ros,Y_test_ros=train_test_split(X_ros,Y_ros,test_size=0.3,random_state=2529)"
   ]
  },
  {
   "cell_type": "markdown",
   "id": "219c934a",
   "metadata": {
    "papermill": {
     "duration": 0.029502,
     "end_time": "2024-07-03T17:52:59.341279",
     "exception": false,
     "start_time": "2024-07-03T17:52:59.311777",
     "status": "completed"
    },
    "tags": []
   },
   "source": [
    "Spliting The Random Under Sampled Data"
   ]
  },
  {
   "cell_type": "code",
   "execution_count": 45,
   "id": "b8917136",
   "metadata": {
    "execution": {
     "iopub.execute_input": "2024-07-03T17:52:59.403316Z",
     "iopub.status.busy": "2024-07-03T17:52:59.402222Z",
     "iopub.status.idle": "2024-07-03T17:52:59.411896Z",
     "shell.execute_reply": "2024-07-03T17:52:59.410760Z"
    },
    "papermill": {
     "duration": 0.043416,
     "end_time": "2024-07-03T17:52:59.414549",
     "exception": false,
     "start_time": "2024-07-03T17:52:59.371133",
     "status": "completed"
    },
    "tags": []
   },
   "outputs": [],
   "source": [
    "X_train_rus,X_test_rus,Y_train_rus,Y_test_rus=train_test_split(X_rus,Y_rus,test_size=0.3,random_state=2529)"
   ]
  },
  {
   "cell_type": "markdown",
   "id": "4f372546",
   "metadata": {
    "papermill": {
     "duration": 0.030288,
     "end_time": "2024-07-03T17:52:59.475742",
     "exception": false,
     "start_time": "2024-07-03T17:52:59.445454",
     "status": "completed"
    },
    "tags": []
   },
   "source": [
    "Standarizing Feautures"
   ]
  },
  {
   "cell_type": "code",
   "execution_count": 46,
   "id": "f8c45c22",
   "metadata": {
    "execution": {
     "iopub.execute_input": "2024-07-03T17:52:59.538053Z",
     "iopub.status.busy": "2024-07-03T17:52:59.537635Z",
     "iopub.status.idle": "2024-07-03T17:52:59.543029Z",
     "shell.execute_reply": "2024-07-03T17:52:59.541715Z"
    },
    "papermill": {
     "duration": 0.039474,
     "end_time": "2024-07-03T17:52:59.545565",
     "exception": false,
     "start_time": "2024-07-03T17:52:59.506091",
     "status": "completed"
    },
    "tags": []
   },
   "outputs": [],
   "source": [
    "from sklearn.preprocessing import StandardScaler"
   ]
  },
  {
   "cell_type": "code",
   "execution_count": 47,
   "id": "58d010b3",
   "metadata": {
    "execution": {
     "iopub.execute_input": "2024-07-03T17:52:59.606772Z",
     "iopub.status.busy": "2024-07-03T17:52:59.606352Z",
     "iopub.status.idle": "2024-07-03T17:52:59.611452Z",
     "shell.execute_reply": "2024-07-03T17:52:59.610160Z"
    },
    "papermill": {
     "duration": 0.038063,
     "end_time": "2024-07-03T17:52:59.613572",
     "exception": false,
     "start_time": "2024-07-03T17:52:59.575509",
     "status": "completed"
    },
    "tags": []
   },
   "outputs": [],
   "source": [
    "sc=StandardScaler()"
   ]
  },
  {
   "cell_type": "code",
   "execution_count": 48,
   "id": "b4d3c8bd",
   "metadata": {
    "execution": {
     "iopub.execute_input": "2024-07-03T17:52:59.675154Z",
     "iopub.status.busy": "2024-07-03T17:52:59.674740Z",
     "iopub.status.idle": "2024-07-03T17:52:59.692400Z",
     "shell.execute_reply": "2024-07-03T17:52:59.691224Z"
    },
    "papermill": {
     "duration": 0.051099,
     "end_time": "2024-07-03T17:52:59.694761",
     "exception": false,
     "start_time": "2024-07-03T17:52:59.643662",
     "status": "completed"
    },
    "tags": []
   },
   "outputs": [
    {
     "data": {
      "text/html": [
       "<div>\n",
       "<style scoped>\n",
       "    .dataframe tbody tr th:only-of-type {\n",
       "        vertical-align: middle;\n",
       "    }\n",
       "\n",
       "    .dataframe tbody tr th {\n",
       "        vertical-align: top;\n",
       "    }\n",
       "\n",
       "    .dataframe thead th {\n",
       "        text-align: right;\n",
       "    }\n",
       "</style>\n",
       "<table border=\"1\" class=\"dataframe\">\n",
       "  <thead>\n",
       "    <tr style=\"text-align: right;\">\n",
       "      <th></th>\n",
       "      <th>CreditScore</th>\n",
       "      <th>Geography</th>\n",
       "      <th>Gender</th>\n",
       "      <th>Age</th>\n",
       "      <th>Tenure</th>\n",
       "      <th>Balance</th>\n",
       "      <th>Num Of Products</th>\n",
       "      <th>Has Credit Card</th>\n",
       "      <th>Is Active Member</th>\n",
       "      <th>Estimated Salary</th>\n",
       "      <th>Zero Balance</th>\n",
       "    </tr>\n",
       "    <tr>\n",
       "      <th>CustomerId</th>\n",
       "      <th></th>\n",
       "      <th></th>\n",
       "      <th></th>\n",
       "      <th></th>\n",
       "      <th></th>\n",
       "      <th></th>\n",
       "      <th></th>\n",
       "      <th></th>\n",
       "      <th></th>\n",
       "      <th></th>\n",
       "      <th></th>\n",
       "    </tr>\n",
       "  </thead>\n",
       "  <tbody>\n",
       "    <tr>\n",
       "      <th>15771139</th>\n",
       "      <td>578</td>\n",
       "      <td>1</td>\n",
       "      <td>1</td>\n",
       "      <td>34</td>\n",
       "      <td>8</td>\n",
       "      <td>147487.23</td>\n",
       "      <td>1</td>\n",
       "      <td>1</td>\n",
       "      <td>0</td>\n",
       "      <td>66680.77</td>\n",
       "      <td>1</td>\n",
       "    </tr>\n",
       "    <tr>\n",
       "      <th>15713463</th>\n",
       "      <td>645</td>\n",
       "      <td>1</td>\n",
       "      <td>0</td>\n",
       "      <td>41</td>\n",
       "      <td>2</td>\n",
       "      <td>138881.04</td>\n",
       "      <td>0</td>\n",
       "      <td>1</td>\n",
       "      <td>0</td>\n",
       "      <td>129936.53</td>\n",
       "      <td>1</td>\n",
       "    </tr>\n",
       "    <tr>\n",
       "      <th>15570417</th>\n",
       "      <td>579</td>\n",
       "      <td>2</td>\n",
       "      <td>1</td>\n",
       "      <td>35</td>\n",
       "      <td>1</td>\n",
       "      <td>0.00</td>\n",
       "      <td>1</td>\n",
       "      <td>1</td>\n",
       "      <td>0</td>\n",
       "      <td>4460.20</td>\n",
       "      <td>0</td>\n",
       "    </tr>\n",
       "    <tr>\n",
       "      <th>15626243</th>\n",
       "      <td>618</td>\n",
       "      <td>2</td>\n",
       "      <td>1</td>\n",
       "      <td>30</td>\n",
       "      <td>3</td>\n",
       "      <td>133844.22</td>\n",
       "      <td>0</td>\n",
       "      <td>1</td>\n",
       "      <td>1</td>\n",
       "      <td>31406.93</td>\n",
       "      <td>1</td>\n",
       "    </tr>\n",
       "    <tr>\n",
       "      <th>15809178</th>\n",
       "      <td>569</td>\n",
       "      <td>1</td>\n",
       "      <td>0</td>\n",
       "      <td>42</td>\n",
       "      <td>9</td>\n",
       "      <td>146100.75</td>\n",
       "      <td>0</td>\n",
       "      <td>1</td>\n",
       "      <td>0</td>\n",
       "      <td>32574.01</td>\n",
       "      <td>1</td>\n",
       "    </tr>\n",
       "    <tr>\n",
       "      <th>...</th>\n",
       "      <td>...</td>\n",
       "      <td>...</td>\n",
       "      <td>...</td>\n",
       "      <td>...</td>\n",
       "      <td>...</td>\n",
       "      <td>...</td>\n",
       "      <td>...</td>\n",
       "      <td>...</td>\n",
       "      <td>...</td>\n",
       "      <td>...</td>\n",
       "      <td>...</td>\n",
       "    </tr>\n",
       "    <tr>\n",
       "      <th>15723028</th>\n",
       "      <td>778</td>\n",
       "      <td>2</td>\n",
       "      <td>1</td>\n",
       "      <td>33</td>\n",
       "      <td>1</td>\n",
       "      <td>0.00</td>\n",
       "      <td>1</td>\n",
       "      <td>1</td>\n",
       "      <td>0</td>\n",
       "      <td>85439.73</td>\n",
       "      <td>0</td>\n",
       "    </tr>\n",
       "    <tr>\n",
       "      <th>15759284</th>\n",
       "      <td>750</td>\n",
       "      <td>2</td>\n",
       "      <td>0</td>\n",
       "      <td>37</td>\n",
       "      <td>6</td>\n",
       "      <td>0.00</td>\n",
       "      <td>0</td>\n",
       "      <td>1</td>\n",
       "      <td>1</td>\n",
       "      <td>117948.00</td>\n",
       "      <td>0</td>\n",
       "    </tr>\n",
       "    <tr>\n",
       "      <th>15796218</th>\n",
       "      <td>814</td>\n",
       "      <td>1</td>\n",
       "      <td>1</td>\n",
       "      <td>29</td>\n",
       "      <td>1</td>\n",
       "      <td>131968.57</td>\n",
       "      <td>1</td>\n",
       "      <td>1</td>\n",
       "      <td>1</td>\n",
       "      <td>147693.92</td>\n",
       "      <td>1</td>\n",
       "    </tr>\n",
       "    <tr>\n",
       "      <th>15585284</th>\n",
       "      <td>604</td>\n",
       "      <td>0</td>\n",
       "      <td>0</td>\n",
       "      <td>35</td>\n",
       "      <td>7</td>\n",
       "      <td>147285.52</td>\n",
       "      <td>0</td>\n",
       "      <td>1</td>\n",
       "      <td>1</td>\n",
       "      <td>57807.05</td>\n",
       "      <td>1</td>\n",
       "    </tr>\n",
       "    <tr>\n",
       "      <th>15593622</th>\n",
       "      <td>635</td>\n",
       "      <td>2</td>\n",
       "      <td>1</td>\n",
       "      <td>43</td>\n",
       "      <td>10</td>\n",
       "      <td>122198.21</td>\n",
       "      <td>1</td>\n",
       "      <td>0</td>\n",
       "      <td>1</td>\n",
       "      <td>179144.54</td>\n",
       "      <td>1</td>\n",
       "    </tr>\n",
       "  </tbody>\n",
       "</table>\n",
       "<p>7000 rows × 11 columns</p>\n",
       "</div>"
      ],
      "text/plain": [
       "            CreditScore  Geography  Gender  Age  Tenure    Balance  \\\n",
       "CustomerId                                                           \n",
       "15771139            578          1       1   34       8  147487.23   \n",
       "15713463            645          1       0   41       2  138881.04   \n",
       "15570417            579          2       1   35       1       0.00   \n",
       "15626243            618          2       1   30       3  133844.22   \n",
       "15809178            569          1       0   42       9  146100.75   \n",
       "...                 ...        ...     ...  ...     ...        ...   \n",
       "15723028            778          2       1   33       1       0.00   \n",
       "15759284            750          2       0   37       6       0.00   \n",
       "15796218            814          1       1   29       1  131968.57   \n",
       "15585284            604          0       0   35       7  147285.52   \n",
       "15593622            635          2       1   43      10  122198.21   \n",
       "\n",
       "            Num Of Products  Has Credit Card  Is Active Member  \\\n",
       "CustomerId                                                       \n",
       "15771139                  1                1                 0   \n",
       "15713463                  0                1                 0   \n",
       "15570417                  1                1                 0   \n",
       "15626243                  0                1                 1   \n",
       "15809178                  0                1                 0   \n",
       "...                     ...              ...               ...   \n",
       "15723028                  1                1                 0   \n",
       "15759284                  0                1                 1   \n",
       "15796218                  1                1                 1   \n",
       "15585284                  0                1                 1   \n",
       "15593622                  1                0                 1   \n",
       "\n",
       "            Estimated Salary  Zero Balance  \n",
       "CustomerId                                  \n",
       "15771139            66680.77             1  \n",
       "15713463           129936.53             1  \n",
       "15570417             4460.20             0  \n",
       "15626243            31406.93             1  \n",
       "15809178            32574.01             1  \n",
       "...                      ...           ...  \n",
       "15723028            85439.73             0  \n",
       "15759284           117948.00             0  \n",
       "15796218           147693.92             1  \n",
       "15585284            57807.05             1  \n",
       "15593622           179144.54             1  \n",
       "\n",
       "[7000 rows x 11 columns]"
      ]
     },
     "execution_count": 48,
     "metadata": {},
     "output_type": "execute_result"
    }
   ],
   "source": [
    "X_train"
   ]
  },
  {
   "cell_type": "markdown",
   "id": "a11d7c7d",
   "metadata": {
    "papermill": {
     "duration": 0.030778,
     "end_time": "2024-07-03T17:52:59.756090",
     "exception": false,
     "start_time": "2024-07-03T17:52:59.725312",
     "status": "completed"
    },
    "tags": []
   },
   "source": [
    "Standardize the Actual Data"
   ]
  },
  {
   "cell_type": "code",
   "execution_count": 49,
   "id": "83a97dea",
   "metadata": {
    "execution": {
     "iopub.execute_input": "2024-07-03T17:52:59.818610Z",
     "iopub.status.busy": "2024-07-03T17:52:59.818247Z",
     "iopub.status.idle": "2024-07-03T17:52:59.831084Z",
     "shell.execute_reply": "2024-07-03T17:52:59.829930Z"
    },
    "papermill": {
     "duration": 0.047683,
     "end_time": "2024-07-03T17:52:59.834230",
     "exception": false,
     "start_time": "2024-07-03T17:52:59.786547",
     "status": "completed"
    },
    "tags": []
   },
   "outputs": [],
   "source": [
    "X_train[['CreditScore','Age','Tenure','Balance','Estimated Salary']]=sc.fit_transform(X_train[['CreditScore','Age','Tenure','Balance','Estimated Salary']])"
   ]
  },
  {
   "cell_type": "code",
   "execution_count": 50,
   "id": "2dabfedc",
   "metadata": {
    "execution": {
     "iopub.execute_input": "2024-07-03T17:52:59.896922Z",
     "iopub.status.busy": "2024-07-03T17:52:59.896528Z",
     "iopub.status.idle": "2024-07-03T17:52:59.908535Z",
     "shell.execute_reply": "2024-07-03T17:52:59.907284Z"
    },
    "papermill": {
     "duration": 0.046098,
     "end_time": "2024-07-03T17:52:59.910960",
     "exception": false,
     "start_time": "2024-07-03T17:52:59.864862",
     "status": "completed"
    },
    "tags": []
   },
   "outputs": [],
   "source": [
    "X_test[['CreditScore','Age','Tenure','Balance','Estimated Salary']]=sc.fit_transform(X_test[['CreditScore','Age','Tenure','Balance','Estimated Salary']])"
   ]
  },
  {
   "cell_type": "markdown",
   "id": "c8111180",
   "metadata": {
    "papermill": {
     "duration": 0.030147,
     "end_time": "2024-07-03T17:52:59.972250",
     "exception": false,
     "start_time": "2024-07-03T17:52:59.942103",
     "status": "completed"
    },
    "tags": []
   },
   "source": [
    "Standardize the random undersampled data"
   ]
  },
  {
   "cell_type": "code",
   "execution_count": 51,
   "id": "06c02200",
   "metadata": {
    "execution": {
     "iopub.execute_input": "2024-07-03T17:53:00.035244Z",
     "iopub.status.busy": "2024-07-03T17:53:00.034242Z",
     "iopub.status.idle": "2024-07-03T17:53:00.045056Z",
     "shell.execute_reply": "2024-07-03T17:53:00.043988Z"
    },
    "papermill": {
     "duration": 0.045038,
     "end_time": "2024-07-03T17:53:00.047501",
     "exception": false,
     "start_time": "2024-07-03T17:53:00.002463",
     "status": "completed"
    },
    "tags": []
   },
   "outputs": [],
   "source": [
    "X_train_rus[['CreditScore','Age','Tenure','Balance','Estimated Salary']]=sc.fit_transform(X_train_rus[['CreditScore','Age','Tenure','Balance','Estimated Salary']])"
   ]
  },
  {
   "cell_type": "code",
   "execution_count": 52,
   "id": "209aa271",
   "metadata": {
    "execution": {
     "iopub.execute_input": "2024-07-03T17:53:00.109976Z",
     "iopub.status.busy": "2024-07-03T17:53:00.109453Z",
     "iopub.status.idle": "2024-07-03T17:53:00.120430Z",
     "shell.execute_reply": "2024-07-03T17:53:00.119272Z"
    },
    "papermill": {
     "duration": 0.045038,
     "end_time": "2024-07-03T17:53:00.123008",
     "exception": false,
     "start_time": "2024-07-03T17:53:00.077970",
     "status": "completed"
    },
    "tags": []
   },
   "outputs": [],
   "source": [
    "X_test_rus[['CreditScore','Age','Tenure','Balance','Estimated Salary']]=sc.fit_transform(X_test_rus[['CreditScore','Age','Tenure','Balance','Estimated Salary']])"
   ]
  },
  {
   "cell_type": "markdown",
   "id": "a3202d42",
   "metadata": {
    "papermill": {
     "duration": 0.029771,
     "end_time": "2024-07-03T17:53:00.183480",
     "exception": false,
     "start_time": "2024-07-03T17:53:00.153709",
     "status": "completed"
    },
    "tags": []
   },
   "source": [
    "Standardize the random Oversampled data"
   ]
  },
  {
   "cell_type": "code",
   "execution_count": 53,
   "id": "dc61d907",
   "metadata": {
    "execution": {
     "iopub.execute_input": "2024-07-03T17:53:00.245562Z",
     "iopub.status.busy": "2024-07-03T17:53:00.245124Z",
     "iopub.status.idle": "2024-07-03T17:53:00.257554Z",
     "shell.execute_reply": "2024-07-03T17:53:00.256462Z"
    },
    "papermill": {
     "duration": 0.046724,
     "end_time": "2024-07-03T17:53:00.260215",
     "exception": false,
     "start_time": "2024-07-03T17:53:00.213491",
     "status": "completed"
    },
    "tags": []
   },
   "outputs": [],
   "source": [
    "X_train_ros[['CreditScore','Age','Tenure','Balance','Estimated Salary']]=sc.fit_transform(X_train_ros[['CreditScore','Age','Tenure','Balance','Estimated Salary']])"
   ]
  },
  {
   "cell_type": "code",
   "execution_count": 54,
   "id": "eda471e8",
   "metadata": {
    "execution": {
     "iopub.execute_input": "2024-07-03T17:53:00.325018Z",
     "iopub.status.busy": "2024-07-03T17:53:00.324606Z",
     "iopub.status.idle": "2024-07-03T17:53:00.336817Z",
     "shell.execute_reply": "2024-07-03T17:53:00.335624Z"
    },
    "papermill": {
     "duration": 0.047977,
     "end_time": "2024-07-03T17:53:00.339611",
     "exception": false,
     "start_time": "2024-07-03T17:53:00.291634",
     "status": "completed"
    },
    "tags": []
   },
   "outputs": [],
   "source": [
    "X_test_ros[['CreditScore','Age','Tenure','Balance','Estimated Salary']]=sc.fit_transform(X_test_ros[['CreditScore','Age','Tenure','Balance','Estimated Salary']])"
   ]
  },
  {
   "cell_type": "markdown",
   "id": "6afa6fd3",
   "metadata": {
    "papermill": {
     "duration": 0.031971,
     "end_time": "2024-07-03T17:53:00.402453",
     "exception": false,
     "start_time": "2024-07-03T17:53:00.370482",
     "status": "completed"
    },
    "tags": []
   },
   "source": [
    "Modeling:\n",
    "SVM MODEL used here that is:\n",
    "A support vector machine (SVM) is a type of supervised learning algorithm used in machine learning to solve classification and regression tasks."
   ]
  },
  {
   "cell_type": "code",
   "execution_count": 55,
   "id": "d6403bc2",
   "metadata": {
    "execution": {
     "iopub.execute_input": "2024-07-03T17:53:00.466595Z",
     "iopub.status.busy": "2024-07-03T17:53:00.466221Z",
     "iopub.status.idle": "2024-07-03T17:53:00.471259Z",
     "shell.execute_reply": "2024-07-03T17:53:00.470074Z"
    },
    "papermill": {
     "duration": 0.03966,
     "end_time": "2024-07-03T17:53:00.473506",
     "exception": false,
     "start_time": "2024-07-03T17:53:00.433846",
     "status": "completed"
    },
    "tags": []
   },
   "outputs": [],
   "source": [
    "from sklearn.svm import SVC"
   ]
  },
  {
   "cell_type": "code",
   "execution_count": 56,
   "id": "702ae08e",
   "metadata": {
    "execution": {
     "iopub.execute_input": "2024-07-03T17:53:00.535741Z",
     "iopub.status.busy": "2024-07-03T17:53:00.535375Z",
     "iopub.status.idle": "2024-07-03T17:53:00.540343Z",
     "shell.execute_reply": "2024-07-03T17:53:00.539152Z"
    },
    "papermill": {
     "duration": 0.03919,
     "end_time": "2024-07-03T17:53:00.542938",
     "exception": false,
     "start_time": "2024-07-03T17:53:00.503748",
     "status": "completed"
    },
    "tags": []
   },
   "outputs": [],
   "source": [
    "svm=SVC()"
   ]
  },
  {
   "cell_type": "code",
   "execution_count": 57,
   "id": "04cb3b0c",
   "metadata": {
    "execution": {
     "iopub.execute_input": "2024-07-03T17:53:00.607098Z",
     "iopub.status.busy": "2024-07-03T17:53:00.606689Z",
     "iopub.status.idle": "2024-07-03T17:53:01.878904Z",
     "shell.execute_reply": "2024-07-03T17:53:01.877669Z"
    },
    "papermill": {
     "duration": 1.306739,
     "end_time": "2024-07-03T17:53:01.881614",
     "exception": false,
     "start_time": "2024-07-03T17:53:00.574875",
     "status": "completed"
    },
    "tags": []
   },
   "outputs": [
    {
     "data": {
      "text/html": [
       "<style>#sk-container-id-1 {color: black;background-color: white;}#sk-container-id-1 pre{padding: 0;}#sk-container-id-1 div.sk-toggleable {background-color: white;}#sk-container-id-1 label.sk-toggleable__label {cursor: pointer;display: block;width: 100%;margin-bottom: 0;padding: 0.3em;box-sizing: border-box;text-align: center;}#sk-container-id-1 label.sk-toggleable__label-arrow:before {content: \"▸\";float: left;margin-right: 0.25em;color: #696969;}#sk-container-id-1 label.sk-toggleable__label-arrow:hover:before {color: black;}#sk-container-id-1 div.sk-estimator:hover label.sk-toggleable__label-arrow:before {color: black;}#sk-container-id-1 div.sk-toggleable__content {max-height: 0;max-width: 0;overflow: hidden;text-align: left;background-color: #f0f8ff;}#sk-container-id-1 div.sk-toggleable__content pre {margin: 0.2em;color: black;border-radius: 0.25em;background-color: #f0f8ff;}#sk-container-id-1 input.sk-toggleable__control:checked~div.sk-toggleable__content {max-height: 200px;max-width: 100%;overflow: auto;}#sk-container-id-1 input.sk-toggleable__control:checked~label.sk-toggleable__label-arrow:before {content: \"▾\";}#sk-container-id-1 div.sk-estimator input.sk-toggleable__control:checked~label.sk-toggleable__label {background-color: #d4ebff;}#sk-container-id-1 div.sk-label input.sk-toggleable__control:checked~label.sk-toggleable__label {background-color: #d4ebff;}#sk-container-id-1 input.sk-hidden--visually {border: 0;clip: rect(1px 1px 1px 1px);clip: rect(1px, 1px, 1px, 1px);height: 1px;margin: -1px;overflow: hidden;padding: 0;position: absolute;width: 1px;}#sk-container-id-1 div.sk-estimator {font-family: monospace;background-color: #f0f8ff;border: 1px dotted black;border-radius: 0.25em;box-sizing: border-box;margin-bottom: 0.5em;}#sk-container-id-1 div.sk-estimator:hover {background-color: #d4ebff;}#sk-container-id-1 div.sk-parallel-item::after {content: \"\";width: 100%;border-bottom: 1px solid gray;flex-grow: 1;}#sk-container-id-1 div.sk-label:hover label.sk-toggleable__label {background-color: #d4ebff;}#sk-container-id-1 div.sk-serial::before {content: \"\";position: absolute;border-left: 1px solid gray;box-sizing: border-box;top: 0;bottom: 0;left: 50%;z-index: 0;}#sk-container-id-1 div.sk-serial {display: flex;flex-direction: column;align-items: center;background-color: white;padding-right: 0.2em;padding-left: 0.2em;position: relative;}#sk-container-id-1 div.sk-item {position: relative;z-index: 1;}#sk-container-id-1 div.sk-parallel {display: flex;align-items: stretch;justify-content: center;background-color: white;position: relative;}#sk-container-id-1 div.sk-item::before, #sk-container-id-1 div.sk-parallel-item::before {content: \"\";position: absolute;border-left: 1px solid gray;box-sizing: border-box;top: 0;bottom: 0;left: 50%;z-index: -1;}#sk-container-id-1 div.sk-parallel-item {display: flex;flex-direction: column;z-index: 1;position: relative;background-color: white;}#sk-container-id-1 div.sk-parallel-item:first-child::after {align-self: flex-end;width: 50%;}#sk-container-id-1 div.sk-parallel-item:last-child::after {align-self: flex-start;width: 50%;}#sk-container-id-1 div.sk-parallel-item:only-child::after {width: 0;}#sk-container-id-1 div.sk-dashed-wrapped {border: 1px dashed gray;margin: 0 0.4em 0.5em 0.4em;box-sizing: border-box;padding-bottom: 0.4em;background-color: white;}#sk-container-id-1 div.sk-label label {font-family: monospace;font-weight: bold;display: inline-block;line-height: 1.2em;}#sk-container-id-1 div.sk-label-container {text-align: center;}#sk-container-id-1 div.sk-container {/* jupyter's `normalize.less` sets `[hidden] { display: none; }` but bootstrap.min.css set `[hidden] { display: none !important; }` so we also need the `!important` here to be able to override the default hidden behavior on the sphinx rendered scikit-learn.org. See: https://github.com/scikit-learn/scikit-learn/issues/21755 */display: inline-block !important;position: relative;}#sk-container-id-1 div.sk-text-repr-fallback {display: none;}</style><div id=\"sk-container-id-1\" class=\"sk-top-container\"><div class=\"sk-text-repr-fallback\"><pre>SVC()</pre><b>In a Jupyter environment, please rerun this cell to show the HTML representation or trust the notebook. <br />On GitHub, the HTML representation is unable to render, please try loading this page with nbviewer.org.</b></div><div class=\"sk-container\" hidden><div class=\"sk-item\"><div class=\"sk-estimator sk-toggleable\"><input class=\"sk-toggleable__control sk-hidden--visually\" id=\"sk-estimator-id-1\" type=\"checkbox\" checked><label for=\"sk-estimator-id-1\" class=\"sk-toggleable__label sk-toggleable__label-arrow\">SVC</label><div class=\"sk-toggleable__content\"><pre>SVC()</pre></div></div></div></div></div>"
      ],
      "text/plain": [
       "SVC()"
      ]
     },
     "execution_count": 57,
     "metadata": {},
     "output_type": "execute_result"
    }
   ],
   "source": [
    "svm.fit(X_train,Y_train)"
   ]
  },
  {
   "cell_type": "code",
   "execution_count": 58,
   "id": "2144ea95",
   "metadata": {
    "execution": {
     "iopub.execute_input": "2024-07-03T17:53:01.948790Z",
     "iopub.status.busy": "2024-07-03T17:53:01.948019Z",
     "iopub.status.idle": "2024-07-03T17:53:02.463021Z",
     "shell.execute_reply": "2024-07-03T17:53:02.462020Z"
    },
    "papermill": {
     "duration": 0.552003,
     "end_time": "2024-07-03T17:53:02.465394",
     "exception": false,
     "start_time": "2024-07-03T17:53:01.913391",
     "status": "completed"
    },
    "tags": []
   },
   "outputs": [
    {
     "data": {
      "text/plain": [
       "array([0, 0, 0, ..., 0, 0, 0])"
      ]
     },
     "execution_count": 58,
     "metadata": {},
     "output_type": "execute_result"
    }
   ],
   "source": [
    "Y_pred=svm.predict(X_test)\n",
    "Y_pred"
   ]
  },
  {
   "cell_type": "markdown",
   "id": "c1ad125b",
   "metadata": {
    "papermill": {
     "duration": 0.030431,
     "end_time": "2024-07-03T17:53:02.526340",
     "exception": false,
     "start_time": "2024-07-03T17:53:02.495909",
     "status": "completed"
    },
    "tags": []
   },
   "source": [
    "SVM Performance On Actual Data"
   ]
  },
  {
   "cell_type": "code",
   "execution_count": 59,
   "id": "9a197195",
   "metadata": {
    "execution": {
     "iopub.execute_input": "2024-07-03T17:53:02.589783Z",
     "iopub.status.busy": "2024-07-03T17:53:02.589395Z",
     "iopub.status.idle": "2024-07-03T17:53:02.594483Z",
     "shell.execute_reply": "2024-07-03T17:53:02.593317Z"
    },
    "papermill": {
     "duration": 0.039786,
     "end_time": "2024-07-03T17:53:02.596747",
     "exception": false,
     "start_time": "2024-07-03T17:53:02.556961",
     "status": "completed"
    },
    "tags": []
   },
   "outputs": [],
   "source": [
    "from sklearn.metrics import accuracy_score,confusion_matrix,classification_report"
   ]
  },
  {
   "cell_type": "code",
   "execution_count": 60,
   "id": "a3fa06b3",
   "metadata": {
    "execution": {
     "iopub.execute_input": "2024-07-03T17:53:02.660915Z",
     "iopub.status.busy": "2024-07-03T17:53:02.660524Z",
     "iopub.status.idle": "2024-07-03T17:53:02.670608Z",
     "shell.execute_reply": "2024-07-03T17:53:02.669485Z"
    },
    "papermill": {
     "duration": 0.044953,
     "end_time": "2024-07-03T17:53:02.673198",
     "exception": false,
     "start_time": "2024-07-03T17:53:02.628245",
     "status": "completed"
    },
    "tags": []
   },
   "outputs": [
    {
     "data": {
      "text/plain": [
       "array([[2381,   33],\n",
       "       [ 436,  150]])"
      ]
     },
     "execution_count": 60,
     "metadata": {},
     "output_type": "execute_result"
    }
   ],
   "source": [
    "confusion_matrix(Y_test,Y_pred)"
   ]
  },
  {
   "cell_type": "code",
   "execution_count": 61,
   "id": "194cb342",
   "metadata": {
    "execution": {
     "iopub.execute_input": "2024-07-03T17:53:02.738502Z",
     "iopub.status.busy": "2024-07-03T17:53:02.738010Z",
     "iopub.status.idle": "2024-07-03T17:53:02.755393Z",
     "shell.execute_reply": "2024-07-03T17:53:02.754267Z"
    },
    "papermill": {
     "duration": 0.053036,
     "end_time": "2024-07-03T17:53:02.757874",
     "exception": false,
     "start_time": "2024-07-03T17:53:02.704838",
     "status": "completed"
    },
    "tags": []
   },
   "outputs": [
    {
     "name": "stdout",
     "output_type": "stream",
     "text": [
      "              precision    recall  f1-score   support\n",
      "\n",
      "           0       0.85      0.99      0.91      2414\n",
      "           1       0.82      0.26      0.39       586\n",
      "\n",
      "    accuracy                           0.84      3000\n",
      "   macro avg       0.83      0.62      0.65      3000\n",
      "weighted avg       0.84      0.84      0.81      3000\n",
      "\n"
     ]
    }
   ],
   "source": [
    "print(classification_report(Y_test,Y_pred))"
   ]
  },
  {
   "cell_type": "markdown",
   "id": "a1f37ed1",
   "metadata": {
    "papermill": {
     "duration": 0.03124,
     "end_time": "2024-07-03T17:53:02.819890",
     "exception": false,
     "start_time": "2024-07-03T17:53:02.788650",
     "status": "completed"
    },
    "tags": []
   },
   "source": [
    "SVM Model for Random Under Sampled Data"
   ]
  },
  {
   "cell_type": "code",
   "execution_count": 62,
   "id": "b21aa174",
   "metadata": {
    "execution": {
     "iopub.execute_input": "2024-07-03T17:53:02.883533Z",
     "iopub.status.busy": "2024-07-03T17:53:02.882793Z",
     "iopub.status.idle": "2024-07-03T17:53:02.888158Z",
     "shell.execute_reply": "2024-07-03T17:53:02.886933Z"
    },
    "papermill": {
     "duration": 0.039564,
     "end_time": "2024-07-03T17:53:02.890314",
     "exception": false,
     "start_time": "2024-07-03T17:53:02.850750",
     "status": "completed"
    },
    "tags": []
   },
   "outputs": [],
   "source": [
    "svm1=SVC()"
   ]
  },
  {
   "cell_type": "code",
   "execution_count": 63,
   "id": "e7571cef",
   "metadata": {
    "execution": {
     "iopub.execute_input": "2024-07-03T17:53:02.954531Z",
     "iopub.status.busy": "2024-07-03T17:53:02.954138Z",
     "iopub.status.idle": "2024-07-03T17:53:03.255022Z",
     "shell.execute_reply": "2024-07-03T17:53:03.253891Z"
    },
    "papermill": {
     "duration": 0.336325,
     "end_time": "2024-07-03T17:53:03.257438",
     "exception": false,
     "start_time": "2024-07-03T17:53:02.921113",
     "status": "completed"
    },
    "tags": []
   },
   "outputs": [
    {
     "data": {
      "text/html": [
       "<style>#sk-container-id-2 {color: black;background-color: white;}#sk-container-id-2 pre{padding: 0;}#sk-container-id-2 div.sk-toggleable {background-color: white;}#sk-container-id-2 label.sk-toggleable__label {cursor: pointer;display: block;width: 100%;margin-bottom: 0;padding: 0.3em;box-sizing: border-box;text-align: center;}#sk-container-id-2 label.sk-toggleable__label-arrow:before {content: \"▸\";float: left;margin-right: 0.25em;color: #696969;}#sk-container-id-2 label.sk-toggleable__label-arrow:hover:before {color: black;}#sk-container-id-2 div.sk-estimator:hover label.sk-toggleable__label-arrow:before {color: black;}#sk-container-id-2 div.sk-toggleable__content {max-height: 0;max-width: 0;overflow: hidden;text-align: left;background-color: #f0f8ff;}#sk-container-id-2 div.sk-toggleable__content pre {margin: 0.2em;color: black;border-radius: 0.25em;background-color: #f0f8ff;}#sk-container-id-2 input.sk-toggleable__control:checked~div.sk-toggleable__content {max-height: 200px;max-width: 100%;overflow: auto;}#sk-container-id-2 input.sk-toggleable__control:checked~label.sk-toggleable__label-arrow:before {content: \"▾\";}#sk-container-id-2 div.sk-estimator input.sk-toggleable__control:checked~label.sk-toggleable__label {background-color: #d4ebff;}#sk-container-id-2 div.sk-label input.sk-toggleable__control:checked~label.sk-toggleable__label {background-color: #d4ebff;}#sk-container-id-2 input.sk-hidden--visually {border: 0;clip: rect(1px 1px 1px 1px);clip: rect(1px, 1px, 1px, 1px);height: 1px;margin: -1px;overflow: hidden;padding: 0;position: absolute;width: 1px;}#sk-container-id-2 div.sk-estimator {font-family: monospace;background-color: #f0f8ff;border: 1px dotted black;border-radius: 0.25em;box-sizing: border-box;margin-bottom: 0.5em;}#sk-container-id-2 div.sk-estimator:hover {background-color: #d4ebff;}#sk-container-id-2 div.sk-parallel-item::after {content: \"\";width: 100%;border-bottom: 1px solid gray;flex-grow: 1;}#sk-container-id-2 div.sk-label:hover label.sk-toggleable__label {background-color: #d4ebff;}#sk-container-id-2 div.sk-serial::before {content: \"\";position: absolute;border-left: 1px solid gray;box-sizing: border-box;top: 0;bottom: 0;left: 50%;z-index: 0;}#sk-container-id-2 div.sk-serial {display: flex;flex-direction: column;align-items: center;background-color: white;padding-right: 0.2em;padding-left: 0.2em;position: relative;}#sk-container-id-2 div.sk-item {position: relative;z-index: 1;}#sk-container-id-2 div.sk-parallel {display: flex;align-items: stretch;justify-content: center;background-color: white;position: relative;}#sk-container-id-2 div.sk-item::before, #sk-container-id-2 div.sk-parallel-item::before {content: \"\";position: absolute;border-left: 1px solid gray;box-sizing: border-box;top: 0;bottom: 0;left: 50%;z-index: -1;}#sk-container-id-2 div.sk-parallel-item {display: flex;flex-direction: column;z-index: 1;position: relative;background-color: white;}#sk-container-id-2 div.sk-parallel-item:first-child::after {align-self: flex-end;width: 50%;}#sk-container-id-2 div.sk-parallel-item:last-child::after {align-self: flex-start;width: 50%;}#sk-container-id-2 div.sk-parallel-item:only-child::after {width: 0;}#sk-container-id-2 div.sk-dashed-wrapped {border: 1px dashed gray;margin: 0 0.4em 0.5em 0.4em;box-sizing: border-box;padding-bottom: 0.4em;background-color: white;}#sk-container-id-2 div.sk-label label {font-family: monospace;font-weight: bold;display: inline-block;line-height: 1.2em;}#sk-container-id-2 div.sk-label-container {text-align: center;}#sk-container-id-2 div.sk-container {/* jupyter's `normalize.less` sets `[hidden] { display: none; }` but bootstrap.min.css set `[hidden] { display: none !important; }` so we also need the `!important` here to be able to override the default hidden behavior on the sphinx rendered scikit-learn.org. See: https://github.com/scikit-learn/scikit-learn/issues/21755 */display: inline-block !important;position: relative;}#sk-container-id-2 div.sk-text-repr-fallback {display: none;}</style><div id=\"sk-container-id-2\" class=\"sk-top-container\"><div class=\"sk-text-repr-fallback\"><pre>SVC()</pre><b>In a Jupyter environment, please rerun this cell to show the HTML representation or trust the notebook. <br />On GitHub, the HTML representation is unable to render, please try loading this page with nbviewer.org.</b></div><div class=\"sk-container\" hidden><div class=\"sk-item\"><div class=\"sk-estimator sk-toggleable\"><input class=\"sk-toggleable__control sk-hidden--visually\" id=\"sk-estimator-id-2\" type=\"checkbox\" checked><label for=\"sk-estimator-id-2\" class=\"sk-toggleable__label sk-toggleable__label-arrow\">SVC</label><div class=\"sk-toggleable__content\"><pre>SVC()</pre></div></div></div></div></div>"
      ],
      "text/plain": [
       "SVC()"
      ]
     },
     "execution_count": 63,
     "metadata": {},
     "output_type": "execute_result"
    }
   ],
   "source": [
    "svm1.fit(X_train_rus,Y_train_rus)"
   ]
  },
  {
   "cell_type": "code",
   "execution_count": 64,
   "id": "7ed3958c",
   "metadata": {
    "execution": {
     "iopub.execute_input": "2024-07-03T17:53:03.321474Z",
     "iopub.status.busy": "2024-07-03T17:53:03.321007Z",
     "iopub.status.idle": "2024-07-03T17:53:03.463233Z",
     "shell.execute_reply": "2024-07-03T17:53:03.462171Z"
    },
    "papermill": {
     "duration": 0.177008,
     "end_time": "2024-07-03T17:53:03.465654",
     "exception": false,
     "start_time": "2024-07-03T17:53:03.288646",
     "status": "completed"
    },
    "tags": []
   },
   "outputs": [
    {
     "data": {
      "text/plain": [
       "((1223,), (1223,))"
      ]
     },
     "execution_count": 64,
     "metadata": {},
     "output_type": "execute_result"
    }
   ],
   "source": [
    "Y_pred_rus=svm1.predict(X_test_rus)\n",
    "Y_pred_rus.shape,Y_test_rus.shape"
   ]
  },
  {
   "cell_type": "markdown",
   "id": "d192f989",
   "metadata": {
    "papermill": {
     "duration": 0.03081,
     "end_time": "2024-07-03T17:53:03.528346",
     "exception": false,
     "start_time": "2024-07-03T17:53:03.497536",
     "status": "completed"
    },
    "tags": []
   },
   "source": [
    "Model Evaluation:"
   ]
  },
  {
   "cell_type": "markdown",
   "id": "14b24d1b",
   "metadata": {
    "papermill": {
     "duration": 0.030744,
     "end_time": "2024-07-03T17:53:03.590474",
     "exception": false,
     "start_time": "2024-07-03T17:53:03.559730",
     "status": "completed"
    },
    "tags": []
   },
   "source": [
    "SVM Performance for Random Under Sampled Data"
   ]
  },
  {
   "cell_type": "code",
   "execution_count": 65,
   "id": "b8294966",
   "metadata": {
    "execution": {
     "iopub.execute_input": "2024-07-03T17:53:03.654308Z",
     "iopub.status.busy": "2024-07-03T17:53:03.653490Z",
     "iopub.status.idle": "2024-07-03T17:53:03.662072Z",
     "shell.execute_reply": "2024-07-03T17:53:03.660979Z"
    },
    "papermill": {
     "duration": 0.043022,
     "end_time": "2024-07-03T17:53:03.664300",
     "exception": false,
     "start_time": "2024-07-03T17:53:03.621278",
     "status": "completed"
    },
    "tags": []
   },
   "outputs": [
    {
     "data": {
      "text/plain": [
       "array([[470, 157],\n",
       "       [174, 422]])"
      ]
     },
     "execution_count": 65,
     "metadata": {},
     "output_type": "execute_result"
    }
   ],
   "source": [
    "confusion_matrix(Y_test_rus,Y_pred_rus)"
   ]
  },
  {
   "cell_type": "code",
   "execution_count": 66,
   "id": "f6a49f8b",
   "metadata": {
    "execution": {
     "iopub.execute_input": "2024-07-03T17:53:03.728928Z",
     "iopub.status.busy": "2024-07-03T17:53:03.728223Z",
     "iopub.status.idle": "2024-07-03T17:53:03.744104Z",
     "shell.execute_reply": "2024-07-03T17:53:03.742830Z"
    },
    "papermill": {
     "duration": 0.050839,
     "end_time": "2024-07-03T17:53:03.746439",
     "exception": false,
     "start_time": "2024-07-03T17:53:03.695600",
     "status": "completed"
    },
    "tags": []
   },
   "outputs": [
    {
     "name": "stdout",
     "output_type": "stream",
     "text": [
      "              precision    recall  f1-score   support\n",
      "\n",
      "           0       0.73      0.75      0.74       627\n",
      "           1       0.73      0.71      0.72       596\n",
      "\n",
      "    accuracy                           0.73      1223\n",
      "   macro avg       0.73      0.73      0.73      1223\n",
      "weighted avg       0.73      0.73      0.73      1223\n",
      "\n"
     ]
    }
   ],
   "source": [
    "print(classification_report(Y_test_rus,Y_pred_rus))"
   ]
  },
  {
   "cell_type": "markdown",
   "id": "ade2a60d",
   "metadata": {
    "papermill": {
     "duration": 0.030873,
     "end_time": "2024-07-03T17:53:03.808916",
     "exception": false,
     "start_time": "2024-07-03T17:53:03.778043",
     "status": "completed"
    },
    "tags": []
   },
   "source": [
    "SVM Model for Random Over Sampled Data"
   ]
  },
  {
   "cell_type": "code",
   "execution_count": 67,
   "id": "39acd961",
   "metadata": {
    "execution": {
     "iopub.execute_input": "2024-07-03T17:53:03.873421Z",
     "iopub.status.busy": "2024-07-03T17:53:03.873047Z",
     "iopub.status.idle": "2024-07-03T17:53:03.878217Z",
     "shell.execute_reply": "2024-07-03T17:53:03.877131Z"
    },
    "papermill": {
     "duration": 0.040066,
     "end_time": "2024-07-03T17:53:03.880500",
     "exception": false,
     "start_time": "2024-07-03T17:53:03.840434",
     "status": "completed"
    },
    "tags": []
   },
   "outputs": [],
   "source": [
    "svm2=SVC()"
   ]
  },
  {
   "cell_type": "code",
   "execution_count": 68,
   "id": "078b844f",
   "metadata": {
    "execution": {
     "iopub.execute_input": "2024-07-03T17:53:03.945080Z",
     "iopub.status.busy": "2024-07-03T17:53:03.944546Z",
     "iopub.status.idle": "2024-07-03T17:53:08.757225Z",
     "shell.execute_reply": "2024-07-03T17:53:08.756066Z"
    },
    "papermill": {
     "duration": 4.848383,
     "end_time": "2024-07-03T17:53:08.760131",
     "exception": false,
     "start_time": "2024-07-03T17:53:03.911748",
     "status": "completed"
    },
    "tags": []
   },
   "outputs": [
    {
     "data": {
      "text/html": [
       "<style>#sk-container-id-3 {color: black;background-color: white;}#sk-container-id-3 pre{padding: 0;}#sk-container-id-3 div.sk-toggleable {background-color: white;}#sk-container-id-3 label.sk-toggleable__label {cursor: pointer;display: block;width: 100%;margin-bottom: 0;padding: 0.3em;box-sizing: border-box;text-align: center;}#sk-container-id-3 label.sk-toggleable__label-arrow:before {content: \"▸\";float: left;margin-right: 0.25em;color: #696969;}#sk-container-id-3 label.sk-toggleable__label-arrow:hover:before {color: black;}#sk-container-id-3 div.sk-estimator:hover label.sk-toggleable__label-arrow:before {color: black;}#sk-container-id-3 div.sk-toggleable__content {max-height: 0;max-width: 0;overflow: hidden;text-align: left;background-color: #f0f8ff;}#sk-container-id-3 div.sk-toggleable__content pre {margin: 0.2em;color: black;border-radius: 0.25em;background-color: #f0f8ff;}#sk-container-id-3 input.sk-toggleable__control:checked~div.sk-toggleable__content {max-height: 200px;max-width: 100%;overflow: auto;}#sk-container-id-3 input.sk-toggleable__control:checked~label.sk-toggleable__label-arrow:before {content: \"▾\";}#sk-container-id-3 div.sk-estimator input.sk-toggleable__control:checked~label.sk-toggleable__label {background-color: #d4ebff;}#sk-container-id-3 div.sk-label input.sk-toggleable__control:checked~label.sk-toggleable__label {background-color: #d4ebff;}#sk-container-id-3 input.sk-hidden--visually {border: 0;clip: rect(1px 1px 1px 1px);clip: rect(1px, 1px, 1px, 1px);height: 1px;margin: -1px;overflow: hidden;padding: 0;position: absolute;width: 1px;}#sk-container-id-3 div.sk-estimator {font-family: monospace;background-color: #f0f8ff;border: 1px dotted black;border-radius: 0.25em;box-sizing: border-box;margin-bottom: 0.5em;}#sk-container-id-3 div.sk-estimator:hover {background-color: #d4ebff;}#sk-container-id-3 div.sk-parallel-item::after {content: \"\";width: 100%;border-bottom: 1px solid gray;flex-grow: 1;}#sk-container-id-3 div.sk-label:hover label.sk-toggleable__label {background-color: #d4ebff;}#sk-container-id-3 div.sk-serial::before {content: \"\";position: absolute;border-left: 1px solid gray;box-sizing: border-box;top: 0;bottom: 0;left: 50%;z-index: 0;}#sk-container-id-3 div.sk-serial {display: flex;flex-direction: column;align-items: center;background-color: white;padding-right: 0.2em;padding-left: 0.2em;position: relative;}#sk-container-id-3 div.sk-item {position: relative;z-index: 1;}#sk-container-id-3 div.sk-parallel {display: flex;align-items: stretch;justify-content: center;background-color: white;position: relative;}#sk-container-id-3 div.sk-item::before, #sk-container-id-3 div.sk-parallel-item::before {content: \"\";position: absolute;border-left: 1px solid gray;box-sizing: border-box;top: 0;bottom: 0;left: 50%;z-index: -1;}#sk-container-id-3 div.sk-parallel-item {display: flex;flex-direction: column;z-index: 1;position: relative;background-color: white;}#sk-container-id-3 div.sk-parallel-item:first-child::after {align-self: flex-end;width: 50%;}#sk-container-id-3 div.sk-parallel-item:last-child::after {align-self: flex-start;width: 50%;}#sk-container-id-3 div.sk-parallel-item:only-child::after {width: 0;}#sk-container-id-3 div.sk-dashed-wrapped {border: 1px dashed gray;margin: 0 0.4em 0.5em 0.4em;box-sizing: border-box;padding-bottom: 0.4em;background-color: white;}#sk-container-id-3 div.sk-label label {font-family: monospace;font-weight: bold;display: inline-block;line-height: 1.2em;}#sk-container-id-3 div.sk-label-container {text-align: center;}#sk-container-id-3 div.sk-container {/* jupyter's `normalize.less` sets `[hidden] { display: none; }` but bootstrap.min.css set `[hidden] { display: none !important; }` so we also need the `!important` here to be able to override the default hidden behavior on the sphinx rendered scikit-learn.org. See: https://github.com/scikit-learn/scikit-learn/issues/21755 */display: inline-block !important;position: relative;}#sk-container-id-3 div.sk-text-repr-fallback {display: none;}</style><div id=\"sk-container-id-3\" class=\"sk-top-container\"><div class=\"sk-text-repr-fallback\"><pre>SVC()</pre><b>In a Jupyter environment, please rerun this cell to show the HTML representation or trust the notebook. <br />On GitHub, the HTML representation is unable to render, please try loading this page with nbviewer.org.</b></div><div class=\"sk-container\" hidden><div class=\"sk-item\"><div class=\"sk-estimator sk-toggleable\"><input class=\"sk-toggleable__control sk-hidden--visually\" id=\"sk-estimator-id-3\" type=\"checkbox\" checked><label for=\"sk-estimator-id-3\" class=\"sk-toggleable__label sk-toggleable__label-arrow\">SVC</label><div class=\"sk-toggleable__content\"><pre>SVC()</pre></div></div></div></div></div>"
      ],
      "text/plain": [
       "SVC()"
      ]
     },
     "execution_count": 68,
     "metadata": {},
     "output_type": "execute_result"
    }
   ],
   "source": [
    "svm2.fit(X_train_ros,Y_train_ros)"
   ]
  },
  {
   "cell_type": "code",
   "execution_count": 69,
   "id": "85a5b4d9",
   "metadata": {
    "execution": {
     "iopub.execute_input": "2024-07-03T17:53:08.829021Z",
     "iopub.status.busy": "2024-07-03T17:53:08.828624Z",
     "iopub.status.idle": "2024-07-03T17:53:10.661538Z",
     "shell.execute_reply": "2024-07-03T17:53:10.660211Z"
    },
    "papermill": {
     "duration": 1.868439,
     "end_time": "2024-07-03T17:53:10.663952",
     "exception": false,
     "start_time": "2024-07-03T17:53:08.795513",
     "status": "completed"
    },
    "tags": []
   },
   "outputs": [
    {
     "data": {
      "text/plain": [
       "((4778,), (4778,))"
      ]
     },
     "execution_count": 69,
     "metadata": {},
     "output_type": "execute_result"
    }
   ],
   "source": [
    "Y_pred_ros=svm2.predict(X_test_ros)\n",
    "Y_pred_ros.shape,Y_test_ros.shape"
   ]
  },
  {
   "cell_type": "markdown",
   "id": "45dc4eb8",
   "metadata": {
    "papermill": {
     "duration": 0.031166,
     "end_time": "2024-07-03T17:53:10.726743",
     "exception": false,
     "start_time": "2024-07-03T17:53:10.695577",
     "status": "completed"
    },
    "tags": []
   },
   "source": [
    "SVM Performance for Random Over Sampled Data"
   ]
  },
  {
   "cell_type": "code",
   "execution_count": 70,
   "id": "a2c657d7",
   "metadata": {
    "execution": {
     "iopub.execute_input": "2024-07-03T17:53:10.792984Z",
     "iopub.status.busy": "2024-07-03T17:53:10.792561Z",
     "iopub.status.idle": "2024-07-03T17:53:10.802225Z",
     "shell.execute_reply": "2024-07-03T17:53:10.801176Z"
    },
    "papermill": {
     "duration": 0.046353,
     "end_time": "2024-07-03T17:53:10.804655",
     "exception": false,
     "start_time": "2024-07-03T17:53:10.758302",
     "status": "completed"
    },
    "tags": []
   },
   "outputs": [
    {
     "data": {
      "text/plain": [
       "array([[1823,  556],\n",
       "       [ 626, 1773]])"
      ]
     },
     "execution_count": 70,
     "metadata": {},
     "output_type": "execute_result"
    }
   ],
   "source": [
    "confusion_matrix(Y_test_ros,Y_pred_ros)"
   ]
  },
  {
   "cell_type": "code",
   "execution_count": 71,
   "id": "e3d41681",
   "metadata": {
    "execution": {
     "iopub.execute_input": "2024-07-03T17:53:10.870579Z",
     "iopub.status.busy": "2024-07-03T17:53:10.870222Z",
     "iopub.status.idle": "2024-07-03T17:53:10.892407Z",
     "shell.execute_reply": "2024-07-03T17:53:10.891163Z"
    },
    "papermill": {
     "duration": 0.057626,
     "end_time": "2024-07-03T17:53:10.894925",
     "exception": false,
     "start_time": "2024-07-03T17:53:10.837299",
     "status": "completed"
    },
    "tags": []
   },
   "outputs": [
    {
     "name": "stdout",
     "output_type": "stream",
     "text": [
      "              precision    recall  f1-score   support\n",
      "\n",
      "           0       0.74      0.77      0.76      2379\n",
      "           1       0.76      0.74      0.75      2399\n",
      "\n",
      "    accuracy                           0.75      4778\n",
      "   macro avg       0.75      0.75      0.75      4778\n",
      "weighted avg       0.75      0.75      0.75      4778\n",
      "\n"
     ]
    }
   ],
   "source": [
    "print(classification_report(Y_test_ros,Y_pred_ros))"
   ]
  },
  {
   "cell_type": "markdown",
   "id": "44fa58a4",
   "metadata": {
    "papermill": {
     "duration": 0.031531,
     "end_time": "2024-07-03T17:53:10.959258",
     "exception": false,
     "start_time": "2024-07-03T17:53:10.927727",
     "status": "completed"
    },
    "tags": []
   },
   "source": [
    "HyperParameter Tunning"
   ]
  },
  {
   "cell_type": "code",
   "execution_count": 72,
   "id": "eecbbc3d",
   "metadata": {
    "execution": {
     "iopub.execute_input": "2024-07-03T17:53:11.024903Z",
     "iopub.status.busy": "2024-07-03T17:53:11.024110Z",
     "iopub.status.idle": "2024-07-03T17:53:11.029241Z",
     "shell.execute_reply": "2024-07-03T17:53:11.028189Z"
    },
    "papermill": {
     "duration": 0.040523,
     "end_time": "2024-07-03T17:53:11.031492",
     "exception": false,
     "start_time": "2024-07-03T17:53:10.990969",
     "status": "completed"
    },
    "tags": []
   },
   "outputs": [],
   "source": [
    "from sklearn.model_selection import GridSearchCV"
   ]
  },
  {
   "cell_type": "code",
   "execution_count": 73,
   "id": "a8175815",
   "metadata": {
    "execution": {
     "iopub.execute_input": "2024-07-03T17:53:11.097476Z",
     "iopub.status.busy": "2024-07-03T17:53:11.096482Z",
     "iopub.status.idle": "2024-07-03T17:53:11.101866Z",
     "shell.execute_reply": "2024-07-03T17:53:11.100866Z"
    },
    "papermill": {
     "duration": 0.040931,
     "end_time": "2024-07-03T17:53:11.104146",
     "exception": false,
     "start_time": "2024-07-03T17:53:11.063215",
     "status": "completed"
    },
    "tags": []
   },
   "outputs": [],
   "source": [
    "param_grid={'C':[0.1,1,10],'gamma':[1,0.1,0.01],'kernel':['rbf'],'class_weight':['balanced']}"
   ]
  },
  {
   "cell_type": "code",
   "execution_count": 74,
   "id": "5d1cc4cd",
   "metadata": {
    "execution": {
     "iopub.execute_input": "2024-07-03T17:53:11.169995Z",
     "iopub.status.busy": "2024-07-03T17:53:11.169606Z",
     "iopub.status.idle": "2024-07-03T17:53:11.175294Z",
     "shell.execute_reply": "2024-07-03T17:53:11.173994Z"
    },
    "papermill": {
     "duration": 0.04082,
     "end_time": "2024-07-03T17:53:11.177443",
     "exception": false,
     "start_time": "2024-07-03T17:53:11.136623",
     "status": "completed"
    },
    "tags": []
   },
   "outputs": [],
   "source": [
    "grid=GridSearchCV(SVC(),param_grid,refit=True,verbose=2,cv=2)"
   ]
  },
  {
   "cell_type": "code",
   "execution_count": 75,
   "id": "4a263e87",
   "metadata": {
    "execution": {
     "iopub.execute_input": "2024-07-03T17:53:11.245000Z",
     "iopub.status.busy": "2024-07-03T17:53:11.244178Z",
     "iopub.status.idle": "2024-07-03T17:53:34.265208Z",
     "shell.execute_reply": "2024-07-03T17:53:34.264167Z"
    },
    "papermill": {
     "duration": 23.058431,
     "end_time": "2024-07-03T17:53:34.267712",
     "exception": false,
     "start_time": "2024-07-03T17:53:11.209281",
     "status": "completed"
    },
    "tags": []
   },
   "outputs": [
    {
     "name": "stdout",
     "output_type": "stream",
     "text": [
      "Fitting 2 folds for each of 9 candidates, totalling 18 fits\n",
      "[CV] END ..C=0.1, class_weight=balanced, gamma=1, kernel=rbf; total time=   1.4s\n",
      "[CV] END ..C=0.1, class_weight=balanced, gamma=1, kernel=rbf; total time=   1.4s\n",
      "[CV] END C=0.1, class_weight=balanced, gamma=0.1, kernel=rbf; total time=   1.0s\n",
      "[CV] END C=0.1, class_weight=balanced, gamma=0.1, kernel=rbf; total time=   1.1s\n",
      "[CV] END C=0.1, class_weight=balanced, gamma=0.01, kernel=rbf; total time=   1.2s\n",
      "[CV] END C=0.1, class_weight=balanced, gamma=0.01, kernel=rbf; total time=   1.2s\n",
      "[CV] END ....C=1, class_weight=balanced, gamma=1, kernel=rbf; total time=   1.2s\n",
      "[CV] END ....C=1, class_weight=balanced, gamma=1, kernel=rbf; total time=   1.3s\n",
      "[CV] END ..C=1, class_weight=balanced, gamma=0.1, kernel=rbf; total time=   0.9s\n",
      "[CV] END ..C=1, class_weight=balanced, gamma=0.1, kernel=rbf; total time=   1.0s\n",
      "[CV] END .C=1, class_weight=balanced, gamma=0.01, kernel=rbf; total time=   1.0s\n",
      "[CV] END .C=1, class_weight=balanced, gamma=0.01, kernel=rbf; total time=   1.0s\n",
      "[CV] END ...C=10, class_weight=balanced, gamma=1, kernel=rbf; total time=   1.2s\n",
      "[CV] END ...C=10, class_weight=balanced, gamma=1, kernel=rbf; total time=   1.3s\n",
      "[CV] END .C=10, class_weight=balanced, gamma=0.1, kernel=rbf; total time=   1.0s\n",
      "[CV] END .C=10, class_weight=balanced, gamma=0.1, kernel=rbf; total time=   1.0s\n",
      "[CV] END C=10, class_weight=balanced, gamma=0.01, kernel=rbf; total time=   1.0s\n",
      "[CV] END C=10, class_weight=balanced, gamma=0.01, kernel=rbf; total time=   1.0s\n"
     ]
    },
    {
     "data": {
      "text/html": [
       "<style>#sk-container-id-4 {color: black;background-color: white;}#sk-container-id-4 pre{padding: 0;}#sk-container-id-4 div.sk-toggleable {background-color: white;}#sk-container-id-4 label.sk-toggleable__label {cursor: pointer;display: block;width: 100%;margin-bottom: 0;padding: 0.3em;box-sizing: border-box;text-align: center;}#sk-container-id-4 label.sk-toggleable__label-arrow:before {content: \"▸\";float: left;margin-right: 0.25em;color: #696969;}#sk-container-id-4 label.sk-toggleable__label-arrow:hover:before {color: black;}#sk-container-id-4 div.sk-estimator:hover label.sk-toggleable__label-arrow:before {color: black;}#sk-container-id-4 div.sk-toggleable__content {max-height: 0;max-width: 0;overflow: hidden;text-align: left;background-color: #f0f8ff;}#sk-container-id-4 div.sk-toggleable__content pre {margin: 0.2em;color: black;border-radius: 0.25em;background-color: #f0f8ff;}#sk-container-id-4 input.sk-toggleable__control:checked~div.sk-toggleable__content {max-height: 200px;max-width: 100%;overflow: auto;}#sk-container-id-4 input.sk-toggleable__control:checked~label.sk-toggleable__label-arrow:before {content: \"▾\";}#sk-container-id-4 div.sk-estimator input.sk-toggleable__control:checked~label.sk-toggleable__label {background-color: #d4ebff;}#sk-container-id-4 div.sk-label input.sk-toggleable__control:checked~label.sk-toggleable__label {background-color: #d4ebff;}#sk-container-id-4 input.sk-hidden--visually {border: 0;clip: rect(1px 1px 1px 1px);clip: rect(1px, 1px, 1px, 1px);height: 1px;margin: -1px;overflow: hidden;padding: 0;position: absolute;width: 1px;}#sk-container-id-4 div.sk-estimator {font-family: monospace;background-color: #f0f8ff;border: 1px dotted black;border-radius: 0.25em;box-sizing: border-box;margin-bottom: 0.5em;}#sk-container-id-4 div.sk-estimator:hover {background-color: #d4ebff;}#sk-container-id-4 div.sk-parallel-item::after {content: \"\";width: 100%;border-bottom: 1px solid gray;flex-grow: 1;}#sk-container-id-4 div.sk-label:hover label.sk-toggleable__label {background-color: #d4ebff;}#sk-container-id-4 div.sk-serial::before {content: \"\";position: absolute;border-left: 1px solid gray;box-sizing: border-box;top: 0;bottom: 0;left: 50%;z-index: 0;}#sk-container-id-4 div.sk-serial {display: flex;flex-direction: column;align-items: center;background-color: white;padding-right: 0.2em;padding-left: 0.2em;position: relative;}#sk-container-id-4 div.sk-item {position: relative;z-index: 1;}#sk-container-id-4 div.sk-parallel {display: flex;align-items: stretch;justify-content: center;background-color: white;position: relative;}#sk-container-id-4 div.sk-item::before, #sk-container-id-4 div.sk-parallel-item::before {content: \"\";position: absolute;border-left: 1px solid gray;box-sizing: border-box;top: 0;bottom: 0;left: 50%;z-index: -1;}#sk-container-id-4 div.sk-parallel-item {display: flex;flex-direction: column;z-index: 1;position: relative;background-color: white;}#sk-container-id-4 div.sk-parallel-item:first-child::after {align-self: flex-end;width: 50%;}#sk-container-id-4 div.sk-parallel-item:last-child::after {align-self: flex-start;width: 50%;}#sk-container-id-4 div.sk-parallel-item:only-child::after {width: 0;}#sk-container-id-4 div.sk-dashed-wrapped {border: 1px dashed gray;margin: 0 0.4em 0.5em 0.4em;box-sizing: border-box;padding-bottom: 0.4em;background-color: white;}#sk-container-id-4 div.sk-label label {font-family: monospace;font-weight: bold;display: inline-block;line-height: 1.2em;}#sk-container-id-4 div.sk-label-container {text-align: center;}#sk-container-id-4 div.sk-container {/* jupyter's `normalize.less` sets `[hidden] { display: none; }` but bootstrap.min.css set `[hidden] { display: none !important; }` so we also need the `!important` here to be able to override the default hidden behavior on the sphinx rendered scikit-learn.org. See: https://github.com/scikit-learn/scikit-learn/issues/21755 */display: inline-block !important;position: relative;}#sk-container-id-4 div.sk-text-repr-fallback {display: none;}</style><div id=\"sk-container-id-4\" class=\"sk-top-container\"><div class=\"sk-text-repr-fallback\"><pre>GridSearchCV(cv=2, estimator=SVC(),\n",
       "             param_grid={&#x27;C&#x27;: [0.1, 1, 10], &#x27;class_weight&#x27;: [&#x27;balanced&#x27;],\n",
       "                         &#x27;gamma&#x27;: [1, 0.1, 0.01], &#x27;kernel&#x27;: [&#x27;rbf&#x27;]},\n",
       "             verbose=2)</pre><b>In a Jupyter environment, please rerun this cell to show the HTML representation or trust the notebook. <br />On GitHub, the HTML representation is unable to render, please try loading this page with nbviewer.org.</b></div><div class=\"sk-container\" hidden><div class=\"sk-item sk-dashed-wrapped\"><div class=\"sk-label-container\"><div class=\"sk-label sk-toggleable\"><input class=\"sk-toggleable__control sk-hidden--visually\" id=\"sk-estimator-id-4\" type=\"checkbox\" ><label for=\"sk-estimator-id-4\" class=\"sk-toggleable__label sk-toggleable__label-arrow\">GridSearchCV</label><div class=\"sk-toggleable__content\"><pre>GridSearchCV(cv=2, estimator=SVC(),\n",
       "             param_grid={&#x27;C&#x27;: [0.1, 1, 10], &#x27;class_weight&#x27;: [&#x27;balanced&#x27;],\n",
       "                         &#x27;gamma&#x27;: [1, 0.1, 0.01], &#x27;kernel&#x27;: [&#x27;rbf&#x27;]},\n",
       "             verbose=2)</pre></div></div></div><div class=\"sk-parallel\"><div class=\"sk-parallel-item\"><div class=\"sk-item\"><div class=\"sk-label-container\"><div class=\"sk-label sk-toggleable\"><input class=\"sk-toggleable__control sk-hidden--visually\" id=\"sk-estimator-id-5\" type=\"checkbox\" ><label for=\"sk-estimator-id-5\" class=\"sk-toggleable__label sk-toggleable__label-arrow\">estimator: SVC</label><div class=\"sk-toggleable__content\"><pre>SVC()</pre></div></div></div><div class=\"sk-serial\"><div class=\"sk-item\"><div class=\"sk-estimator sk-toggleable\"><input class=\"sk-toggleable__control sk-hidden--visually\" id=\"sk-estimator-id-6\" type=\"checkbox\" ><label for=\"sk-estimator-id-6\" class=\"sk-toggleable__label sk-toggleable__label-arrow\">SVC</label><div class=\"sk-toggleable__content\"><pre>SVC()</pre></div></div></div></div></div></div></div></div></div></div>"
      ],
      "text/plain": [
       "GridSearchCV(cv=2, estimator=SVC(),\n",
       "             param_grid={'C': [0.1, 1, 10], 'class_weight': ['balanced'],\n",
       "                         'gamma': [1, 0.1, 0.01], 'kernel': ['rbf']},\n",
       "             verbose=2)"
      ]
     },
     "execution_count": 75,
     "metadata": {},
     "output_type": "execute_result"
    }
   ],
   "source": [
    "grid.fit(X_train,Y_train)"
   ]
  },
  {
   "cell_type": "code",
   "execution_count": 76,
   "id": "a0f64012",
   "metadata": {
    "execution": {
     "iopub.execute_input": "2024-07-03T17:53:34.336412Z",
     "iopub.status.busy": "2024-07-03T17:53:34.336010Z",
     "iopub.status.idle": "2024-07-03T17:53:34.341735Z",
     "shell.execute_reply": "2024-07-03T17:53:34.340638Z"
    },
    "papermill": {
     "duration": 0.042821,
     "end_time": "2024-07-03T17:53:34.344181",
     "exception": false,
     "start_time": "2024-07-03T17:53:34.301360",
     "status": "completed"
    },
    "tags": []
   },
   "outputs": [
    {
     "name": "stdout",
     "output_type": "stream",
     "text": [
      "SVC(C=10, class_weight='balanced', gamma=1)\n"
     ]
    }
   ],
   "source": [
    "print(grid.best_estimator_)"
   ]
  },
  {
   "cell_type": "markdown",
   "id": "ce3e8421",
   "metadata": {
    "papermill": {
     "duration": 0.033162,
     "end_time": "2024-07-03T17:53:34.410803",
     "exception": false,
     "start_time": "2024-07-03T17:53:34.377641",
     "status": "completed"
    },
    "tags": []
   },
   "source": [
    "Prediction"
   ]
  },
  {
   "cell_type": "code",
   "execution_count": 77,
   "id": "4dce981d",
   "metadata": {
    "execution": {
     "iopub.execute_input": "2024-07-03T17:53:34.480187Z",
     "iopub.status.busy": "2024-07-03T17:53:34.479290Z",
     "iopub.status.idle": "2024-07-03T17:53:35.281906Z",
     "shell.execute_reply": "2024-07-03T17:53:35.280779Z"
    },
    "papermill": {
     "duration": 0.839766,
     "end_time": "2024-07-03T17:53:35.284558",
     "exception": false,
     "start_time": "2024-07-03T17:53:34.444792",
     "status": "completed"
    },
    "tags": []
   },
   "outputs": [],
   "source": [
    "grid_pred=grid.predict(X_test)"
   ]
  },
  {
   "cell_type": "markdown",
   "id": "f5e5d10f",
   "metadata": {
    "papermill": {
     "duration": 0.034027,
     "end_time": "2024-07-03T17:53:35.353028",
     "exception": false,
     "start_time": "2024-07-03T17:53:35.319001",
     "status": "completed"
    },
    "tags": []
   },
   "source": [
    "Performance Of SVM on actual data after hyper parameter tunning"
   ]
  },
  {
   "cell_type": "markdown",
   "id": "2a3f7d30",
   "metadata": {
    "papermill": {
     "duration": 0.032959,
     "end_time": "2024-07-03T17:53:35.420025",
     "exception": false,
     "start_time": "2024-07-03T17:53:35.387066",
     "status": "completed"
    },
    "tags": []
   },
   "source": [
    "Evaluation"
   ]
  },
  {
   "cell_type": "code",
   "execution_count": 78,
   "id": "cbea4333",
   "metadata": {
    "execution": {
     "iopub.execute_input": "2024-07-03T17:53:35.488684Z",
     "iopub.status.busy": "2024-07-03T17:53:35.487613Z",
     "iopub.status.idle": "2024-07-03T17:53:35.497769Z",
     "shell.execute_reply": "2024-07-03T17:53:35.496567Z"
    },
    "papermill": {
     "duration": 0.046973,
     "end_time": "2024-07-03T17:53:35.500155",
     "exception": false,
     "start_time": "2024-07-03T17:53:35.453182",
     "status": "completed"
    },
    "tags": []
   },
   "outputs": [
    {
     "data": {
      "text/plain": [
       "array([[2159,  255],\n",
       "       [ 343,  243]])"
      ]
     },
     "execution_count": 78,
     "metadata": {},
     "output_type": "execute_result"
    }
   ],
   "source": [
    "confusion_matrix(Y_test,grid_pred)"
   ]
  },
  {
   "cell_type": "code",
   "execution_count": 79,
   "id": "95ccdda6",
   "metadata": {
    "execution": {
     "iopub.execute_input": "2024-07-03T17:53:35.568987Z",
     "iopub.status.busy": "2024-07-03T17:53:35.568592Z",
     "iopub.status.idle": "2024-07-03T17:53:35.585945Z",
     "shell.execute_reply": "2024-07-03T17:53:35.584710Z"
    },
    "papermill": {
     "duration": 0.055,
     "end_time": "2024-07-03T17:53:35.588863",
     "exception": false,
     "start_time": "2024-07-03T17:53:35.533863",
     "status": "completed"
    },
    "tags": []
   },
   "outputs": [
    {
     "name": "stdout",
     "output_type": "stream",
     "text": [
      "              precision    recall  f1-score   support\n",
      "\n",
      "           0       0.86      0.89      0.88      2414\n",
      "           1       0.49      0.41      0.45       586\n",
      "\n",
      "    accuracy                           0.80      3000\n",
      "   macro avg       0.68      0.65      0.66      3000\n",
      "weighted avg       0.79      0.80      0.79      3000\n",
      "\n"
     ]
    }
   ],
   "source": [
    "print(classification_report(Y_test,grid_pred))"
   ]
  },
  {
   "cell_type": "code",
   "execution_count": 80,
   "id": "605c962c",
   "metadata": {
    "execution": {
     "iopub.execute_input": "2024-07-03T17:53:35.658872Z",
     "iopub.status.busy": "2024-07-03T17:53:35.658443Z",
     "iopub.status.idle": "2024-07-03T17:53:35.663908Z",
     "shell.execute_reply": "2024-07-03T17:53:35.662796Z"
    },
    "papermill": {
     "duration": 0.043472,
     "end_time": "2024-07-03T17:53:35.666167",
     "exception": false,
     "start_time": "2024-07-03T17:53:35.622695",
     "status": "completed"
    },
    "tags": []
   },
   "outputs": [],
   "source": [
    "grid_rus=GridSearchCV(SVC(),param_grid,refit=True,verbose=2,cv=2)"
   ]
  },
  {
   "cell_type": "code",
   "execution_count": 81,
   "id": "ad7b1ec7",
   "metadata": {
    "execution": {
     "iopub.execute_input": "2024-07-03T17:53:35.737579Z",
     "iopub.status.busy": "2024-07-03T17:53:35.736441Z",
     "iopub.status.idle": "2024-07-03T17:53:39.591556Z",
     "shell.execute_reply": "2024-07-03T17:53:39.590342Z"
    },
    "papermill": {
     "duration": 3.893535,
     "end_time": "2024-07-03T17:53:39.594045",
     "exception": false,
     "start_time": "2024-07-03T17:53:35.700510",
     "status": "completed"
    },
    "tags": []
   },
   "outputs": [
    {
     "name": "stdout",
     "output_type": "stream",
     "text": [
      "Fitting 2 folds for each of 9 candidates, totalling 18 fits\n",
      "[CV] END ..C=0.1, class_weight=balanced, gamma=1, kernel=rbf; total time=   0.2s\n",
      "[CV] END ..C=0.1, class_weight=balanced, gamma=1, kernel=rbf; total time=   0.2s\n",
      "[CV] END C=0.1, class_weight=balanced, gamma=0.1, kernel=rbf; total time=   0.2s\n",
      "[CV] END C=0.1, class_weight=balanced, gamma=0.1, kernel=rbf; total time=   0.2s\n",
      "[CV] END C=0.1, class_weight=balanced, gamma=0.01, kernel=rbf; total time=   0.2s\n",
      "[CV] END C=0.1, class_weight=balanced, gamma=0.01, kernel=rbf; total time=   0.2s\n",
      "[CV] END ....C=1, class_weight=balanced, gamma=1, kernel=rbf; total time=   0.2s\n",
      "[CV] END ....C=1, class_weight=balanced, gamma=1, kernel=rbf; total time=   0.2s\n",
      "[CV] END ..C=1, class_weight=balanced, gamma=0.1, kernel=rbf; total time=   0.2s\n",
      "[CV] END ..C=1, class_weight=balanced, gamma=0.1, kernel=rbf; total time=   0.2s\n",
      "[CV] END .C=1, class_weight=balanced, gamma=0.01, kernel=rbf; total time=   0.2s\n",
      "[CV] END .C=1, class_weight=balanced, gamma=0.01, kernel=rbf; total time=   0.2s\n",
      "[CV] END ...C=10, class_weight=balanced, gamma=1, kernel=rbf; total time=   0.2s\n",
      "[CV] END ...C=10, class_weight=balanced, gamma=1, kernel=rbf; total time=   0.2s\n",
      "[CV] END .C=10, class_weight=balanced, gamma=0.1, kernel=rbf; total time=   0.2s\n",
      "[CV] END .C=10, class_weight=balanced, gamma=0.1, kernel=rbf; total time=   0.2s\n",
      "[CV] END C=10, class_weight=balanced, gamma=0.01, kernel=rbf; total time=   0.2s\n",
      "[CV] END C=10, class_weight=balanced, gamma=0.01, kernel=rbf; total time=   0.2s\n"
     ]
    },
    {
     "data": {
      "text/html": [
       "<style>#sk-container-id-5 {color: black;background-color: white;}#sk-container-id-5 pre{padding: 0;}#sk-container-id-5 div.sk-toggleable {background-color: white;}#sk-container-id-5 label.sk-toggleable__label {cursor: pointer;display: block;width: 100%;margin-bottom: 0;padding: 0.3em;box-sizing: border-box;text-align: center;}#sk-container-id-5 label.sk-toggleable__label-arrow:before {content: \"▸\";float: left;margin-right: 0.25em;color: #696969;}#sk-container-id-5 label.sk-toggleable__label-arrow:hover:before {color: black;}#sk-container-id-5 div.sk-estimator:hover label.sk-toggleable__label-arrow:before {color: black;}#sk-container-id-5 div.sk-toggleable__content {max-height: 0;max-width: 0;overflow: hidden;text-align: left;background-color: #f0f8ff;}#sk-container-id-5 div.sk-toggleable__content pre {margin: 0.2em;color: black;border-radius: 0.25em;background-color: #f0f8ff;}#sk-container-id-5 input.sk-toggleable__control:checked~div.sk-toggleable__content {max-height: 200px;max-width: 100%;overflow: auto;}#sk-container-id-5 input.sk-toggleable__control:checked~label.sk-toggleable__label-arrow:before {content: \"▾\";}#sk-container-id-5 div.sk-estimator input.sk-toggleable__control:checked~label.sk-toggleable__label {background-color: #d4ebff;}#sk-container-id-5 div.sk-label input.sk-toggleable__control:checked~label.sk-toggleable__label {background-color: #d4ebff;}#sk-container-id-5 input.sk-hidden--visually {border: 0;clip: rect(1px 1px 1px 1px);clip: rect(1px, 1px, 1px, 1px);height: 1px;margin: -1px;overflow: hidden;padding: 0;position: absolute;width: 1px;}#sk-container-id-5 div.sk-estimator {font-family: monospace;background-color: #f0f8ff;border: 1px dotted black;border-radius: 0.25em;box-sizing: border-box;margin-bottom: 0.5em;}#sk-container-id-5 div.sk-estimator:hover {background-color: #d4ebff;}#sk-container-id-5 div.sk-parallel-item::after {content: \"\";width: 100%;border-bottom: 1px solid gray;flex-grow: 1;}#sk-container-id-5 div.sk-label:hover label.sk-toggleable__label {background-color: #d4ebff;}#sk-container-id-5 div.sk-serial::before {content: \"\";position: absolute;border-left: 1px solid gray;box-sizing: border-box;top: 0;bottom: 0;left: 50%;z-index: 0;}#sk-container-id-5 div.sk-serial {display: flex;flex-direction: column;align-items: center;background-color: white;padding-right: 0.2em;padding-left: 0.2em;position: relative;}#sk-container-id-5 div.sk-item {position: relative;z-index: 1;}#sk-container-id-5 div.sk-parallel {display: flex;align-items: stretch;justify-content: center;background-color: white;position: relative;}#sk-container-id-5 div.sk-item::before, #sk-container-id-5 div.sk-parallel-item::before {content: \"\";position: absolute;border-left: 1px solid gray;box-sizing: border-box;top: 0;bottom: 0;left: 50%;z-index: -1;}#sk-container-id-5 div.sk-parallel-item {display: flex;flex-direction: column;z-index: 1;position: relative;background-color: white;}#sk-container-id-5 div.sk-parallel-item:first-child::after {align-self: flex-end;width: 50%;}#sk-container-id-5 div.sk-parallel-item:last-child::after {align-self: flex-start;width: 50%;}#sk-container-id-5 div.sk-parallel-item:only-child::after {width: 0;}#sk-container-id-5 div.sk-dashed-wrapped {border: 1px dashed gray;margin: 0 0.4em 0.5em 0.4em;box-sizing: border-box;padding-bottom: 0.4em;background-color: white;}#sk-container-id-5 div.sk-label label {font-family: monospace;font-weight: bold;display: inline-block;line-height: 1.2em;}#sk-container-id-5 div.sk-label-container {text-align: center;}#sk-container-id-5 div.sk-container {/* jupyter's `normalize.less` sets `[hidden] { display: none; }` but bootstrap.min.css set `[hidden] { display: none !important; }` so we also need the `!important` here to be able to override the default hidden behavior on the sphinx rendered scikit-learn.org. See: https://github.com/scikit-learn/scikit-learn/issues/21755 */display: inline-block !important;position: relative;}#sk-container-id-5 div.sk-text-repr-fallback {display: none;}</style><div id=\"sk-container-id-5\" class=\"sk-top-container\"><div class=\"sk-text-repr-fallback\"><pre>GridSearchCV(cv=2, estimator=SVC(),\n",
       "             param_grid={&#x27;C&#x27;: [0.1, 1, 10], &#x27;class_weight&#x27;: [&#x27;balanced&#x27;],\n",
       "                         &#x27;gamma&#x27;: [1, 0.1, 0.01], &#x27;kernel&#x27;: [&#x27;rbf&#x27;]},\n",
       "             verbose=2)</pre><b>In a Jupyter environment, please rerun this cell to show the HTML representation or trust the notebook. <br />On GitHub, the HTML representation is unable to render, please try loading this page with nbviewer.org.</b></div><div class=\"sk-container\" hidden><div class=\"sk-item sk-dashed-wrapped\"><div class=\"sk-label-container\"><div class=\"sk-label sk-toggleable\"><input class=\"sk-toggleable__control sk-hidden--visually\" id=\"sk-estimator-id-7\" type=\"checkbox\" ><label for=\"sk-estimator-id-7\" class=\"sk-toggleable__label sk-toggleable__label-arrow\">GridSearchCV</label><div class=\"sk-toggleable__content\"><pre>GridSearchCV(cv=2, estimator=SVC(),\n",
       "             param_grid={&#x27;C&#x27;: [0.1, 1, 10], &#x27;class_weight&#x27;: [&#x27;balanced&#x27;],\n",
       "                         &#x27;gamma&#x27;: [1, 0.1, 0.01], &#x27;kernel&#x27;: [&#x27;rbf&#x27;]},\n",
       "             verbose=2)</pre></div></div></div><div class=\"sk-parallel\"><div class=\"sk-parallel-item\"><div class=\"sk-item\"><div class=\"sk-label-container\"><div class=\"sk-label sk-toggleable\"><input class=\"sk-toggleable__control sk-hidden--visually\" id=\"sk-estimator-id-8\" type=\"checkbox\" ><label for=\"sk-estimator-id-8\" class=\"sk-toggleable__label sk-toggleable__label-arrow\">estimator: SVC</label><div class=\"sk-toggleable__content\"><pre>SVC()</pre></div></div></div><div class=\"sk-serial\"><div class=\"sk-item\"><div class=\"sk-estimator sk-toggleable\"><input class=\"sk-toggleable__control sk-hidden--visually\" id=\"sk-estimator-id-9\" type=\"checkbox\" ><label for=\"sk-estimator-id-9\" class=\"sk-toggleable__label sk-toggleable__label-arrow\">SVC</label><div class=\"sk-toggleable__content\"><pre>SVC()</pre></div></div></div></div></div></div></div></div></div></div>"
      ],
      "text/plain": [
       "GridSearchCV(cv=2, estimator=SVC(),\n",
       "             param_grid={'C': [0.1, 1, 10], 'class_weight': ['balanced'],\n",
       "                         'gamma': [1, 0.1, 0.01], 'kernel': ['rbf']},\n",
       "             verbose=2)"
      ]
     },
     "execution_count": 81,
     "metadata": {},
     "output_type": "execute_result"
    }
   ],
   "source": [
    "grid_rus.fit(X_train_rus,Y_train_rus)"
   ]
  },
  {
   "cell_type": "code",
   "execution_count": 82,
   "id": "ae7712de",
   "metadata": {
    "execution": {
     "iopub.execute_input": "2024-07-03T17:53:39.667313Z",
     "iopub.status.busy": "2024-07-03T17:53:39.666336Z",
     "iopub.status.idle": "2024-07-03T17:53:39.672330Z",
     "shell.execute_reply": "2024-07-03T17:53:39.671286Z"
    },
    "papermill": {
     "duration": 0.046311,
     "end_time": "2024-07-03T17:53:39.675059",
     "exception": false,
     "start_time": "2024-07-03T17:53:39.628748",
     "status": "completed"
    },
    "tags": []
   },
   "outputs": [
    {
     "name": "stdout",
     "output_type": "stream",
     "text": [
      "SVC(C=1, class_weight='balanced', gamma=0.1)\n"
     ]
    }
   ],
   "source": [
    "print(grid_rus.best_estimator_)"
   ]
  },
  {
   "cell_type": "markdown",
   "id": "41dd1837",
   "metadata": {
    "papermill": {
     "duration": 0.038292,
     "end_time": "2024-07-03T17:53:39.756772",
     "exception": false,
     "start_time": "2024-07-03T17:53:39.718480",
     "status": "completed"
    },
    "tags": []
   },
   "source": [
    "Prediction"
   ]
  },
  {
   "cell_type": "code",
   "execution_count": 83,
   "id": "4a8b93b4",
   "metadata": {
    "execution": {
     "iopub.execute_input": "2024-07-03T17:53:39.829342Z",
     "iopub.status.busy": "2024-07-03T17:53:39.828964Z",
     "iopub.status.idle": "2024-07-03T17:53:40.214381Z",
     "shell.execute_reply": "2024-07-03T17:53:40.213428Z"
    },
    "papermill": {
     "duration": 0.424631,
     "end_time": "2024-07-03T17:53:40.216997",
     "exception": false,
     "start_time": "2024-07-03T17:53:39.792366",
     "status": "completed"
    },
    "tags": []
   },
   "outputs": [],
   "source": [
    "grid_pred_rus=grid.predict(X_test_rus)"
   ]
  },
  {
   "cell_type": "markdown",
   "id": "7761d922",
   "metadata": {
    "papermill": {
     "duration": 0.035201,
     "end_time": "2024-07-03T17:53:40.288030",
     "exception": false,
     "start_time": "2024-07-03T17:53:40.252829",
     "status": "completed"
    },
    "tags": []
   },
   "source": [
    "Performance Of SVM on random under sampled data after hyper parameter tunning"
   ]
  },
  {
   "cell_type": "markdown",
   "id": "93e8bdf9",
   "metadata": {
    "papermill": {
     "duration": 0.036866,
     "end_time": "2024-07-03T17:53:40.361277",
     "exception": false,
     "start_time": "2024-07-03T17:53:40.324411",
     "status": "completed"
    },
    "tags": []
   },
   "source": [
    "Evaluation"
   ]
  },
  {
   "cell_type": "code",
   "execution_count": 84,
   "id": "1badc836",
   "metadata": {
    "execution": {
     "iopub.execute_input": "2024-07-03T17:53:40.434437Z",
     "iopub.status.busy": "2024-07-03T17:53:40.434047Z",
     "iopub.status.idle": "2024-07-03T17:53:40.443666Z",
     "shell.execute_reply": "2024-07-03T17:53:40.442561Z"
    },
    "papermill": {
     "duration": 0.048553,
     "end_time": "2024-07-03T17:53:40.445978",
     "exception": false,
     "start_time": "2024-07-03T17:53:40.397425",
     "status": "completed"
    },
    "tags": []
   },
   "outputs": [
    {
     "data": {
      "text/plain": [
       "array([[611,  16],\n",
       "       [105, 491]])"
      ]
     },
     "execution_count": 84,
     "metadata": {},
     "output_type": "execute_result"
    }
   ],
   "source": [
    "confusion_matrix(Y_test_rus,grid_pred_rus)"
   ]
  },
  {
   "cell_type": "code",
   "execution_count": 85,
   "id": "69c86ae0",
   "metadata": {
    "execution": {
     "iopub.execute_input": "2024-07-03T17:53:40.520702Z",
     "iopub.status.busy": "2024-07-03T17:53:40.519704Z",
     "iopub.status.idle": "2024-07-03T17:53:40.539303Z",
     "shell.execute_reply": "2024-07-03T17:53:40.537728Z"
    },
    "papermill": {
     "duration": 0.059027,
     "end_time": "2024-07-03T17:53:40.541683",
     "exception": false,
     "start_time": "2024-07-03T17:53:40.482656",
     "status": "completed"
    },
    "tags": []
   },
   "outputs": [
    {
     "name": "stdout",
     "output_type": "stream",
     "text": [
      "              precision    recall  f1-score   support\n",
      "\n",
      "           0       0.85      0.97      0.91       627\n",
      "           1       0.97      0.82      0.89       596\n",
      "\n",
      "    accuracy                           0.90      1223\n",
      "   macro avg       0.91      0.90      0.90      1223\n",
      "weighted avg       0.91      0.90      0.90      1223\n",
      "\n"
     ]
    }
   ],
   "source": [
    "print(classification_report(Y_test_rus,grid_pred_rus))"
   ]
  },
  {
   "cell_type": "code",
   "execution_count": 86,
   "id": "1eb14708",
   "metadata": {
    "execution": {
     "iopub.execute_input": "2024-07-03T17:53:40.615067Z",
     "iopub.status.busy": "2024-07-03T17:53:40.614035Z",
     "iopub.status.idle": "2024-07-03T17:53:40.620051Z",
     "shell.execute_reply": "2024-07-03T17:53:40.618850Z"
    },
    "papermill": {
     "duration": 0.04531,
     "end_time": "2024-07-03T17:53:40.622383",
     "exception": false,
     "start_time": "2024-07-03T17:53:40.577073",
     "status": "completed"
    },
    "tags": []
   },
   "outputs": [],
   "source": [
    "grid_ros=GridSearchCV(SVC(),param_grid,refit=True,verbose=2,cv=2)"
   ]
  },
  {
   "cell_type": "code",
   "execution_count": 87,
   "id": "3c10a013",
   "metadata": {
    "execution": {
     "iopub.execute_input": "2024-07-03T17:53:40.694968Z",
     "iopub.status.busy": "2024-07-03T17:53:40.694483Z",
     "iopub.status.idle": "2024-07-03T17:54:39.557852Z",
     "shell.execute_reply": "2024-07-03T17:54:39.556639Z"
    },
    "papermill": {
     "duration": 58.902638,
     "end_time": "2024-07-03T17:54:39.560339",
     "exception": false,
     "start_time": "2024-07-03T17:53:40.657701",
     "status": "completed"
    },
    "tags": []
   },
   "outputs": [
    {
     "name": "stdout",
     "output_type": "stream",
     "text": [
      "Fitting 2 folds for each of 9 candidates, totalling 18 fits\n",
      "[CV] END ..C=0.1, class_weight=balanced, gamma=1, kernel=rbf; total time=   3.6s\n",
      "[CV] END ..C=0.1, class_weight=balanced, gamma=1, kernel=rbf; total time=   3.6s\n",
      "[CV] END C=0.1, class_weight=balanced, gamma=0.1, kernel=rbf; total time=   2.6s\n",
      "[CV] END C=0.1, class_weight=balanced, gamma=0.1, kernel=rbf; total time=   2.5s\n",
      "[CV] END C=0.1, class_weight=balanced, gamma=0.01, kernel=rbf; total time=   3.0s\n",
      "[CV] END C=0.1, class_weight=balanced, gamma=0.01, kernel=rbf; total time=   2.9s\n",
      "[CV] END ....C=1, class_weight=balanced, gamma=1, kernel=rbf; total time=   3.0s\n",
      "[CV] END ....C=1, class_weight=balanced, gamma=1, kernel=rbf; total time=   3.0s\n",
      "[CV] END ..C=1, class_weight=balanced, gamma=0.1, kernel=rbf; total time=   2.3s\n",
      "[CV] END ..C=1, class_weight=balanced, gamma=0.1, kernel=rbf; total time=   2.3s\n",
      "[CV] END .C=1, class_weight=balanced, gamma=0.01, kernel=rbf; total time=   2.6s\n",
      "[CV] END .C=1, class_weight=balanced, gamma=0.01, kernel=rbf; total time=   2.5s\n",
      "[CV] END ...C=10, class_weight=balanced, gamma=1, kernel=rbf; total time=   2.9s\n",
      "[CV] END ...C=10, class_weight=balanced, gamma=1, kernel=rbf; total time=   2.9s\n",
      "[CV] END .C=10, class_weight=balanced, gamma=0.1, kernel=rbf; total time=   2.6s\n",
      "[CV] END .C=10, class_weight=balanced, gamma=0.1, kernel=rbf; total time=   2.6s\n",
      "[CV] END C=10, class_weight=balanced, gamma=0.01, kernel=rbf; total time=   2.5s\n",
      "[CV] END C=10, class_weight=balanced, gamma=0.01, kernel=rbf; total time=   2.4s\n"
     ]
    },
    {
     "data": {
      "text/html": [
       "<style>#sk-container-id-6 {color: black;background-color: white;}#sk-container-id-6 pre{padding: 0;}#sk-container-id-6 div.sk-toggleable {background-color: white;}#sk-container-id-6 label.sk-toggleable__label {cursor: pointer;display: block;width: 100%;margin-bottom: 0;padding: 0.3em;box-sizing: border-box;text-align: center;}#sk-container-id-6 label.sk-toggleable__label-arrow:before {content: \"▸\";float: left;margin-right: 0.25em;color: #696969;}#sk-container-id-6 label.sk-toggleable__label-arrow:hover:before {color: black;}#sk-container-id-6 div.sk-estimator:hover label.sk-toggleable__label-arrow:before {color: black;}#sk-container-id-6 div.sk-toggleable__content {max-height: 0;max-width: 0;overflow: hidden;text-align: left;background-color: #f0f8ff;}#sk-container-id-6 div.sk-toggleable__content pre {margin: 0.2em;color: black;border-radius: 0.25em;background-color: #f0f8ff;}#sk-container-id-6 input.sk-toggleable__control:checked~div.sk-toggleable__content {max-height: 200px;max-width: 100%;overflow: auto;}#sk-container-id-6 input.sk-toggleable__control:checked~label.sk-toggleable__label-arrow:before {content: \"▾\";}#sk-container-id-6 div.sk-estimator input.sk-toggleable__control:checked~label.sk-toggleable__label {background-color: #d4ebff;}#sk-container-id-6 div.sk-label input.sk-toggleable__control:checked~label.sk-toggleable__label {background-color: #d4ebff;}#sk-container-id-6 input.sk-hidden--visually {border: 0;clip: rect(1px 1px 1px 1px);clip: rect(1px, 1px, 1px, 1px);height: 1px;margin: -1px;overflow: hidden;padding: 0;position: absolute;width: 1px;}#sk-container-id-6 div.sk-estimator {font-family: monospace;background-color: #f0f8ff;border: 1px dotted black;border-radius: 0.25em;box-sizing: border-box;margin-bottom: 0.5em;}#sk-container-id-6 div.sk-estimator:hover {background-color: #d4ebff;}#sk-container-id-6 div.sk-parallel-item::after {content: \"\";width: 100%;border-bottom: 1px solid gray;flex-grow: 1;}#sk-container-id-6 div.sk-label:hover label.sk-toggleable__label {background-color: #d4ebff;}#sk-container-id-6 div.sk-serial::before {content: \"\";position: absolute;border-left: 1px solid gray;box-sizing: border-box;top: 0;bottom: 0;left: 50%;z-index: 0;}#sk-container-id-6 div.sk-serial {display: flex;flex-direction: column;align-items: center;background-color: white;padding-right: 0.2em;padding-left: 0.2em;position: relative;}#sk-container-id-6 div.sk-item {position: relative;z-index: 1;}#sk-container-id-6 div.sk-parallel {display: flex;align-items: stretch;justify-content: center;background-color: white;position: relative;}#sk-container-id-6 div.sk-item::before, #sk-container-id-6 div.sk-parallel-item::before {content: \"\";position: absolute;border-left: 1px solid gray;box-sizing: border-box;top: 0;bottom: 0;left: 50%;z-index: -1;}#sk-container-id-6 div.sk-parallel-item {display: flex;flex-direction: column;z-index: 1;position: relative;background-color: white;}#sk-container-id-6 div.sk-parallel-item:first-child::after {align-self: flex-end;width: 50%;}#sk-container-id-6 div.sk-parallel-item:last-child::after {align-self: flex-start;width: 50%;}#sk-container-id-6 div.sk-parallel-item:only-child::after {width: 0;}#sk-container-id-6 div.sk-dashed-wrapped {border: 1px dashed gray;margin: 0 0.4em 0.5em 0.4em;box-sizing: border-box;padding-bottom: 0.4em;background-color: white;}#sk-container-id-6 div.sk-label label {font-family: monospace;font-weight: bold;display: inline-block;line-height: 1.2em;}#sk-container-id-6 div.sk-label-container {text-align: center;}#sk-container-id-6 div.sk-container {/* jupyter's `normalize.less` sets `[hidden] { display: none; }` but bootstrap.min.css set `[hidden] { display: none !important; }` so we also need the `!important` here to be able to override the default hidden behavior on the sphinx rendered scikit-learn.org. See: https://github.com/scikit-learn/scikit-learn/issues/21755 */display: inline-block !important;position: relative;}#sk-container-id-6 div.sk-text-repr-fallback {display: none;}</style><div id=\"sk-container-id-6\" class=\"sk-top-container\"><div class=\"sk-text-repr-fallback\"><pre>GridSearchCV(cv=2, estimator=SVC(),\n",
       "             param_grid={&#x27;C&#x27;: [0.1, 1, 10], &#x27;class_weight&#x27;: [&#x27;balanced&#x27;],\n",
       "                         &#x27;gamma&#x27;: [1, 0.1, 0.01], &#x27;kernel&#x27;: [&#x27;rbf&#x27;]},\n",
       "             verbose=2)</pre><b>In a Jupyter environment, please rerun this cell to show the HTML representation or trust the notebook. <br />On GitHub, the HTML representation is unable to render, please try loading this page with nbviewer.org.</b></div><div class=\"sk-container\" hidden><div class=\"sk-item sk-dashed-wrapped\"><div class=\"sk-label-container\"><div class=\"sk-label sk-toggleable\"><input class=\"sk-toggleable__control sk-hidden--visually\" id=\"sk-estimator-id-10\" type=\"checkbox\" ><label for=\"sk-estimator-id-10\" class=\"sk-toggleable__label sk-toggleable__label-arrow\">GridSearchCV</label><div class=\"sk-toggleable__content\"><pre>GridSearchCV(cv=2, estimator=SVC(),\n",
       "             param_grid={&#x27;C&#x27;: [0.1, 1, 10], &#x27;class_weight&#x27;: [&#x27;balanced&#x27;],\n",
       "                         &#x27;gamma&#x27;: [1, 0.1, 0.01], &#x27;kernel&#x27;: [&#x27;rbf&#x27;]},\n",
       "             verbose=2)</pre></div></div></div><div class=\"sk-parallel\"><div class=\"sk-parallel-item\"><div class=\"sk-item\"><div class=\"sk-label-container\"><div class=\"sk-label sk-toggleable\"><input class=\"sk-toggleable__control sk-hidden--visually\" id=\"sk-estimator-id-11\" type=\"checkbox\" ><label for=\"sk-estimator-id-11\" class=\"sk-toggleable__label sk-toggleable__label-arrow\">estimator: SVC</label><div class=\"sk-toggleable__content\"><pre>SVC()</pre></div></div></div><div class=\"sk-serial\"><div class=\"sk-item\"><div class=\"sk-estimator sk-toggleable\"><input class=\"sk-toggleable__control sk-hidden--visually\" id=\"sk-estimator-id-12\" type=\"checkbox\" ><label for=\"sk-estimator-id-12\" class=\"sk-toggleable__label sk-toggleable__label-arrow\">SVC</label><div class=\"sk-toggleable__content\"><pre>SVC()</pre></div></div></div></div></div></div></div></div></div></div>"
      ],
      "text/plain": [
       "GridSearchCV(cv=2, estimator=SVC(),\n",
       "             param_grid={'C': [0.1, 1, 10], 'class_weight': ['balanced'],\n",
       "                         'gamma': [1, 0.1, 0.01], 'kernel': ['rbf']},\n",
       "             verbose=2)"
      ]
     },
     "execution_count": 87,
     "metadata": {},
     "output_type": "execute_result"
    }
   ],
   "source": [
    "grid_ros.fit(X_train_ros,Y_train_ros)"
   ]
  },
  {
   "cell_type": "code",
   "execution_count": 88,
   "id": "9bc68156",
   "metadata": {
    "execution": {
     "iopub.execute_input": "2024-07-03T17:54:39.634452Z",
     "iopub.status.busy": "2024-07-03T17:54:39.634086Z",
     "iopub.status.idle": "2024-07-03T17:54:39.639822Z",
     "shell.execute_reply": "2024-07-03T17:54:39.638687Z"
    },
    "papermill": {
     "duration": 0.045416,
     "end_time": "2024-07-03T17:54:39.641992",
     "exception": false,
     "start_time": "2024-07-03T17:54:39.596576",
     "status": "completed"
    },
    "tags": []
   },
   "outputs": [
    {
     "name": "stdout",
     "output_type": "stream",
     "text": [
      "SVC(C=10, class_weight='balanced', gamma=1)\n"
     ]
    }
   ],
   "source": [
    "print(grid_ros.best_estimator_)"
   ]
  },
  {
   "cell_type": "markdown",
   "id": "92707843",
   "metadata": {
    "papermill": {
     "duration": 0.036127,
     "end_time": "2024-07-03T17:54:39.714467",
     "exception": false,
     "start_time": "2024-07-03T17:54:39.678340",
     "status": "completed"
    },
    "tags": []
   },
   "source": [
    "Prediction"
   ]
  },
  {
   "cell_type": "code",
   "execution_count": 89,
   "id": "02e73106",
   "metadata": {
    "execution": {
     "iopub.execute_input": "2024-07-03T17:54:39.789171Z",
     "iopub.status.busy": "2024-07-03T17:54:39.788680Z",
     "iopub.status.idle": "2024-07-03T17:54:41.525974Z",
     "shell.execute_reply": "2024-07-03T17:54:41.524907Z"
    },
    "papermill": {
     "duration": 1.777778,
     "end_time": "2024-07-03T17:54:41.528605",
     "exception": false,
     "start_time": "2024-07-03T17:54:39.750827",
     "status": "completed"
    },
    "tags": []
   },
   "outputs": [],
   "source": [
    "Y_pred_ros=grid_ros.predict(X_test_ros)"
   ]
  },
  {
   "cell_type": "markdown",
   "id": "e605d461",
   "metadata": {
    "papermill": {
     "duration": 0.036905,
     "end_time": "2024-07-03T17:54:41.602185",
     "exception": false,
     "start_time": "2024-07-03T17:54:41.565280",
     "status": "completed"
    },
    "tags": []
   },
   "source": [
    "Performance Of SVM on random over sampled data after hyper parameter tunning"
   ]
  },
  {
   "cell_type": "code",
   "execution_count": 90,
   "id": "737113cb",
   "metadata": {
    "execution": {
     "iopub.execute_input": "2024-07-03T17:54:41.677595Z",
     "iopub.status.busy": "2024-07-03T17:54:41.677175Z",
     "iopub.status.idle": "2024-07-03T17:54:41.687218Z",
     "shell.execute_reply": "2024-07-03T17:54:41.686110Z"
    },
    "papermill": {
     "duration": 0.050523,
     "end_time": "2024-07-03T17:54:41.689714",
     "exception": false,
     "start_time": "2024-07-03T17:54:41.639191",
     "status": "completed"
    },
    "tags": []
   },
   "outputs": [
    {
     "data": {
      "text/plain": [
       "array([[2047,  332],\n",
       "       [  68, 2331]])"
      ]
     },
     "execution_count": 90,
     "metadata": {},
     "output_type": "execute_result"
    }
   ],
   "source": [
    "confusion_matrix(Y_test_ros,Y_pred_ros)"
   ]
  },
  {
   "cell_type": "code",
   "execution_count": 91,
   "id": "6e9cc2c8",
   "metadata": {
    "execution": {
     "iopub.execute_input": "2024-07-03T17:54:41.765543Z",
     "iopub.status.busy": "2024-07-03T17:54:41.764782Z",
     "iopub.status.idle": "2024-07-03T17:54:41.786708Z",
     "shell.execute_reply": "2024-07-03T17:54:41.785466Z"
    },
    "papermill": {
     "duration": 0.062629,
     "end_time": "2024-07-03T17:54:41.789236",
     "exception": false,
     "start_time": "2024-07-03T17:54:41.726607",
     "status": "completed"
    },
    "tags": []
   },
   "outputs": [
    {
     "name": "stdout",
     "output_type": "stream",
     "text": [
      "              precision    recall  f1-score   support\n",
      "\n",
      "           0       0.97      0.86      0.91      2379\n",
      "           1       0.88      0.97      0.92      2399\n",
      "\n",
      "    accuracy                           0.92      4778\n",
      "   macro avg       0.92      0.92      0.92      4778\n",
      "weighted avg       0.92      0.92      0.92      4778\n",
      "\n"
     ]
    }
   ],
   "source": [
    "print(classification_report(Y_test_ros,Y_pred_ros))"
   ]
  },
  {
   "cell_type": "markdown",
   "id": "07daec46",
   "metadata": {
    "papermill": {
     "duration": 0.03759,
     "end_time": "2024-07-03T17:54:41.864535",
     "exception": false,
     "start_time": "2024-07-03T17:54:41.826945",
     "status": "completed"
    },
    "tags": []
   },
   "source": [
    "Accuracy: Here as we are finding the accuracy for the above model evaluation we also find for all the possible combinations like before and after hyper parameter tunning and from this we conclude at this last technique that gives best accuracy as comapred to other.To compare accuracy we can also check same by changing the set of parameters."
   ]
  },
  {
   "cell_type": "code",
   "execution_count": 92,
   "id": "9c28b905",
   "metadata": {
    "execution": {
     "iopub.execute_input": "2024-07-03T17:54:41.940002Z",
     "iopub.status.busy": "2024-07-03T17:54:41.939578Z",
     "iopub.status.idle": "2024-07-03T17:54:41.948882Z",
     "shell.execute_reply": "2024-07-03T17:54:41.947887Z"
    },
    "papermill": {
     "duration": 0.049631,
     "end_time": "2024-07-03T17:54:41.951172",
     "exception": false,
     "start_time": "2024-07-03T17:54:41.901541",
     "status": "completed"
    },
    "tags": []
   },
   "outputs": [
    {
     "data": {
      "text/plain": [
       "0.9162829635830891"
      ]
     },
     "execution_count": 92,
     "metadata": {},
     "output_type": "execute_result"
    }
   ],
   "source": [
    "accuracy_score(Y_test_ros,Y_pred_ros)"
   ]
  },
  {
   "cell_type": "markdown",
   "id": "385486fa",
   "metadata": {
    "papermill": {
     "duration": 0.036481,
     "end_time": "2024-07-03T17:54:42.024543",
     "exception": false,
     "start_time": "2024-07-03T17:54:41.988062",
     "status": "completed"
    },
    "tags": []
   },
   "source": [
    "Explaination"
   ]
  },
  {
   "cell_type": "markdown",
   "id": "ae8b31e8",
   "metadata": {
    "papermill": {
     "duration": 0.037495,
     "end_time": "2024-07-03T17:54:42.098909",
     "exception": false,
     "start_time": "2024-07-03T17:54:42.061414",
     "status": "completed"
    },
    "tags": []
   },
   "source": [
    "In this project, we have used SVM model to classify bank customers into customers into customers that are most likely to leave /churn by using the dataset availaible to us related to it. We have analyzed data and we performed required steps as per as our objectives that is 1.Data Encoding 2.Feature Scaling 3.Handling Inbalance Data By: a.Random Under Sampling b.Random Over Sampling 4.Support Vector Machine Classification 5.Grid Search for Hyperparameter tunning.We used random sampling both methods to handle various imbalances in the data.We then also performed a accuracy test of svm model by using actual data,random oversampled data and random undersampled data which first came to be quite close then we used hyperparameter tunning for improving the model and performed same for all the cases. And finally we found out that'** Accuarcy of SVM model after hyperparameter tuning which was trained using random oversampled data was the maximum'.That was 91%approx**.Hence, we concluded that model trained using random oversampled data & after hyperparameter tunning is most accurate,efficient to be used for our task."
   ]
  }
 ],
 "metadata": {
  "colab": {
   "provenance": []
  },
  "kaggle": {
   "accelerator": "none",
   "dataSources": [
    {
     "datasetId": 5322103,
     "sourceId": 8842759,
     "sourceType": "datasetVersion"
    }
   ],
   "dockerImageVersionId": 30732,
   "isGpuEnabled": false,
   "isInternetEnabled": true,
   "language": "python",
   "sourceType": "notebook"
  },
  "kernelspec": {
   "display_name": "Python 3",
   "language": "python",
   "name": "python3"
  },
  "language_info": {
   "codemirror_mode": {
    "name": "ipython",
    "version": 3
   },
   "file_extension": ".py",
   "mimetype": "text/x-python",
   "name": "python",
   "nbconvert_exporter": "python",
   "pygments_lexer": "ipython3",
   "version": "3.10.13"
  },
  "papermill": {
   "default_parameters": {},
   "duration": 114.60194,
   "end_time": "2024-07-03T17:54:42.758352",
   "environment_variables": {},
   "exception": null,
   "input_path": "__notebook__.ipynb",
   "output_path": "__notebook__.ipynb",
   "parameters": {},
   "start_time": "2024-07-03T17:52:48.156412",
   "version": "2.5.0"
  }
 },
 "nbformat": 4,
 "nbformat_minor": 5
}
