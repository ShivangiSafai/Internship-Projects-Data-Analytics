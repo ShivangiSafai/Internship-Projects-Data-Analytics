{
  "nbformat": 4,
  "nbformat_minor": 0,
  "metadata": {
    "colab": {
      "provenance": []
    },
    "kernelspec": {
      "name": "python3",
      "display_name": "Python 3"
    },
    "language_info": {
      "name": "python"
    }
  },
  "cells": [
    {
      "cell_type": "markdown",
      "source": [
        "Topic: Financial Market News Sentimental Analysis"
      ],
      "metadata": {
        "id": "Sp79fwFNSlRe"
      }
    },
    {
      "cell_type": "markdown",
      "source": [
        "Objective:\n",
        "For a dummy/rough data of financial market there are some 25 news for the day and by this project we have to train and predict the model for overall sentiment analysis"
      ],
      "metadata": {
        "id": "KzX1LPWsSmn7"
      }
    },
    {
      "cell_type": "markdown",
      "source": [
        "Data Source: For this project we have refered the dataset of YBI-Foundation from their official github profile named 'Financial Market News.csv'."
      ],
      "metadata": {
        "id": "yMCXTG18Tyqo"
      }
    },
    {
      "cell_type": "markdown",
      "source": [
        "Import Library"
      ],
      "metadata": {
        "id": "pw5gZM3-Vzo1"
      }
    },
    {
      "cell_type": "code",
      "source": [
        "import pandas as pd\n",
        "import numpy as np"
      ],
      "metadata": {
        "id": "ZO_cT7tCV2A_"
      },
      "execution_count": 1,
      "outputs": []
    },
    {
      "cell_type": "markdown",
      "source": [
        "Import Data"
      ],
      "metadata": {
        "id": "1sapJ4ZEWpwC"
      }
    },
    {
      "cell_type": "code",
      "source": [
        "df=pd.read_csv('/content/Financial Market News.csv',encoding=\"ISO-8859-1\")"
      ],
      "metadata": {
        "id": "MU6cyVw4WrWu"
      },
      "execution_count": 4,
      "outputs": []
    },
    {
      "cell_type": "markdown",
      "source": [
        "Data Descibe"
      ],
      "metadata": {
        "id": "CUtiYwHZXM_G"
      }
    },
    {
      "cell_type": "code",
      "source": [
        "df.info()"
      ],
      "metadata": {
        "colab": {
          "base_uri": "https://localhost:8080/"
        },
        "id": "X6SXVEtQXcSS",
        "outputId": "a8897572-5933-48bb-fe1e-b04c58e6e519"
      },
      "execution_count": 5,
      "outputs": [
        {
          "output_type": "stream",
          "name": "stdout",
          "text": [
            "<class 'pandas.core.frame.DataFrame'>\n",
            "RangeIndex: 4101 entries, 0 to 4100\n",
            "Data columns (total 27 columns):\n",
            " #   Column   Non-Null Count  Dtype \n",
            "---  ------   --------------  ----- \n",
            " 0   Date     4101 non-null   object\n",
            " 1   Label    4101 non-null   int64 \n",
            " 2   News 1   4101 non-null   object\n",
            " 3   News 2   4101 non-null   object\n",
            " 4   News 3   4101 non-null   object\n",
            " 5   News 4   4101 non-null   object\n",
            " 6   News 5   4101 non-null   object\n",
            " 7   News 6   4101 non-null   object\n",
            " 8   News 7   4101 non-null   object\n",
            " 9   News 8   4101 non-null   object\n",
            " 10  News 9   4101 non-null   object\n",
            " 11  News 10  4101 non-null   object\n",
            " 12  News 11  4101 non-null   object\n",
            " 13  News 12  4101 non-null   object\n",
            " 14  News 13  4101 non-null   object\n",
            " 15  News 14  4101 non-null   object\n",
            " 16  News 15  4101 non-null   object\n",
            " 17  News 16  4101 non-null   object\n",
            " 18  News 17  4101 non-null   object\n",
            " 19  News 18  4101 non-null   object\n",
            " 20  News 19  4101 non-null   object\n",
            " 21  News 20  4101 non-null   object\n",
            " 22  News 21  4101 non-null   object\n",
            " 23  News 22  4101 non-null   object\n",
            " 24  News 23  4100 non-null   object\n",
            " 25  News 24  4098 non-null   object\n",
            " 26  News 25  4098 non-null   object\n",
            "dtypes: int64(1), object(26)\n",
            "memory usage: 865.2+ KB\n"
          ]
        }
      ]
    },
    {
      "cell_type": "code",
      "source": [
        "df.describe()"
      ],
      "metadata": {
        "colab": {
          "base_uri": "https://localhost:8080/",
          "height": 300
        },
        "id": "ZA9m1haGXfKB",
        "outputId": "b65438fe-2be3-4cc4-8506-322cb778d4de"
      },
      "execution_count": 6,
      "outputs": [
        {
          "output_type": "execute_result",
          "data": {
            "text/plain": [
              "             Label\n",
              "count  4101.000000\n",
              "mean      0.528164\n",
              "std       0.499267\n",
              "min       0.000000\n",
              "25%       0.000000\n",
              "50%       1.000000\n",
              "75%       1.000000\n",
              "max       1.000000"
            ],
            "text/html": [
              "\n",
              "  <div id=\"df-391827f4-d2a0-4a1d-b85c-c3ab1ab5e69f\" class=\"colab-df-container\">\n",
              "    <div>\n",
              "<style scoped>\n",
              "    .dataframe tbody tr th:only-of-type {\n",
              "        vertical-align: middle;\n",
              "    }\n",
              "\n",
              "    .dataframe tbody tr th {\n",
              "        vertical-align: top;\n",
              "    }\n",
              "\n",
              "    .dataframe thead th {\n",
              "        text-align: right;\n",
              "    }\n",
              "</style>\n",
              "<table border=\"1\" class=\"dataframe\">\n",
              "  <thead>\n",
              "    <tr style=\"text-align: right;\">\n",
              "      <th></th>\n",
              "      <th>Label</th>\n",
              "    </tr>\n",
              "  </thead>\n",
              "  <tbody>\n",
              "    <tr>\n",
              "      <th>count</th>\n",
              "      <td>4101.000000</td>\n",
              "    </tr>\n",
              "    <tr>\n",
              "      <th>mean</th>\n",
              "      <td>0.528164</td>\n",
              "    </tr>\n",
              "    <tr>\n",
              "      <th>std</th>\n",
              "      <td>0.499267</td>\n",
              "    </tr>\n",
              "    <tr>\n",
              "      <th>min</th>\n",
              "      <td>0.000000</td>\n",
              "    </tr>\n",
              "    <tr>\n",
              "      <th>25%</th>\n",
              "      <td>0.000000</td>\n",
              "    </tr>\n",
              "    <tr>\n",
              "      <th>50%</th>\n",
              "      <td>1.000000</td>\n",
              "    </tr>\n",
              "    <tr>\n",
              "      <th>75%</th>\n",
              "      <td>1.000000</td>\n",
              "    </tr>\n",
              "    <tr>\n",
              "      <th>max</th>\n",
              "      <td>1.000000</td>\n",
              "    </tr>\n",
              "  </tbody>\n",
              "</table>\n",
              "</div>\n",
              "    <div class=\"colab-df-buttons\">\n",
              "\n",
              "  <div class=\"colab-df-container\">\n",
              "    <button class=\"colab-df-convert\" onclick=\"convertToInteractive('df-391827f4-d2a0-4a1d-b85c-c3ab1ab5e69f')\"\n",
              "            title=\"Convert this dataframe to an interactive table.\"\n",
              "            style=\"display:none;\">\n",
              "\n",
              "  <svg xmlns=\"http://www.w3.org/2000/svg\" height=\"24px\" viewBox=\"0 -960 960 960\">\n",
              "    <path d=\"M120-120v-720h720v720H120Zm60-500h600v-160H180v160Zm220 220h160v-160H400v160Zm0 220h160v-160H400v160ZM180-400h160v-160H180v160Zm440 0h160v-160H620v160ZM180-180h160v-160H180v160Zm440 0h160v-160H620v160Z\"/>\n",
              "  </svg>\n",
              "    </button>\n",
              "\n",
              "  <style>\n",
              "    .colab-df-container {\n",
              "      display:flex;\n",
              "      gap: 12px;\n",
              "    }\n",
              "\n",
              "    .colab-df-convert {\n",
              "      background-color: #E8F0FE;\n",
              "      border: none;\n",
              "      border-radius: 50%;\n",
              "      cursor: pointer;\n",
              "      display: none;\n",
              "      fill: #1967D2;\n",
              "      height: 32px;\n",
              "      padding: 0 0 0 0;\n",
              "      width: 32px;\n",
              "    }\n",
              "\n",
              "    .colab-df-convert:hover {\n",
              "      background-color: #E2EBFA;\n",
              "      box-shadow: 0px 1px 2px rgba(60, 64, 67, 0.3), 0px 1px 3px 1px rgba(60, 64, 67, 0.15);\n",
              "      fill: #174EA6;\n",
              "    }\n",
              "\n",
              "    .colab-df-buttons div {\n",
              "      margin-bottom: 4px;\n",
              "    }\n",
              "\n",
              "    [theme=dark] .colab-df-convert {\n",
              "      background-color: #3B4455;\n",
              "      fill: #D2E3FC;\n",
              "    }\n",
              "\n",
              "    [theme=dark] .colab-df-convert:hover {\n",
              "      background-color: #434B5C;\n",
              "      box-shadow: 0px 1px 3px 1px rgba(0, 0, 0, 0.15);\n",
              "      filter: drop-shadow(0px 1px 2px rgba(0, 0, 0, 0.3));\n",
              "      fill: #FFFFFF;\n",
              "    }\n",
              "  </style>\n",
              "\n",
              "    <script>\n",
              "      const buttonEl =\n",
              "        document.querySelector('#df-391827f4-d2a0-4a1d-b85c-c3ab1ab5e69f button.colab-df-convert');\n",
              "      buttonEl.style.display =\n",
              "        google.colab.kernel.accessAllowed ? 'block' : 'none';\n",
              "\n",
              "      async function convertToInteractive(key) {\n",
              "        const element = document.querySelector('#df-391827f4-d2a0-4a1d-b85c-c3ab1ab5e69f');\n",
              "        const dataTable =\n",
              "          await google.colab.kernel.invokeFunction('convertToInteractive',\n",
              "                                                    [key], {});\n",
              "        if (!dataTable) return;\n",
              "\n",
              "        const docLinkHtml = 'Like what you see? Visit the ' +\n",
              "          '<a target=\"_blank\" href=https://colab.research.google.com/notebooks/data_table.ipynb>data table notebook</a>'\n",
              "          + ' to learn more about interactive tables.';\n",
              "        element.innerHTML = '';\n",
              "        dataTable['output_type'] = 'display_data';\n",
              "        await google.colab.output.renderOutput(dataTable, element);\n",
              "        const docLink = document.createElement('div');\n",
              "        docLink.innerHTML = docLinkHtml;\n",
              "        element.appendChild(docLink);\n",
              "      }\n",
              "    </script>\n",
              "  </div>\n",
              "\n",
              "\n",
              "<div id=\"df-9250ee87-4f1e-4e34-adc9-88ce31144512\">\n",
              "  <button class=\"colab-df-quickchart\" onclick=\"quickchart('df-9250ee87-4f1e-4e34-adc9-88ce31144512')\"\n",
              "            title=\"Suggest charts\"\n",
              "            style=\"display:none;\">\n",
              "\n",
              "<svg xmlns=\"http://www.w3.org/2000/svg\" height=\"24px\"viewBox=\"0 0 24 24\"\n",
              "     width=\"24px\">\n",
              "    <g>\n",
              "        <path d=\"M19 3H5c-1.1 0-2 .9-2 2v14c0 1.1.9 2 2 2h14c1.1 0 2-.9 2-2V5c0-1.1-.9-2-2-2zM9 17H7v-7h2v7zm4 0h-2V7h2v10zm4 0h-2v-4h2v4z\"/>\n",
              "    </g>\n",
              "</svg>\n",
              "  </button>\n",
              "\n",
              "<style>\n",
              "  .colab-df-quickchart {\n",
              "      --bg-color: #E8F0FE;\n",
              "      --fill-color: #1967D2;\n",
              "      --hover-bg-color: #E2EBFA;\n",
              "      --hover-fill-color: #174EA6;\n",
              "      --disabled-fill-color: #AAA;\n",
              "      --disabled-bg-color: #DDD;\n",
              "  }\n",
              "\n",
              "  [theme=dark] .colab-df-quickchart {\n",
              "      --bg-color: #3B4455;\n",
              "      --fill-color: #D2E3FC;\n",
              "      --hover-bg-color: #434B5C;\n",
              "      --hover-fill-color: #FFFFFF;\n",
              "      --disabled-bg-color: #3B4455;\n",
              "      --disabled-fill-color: #666;\n",
              "  }\n",
              "\n",
              "  .colab-df-quickchart {\n",
              "    background-color: var(--bg-color);\n",
              "    border: none;\n",
              "    border-radius: 50%;\n",
              "    cursor: pointer;\n",
              "    display: none;\n",
              "    fill: var(--fill-color);\n",
              "    height: 32px;\n",
              "    padding: 0;\n",
              "    width: 32px;\n",
              "  }\n",
              "\n",
              "  .colab-df-quickchart:hover {\n",
              "    background-color: var(--hover-bg-color);\n",
              "    box-shadow: 0 1px 2px rgba(60, 64, 67, 0.3), 0 1px 3px 1px rgba(60, 64, 67, 0.15);\n",
              "    fill: var(--button-hover-fill-color);\n",
              "  }\n",
              "\n",
              "  .colab-df-quickchart-complete:disabled,\n",
              "  .colab-df-quickchart-complete:disabled:hover {\n",
              "    background-color: var(--disabled-bg-color);\n",
              "    fill: var(--disabled-fill-color);\n",
              "    box-shadow: none;\n",
              "  }\n",
              "\n",
              "  .colab-df-spinner {\n",
              "    border: 2px solid var(--fill-color);\n",
              "    border-color: transparent;\n",
              "    border-bottom-color: var(--fill-color);\n",
              "    animation:\n",
              "      spin 1s steps(1) infinite;\n",
              "  }\n",
              "\n",
              "  @keyframes spin {\n",
              "    0% {\n",
              "      border-color: transparent;\n",
              "      border-bottom-color: var(--fill-color);\n",
              "      border-left-color: var(--fill-color);\n",
              "    }\n",
              "    20% {\n",
              "      border-color: transparent;\n",
              "      border-left-color: var(--fill-color);\n",
              "      border-top-color: var(--fill-color);\n",
              "    }\n",
              "    30% {\n",
              "      border-color: transparent;\n",
              "      border-left-color: var(--fill-color);\n",
              "      border-top-color: var(--fill-color);\n",
              "      border-right-color: var(--fill-color);\n",
              "    }\n",
              "    40% {\n",
              "      border-color: transparent;\n",
              "      border-right-color: var(--fill-color);\n",
              "      border-top-color: var(--fill-color);\n",
              "    }\n",
              "    60% {\n",
              "      border-color: transparent;\n",
              "      border-right-color: var(--fill-color);\n",
              "    }\n",
              "    80% {\n",
              "      border-color: transparent;\n",
              "      border-right-color: var(--fill-color);\n",
              "      border-bottom-color: var(--fill-color);\n",
              "    }\n",
              "    90% {\n",
              "      border-color: transparent;\n",
              "      border-bottom-color: var(--fill-color);\n",
              "    }\n",
              "  }\n",
              "</style>\n",
              "\n",
              "  <script>\n",
              "    async function quickchart(key) {\n",
              "      const quickchartButtonEl =\n",
              "        document.querySelector('#' + key + ' button');\n",
              "      quickchartButtonEl.disabled = true;  // To prevent multiple clicks.\n",
              "      quickchartButtonEl.classList.add('colab-df-spinner');\n",
              "      try {\n",
              "        const charts = await google.colab.kernel.invokeFunction(\n",
              "            'suggestCharts', [key], {});\n",
              "      } catch (error) {\n",
              "        console.error('Error during call to suggestCharts:', error);\n",
              "      }\n",
              "      quickchartButtonEl.classList.remove('colab-df-spinner');\n",
              "      quickchartButtonEl.classList.add('colab-df-quickchart-complete');\n",
              "    }\n",
              "    (() => {\n",
              "      let quickchartButtonEl =\n",
              "        document.querySelector('#df-9250ee87-4f1e-4e34-adc9-88ce31144512 button');\n",
              "      quickchartButtonEl.style.display =\n",
              "        google.colab.kernel.accessAllowed ? 'block' : 'none';\n",
              "    })();\n",
              "  </script>\n",
              "</div>\n",
              "\n",
              "    </div>\n",
              "  </div>\n"
            ],
            "application/vnd.google.colaboratory.intrinsic+json": {
              "type": "dataframe",
              "summary": "{\n  \"name\": \"df\",\n  \"rows\": 8,\n  \"fields\": [\n    {\n      \"column\": \"Label\",\n      \"properties\": {\n        \"dtype\": \"number\",\n        \"std\": 1449.719098513576,\n        \"min\": 0.0,\n        \"max\": 4101.0,\n        \"num_unique_values\": 5,\n        \"samples\": [\n          0.5281638624725676,\n          1.0,\n          0.4992670417684304\n        ],\n        \"semantic_type\": \"\",\n        \"description\": \"\"\n      }\n    }\n  ]\n}"
            }
          },
          "metadata": {},
          "execution_count": 6
        }
      ]
    },
    {
      "cell_type": "code",
      "source": [
        "df.head()"
      ],
      "metadata": {
        "colab": {
          "base_uri": "https://localhost:8080/",
          "height": 724
        },
        "id": "EOKl8Gv5XjfU",
        "outputId": "cadb2b63-5c27-46f8-82a4-5b64ab15c679"
      },
      "execution_count": 7,
      "outputs": [
        {
          "output_type": "execute_result",
          "data": {
            "text/plain": [
              "         Date  Label                                             News 1  \\\n",
              "0  01-01-2010      0           McIlroy's men catch cold from Gudjonsson   \n",
              "1  02-01-2010      0               Warning from history points to crash   \n",
              "2  03-01-2010      0      Comment: Why Israel's peaceniks feel betrayed   \n",
              "3  04-01-2010      1             £750,000-a-goal Weah aims parting shot   \n",
              "4  05-01-2010      1  Leeds arrive in Turkey to the silence of the fans   \n",
              "\n",
              "                                       News 2  \\\n",
              "0                       Obituary: Brian Walsh   \n",
              "1              Investors flee to dollar haven   \n",
              "2  Court deals blow to seizure of drug assets   \n",
              "3            Newcastle pay for Fletcher years   \n",
              "4     One woman's vision offers loan lifeline   \n",
              "\n",
              "                                            News 3  \\\n",
              "0       Workplace blues leave employers in the red   \n",
              "1                      Banks and tobacco in favour   \n",
              "2                       An ideal target for spooks   \n",
              "3  Brown sent to the stands for Scotland qualifier   \n",
              "4          Working Lives: How world leaders worked   \n",
              "\n",
              "                                        News 4  \\\n",
              "0                     Classical review: Rattle   \n",
              "1                        Review: Llama Farmers   \n",
              "2  World steps between two sides intent on war   \n",
              "3         Tourists wary of breaking new ground   \n",
              "4           Working Lives: Tricks of the trade   \n",
              "\n",
              "                                              News 5  \\\n",
              "0                     Dance review: Merce Cunningham   \n",
              "1                       War jitters lead to sell-off   \n",
              "2                       What the region's papers say   \n",
              "3              Canary Wharf climbs into the FTSE 100   \n",
              "4  Working Lives: six-hour days, long lunches and...   \n",
              "\n",
              "                                         News 6  \\\n",
              "0  Genetic tests to be used in setting premiums   \n",
              "1                    Your not-so-secret history   \n",
              "2           Comment: Fear and rage in Palestine   \n",
              "3                           Review: Bill Bailey   \n",
              "4                        Pop review: We Love UK   \n",
              "\n",
              "                                          News 7  \\\n",
              "0                        Opera review: La Bohème   \n",
              "1                  Review: The Northern Sinfonia   \n",
              "2  Poverty and resentment fuels Palestinian fury   \n",
              "3                              Review: Classical   \n",
              "4               World music review: Marisa Monte   \n",
              "\n",
              "                                        News 8  ...  \\\n",
              "0                   Pop review: Britney Spears  ...   \n",
              "1                             Review: Hysteria  ...   \n",
              "2  Republican feud fear as dissident is killed  ...   \n",
              "3              Review: New Contemporaries 2000  ...   \n",
              "4             Art review:  Hollingsworth/Heyer  ...   \n",
              "\n",
              "                                News 16                              News 17  \\\n",
              "0                 Finland 0 - 0 England                   Healy a marked man   \n",
              "1  Why Wenger will stick to his Gunners  Out of luck England hit rock bottom   \n",
              "2             FTSE goes upwardly mobile             At this price?  BP Amoco   \n",
              "3         More cash on way for counties      Cairns carries Kiwis to victory   \n",
              "4          Duisenberg in double trouble           Pru to cut pension charges   \n",
              "\n",
              "                                             News 18  \\\n",
              "0                     Happy birthday Harpers & Queen   \n",
              "1                         Wilkinson out of his depth   \n",
              "2                                            Go fish   \n",
              "3  Year of Blanchflower's flourish when Spurs sto...   \n",
              "4                            Art review: Paul Graham   \n",
              "\n",
              "                                             News 19  \\\n",
              "0  Win unlimited access to the Raindance film fes...   \n",
              "1                   Kinsella sparks Irish power play   \n",
              "2         Bosnian Serb blows himself up to evade law   \n",
              "3      New direct approach brings only pay-per-blues   \n",
              "4               Shearer shot sparks Boro humiliation   \n",
              "\n",
              "                                             News 20  \\\n",
              "0  Labour pledges £800m to bridge north-south divide   \n",
              "1                    Brown banished as Scots rebound   \n",
              "2                       Orange float delayed to 2001   \n",
              "3                           Third Division  round-up   \n",
              "4  Ridsdale's lingering fears as Leeds revisit Tu...   \n",
              "\n",
              "                                             News 21  \\\n",
              "0       Wales: Lib-Lab pact firm despite resignation   \n",
              "1                   Battling Wales cling to lifeline   \n",
              "2  Angry factory workers root out fear, favours a...   \n",
              "3                          Second Division  round-up   \n",
              "4            Champions League: Rangers v Galatasaray   \n",
              "\n",
              "                              News 22  \\\n",
              "0                        Donald Dewar   \n",
              "1   Ehiogu close to sealing Boro move   \n",
              "2  Smith defied advice on dome payout   \n",
              "3            First Division  round-up   \n",
              "4   Champions League: Lazio v Arsenal   \n",
              "\n",
              "                                             News 23  \\\n",
              "0  Regenerating homes  regenerates well-being in ...   \n",
              "1                                 Man-to-man marking   \n",
              "2                        Xerox takes the axe to jobs   \n",
              "3                McLean ends his career with a punch   \n",
              "4                                Lazio 1 - 1 Arsenal   \n",
              "\n",
              "                        News 24  \\\n",
              "0   Win £100 worth of underwear   \n",
              "1                   Match stats   \n",
              "2  Comment: Refugees in Britain   \n",
              "3     Heskey grabs triple crown   \n",
              "4           England in Pakistan   \n",
              "\n",
              "                                             News 25  \n",
              "0                             TV guide: Random views  \n",
              "1  French referee at centre of storm is no strang...  \n",
              "2              Maverick who sparked the new intifada  \n",
              "3                   Weah on his way as City march on  \n",
              "4               England given olive-branch reception  \n",
              "\n",
              "[5 rows x 27 columns]"
            ],
            "text/html": [
              "\n",
              "  <div id=\"df-9fbd1d4f-3880-44d7-a0c7-9760696e59a6\" class=\"colab-df-container\">\n",
              "    <div>\n",
              "<style scoped>\n",
              "    .dataframe tbody tr th:only-of-type {\n",
              "        vertical-align: middle;\n",
              "    }\n",
              "\n",
              "    .dataframe tbody tr th {\n",
              "        vertical-align: top;\n",
              "    }\n",
              "\n",
              "    .dataframe thead th {\n",
              "        text-align: right;\n",
              "    }\n",
              "</style>\n",
              "<table border=\"1\" class=\"dataframe\">\n",
              "  <thead>\n",
              "    <tr style=\"text-align: right;\">\n",
              "      <th></th>\n",
              "      <th>Date</th>\n",
              "      <th>Label</th>\n",
              "      <th>News 1</th>\n",
              "      <th>News 2</th>\n",
              "      <th>News 3</th>\n",
              "      <th>News 4</th>\n",
              "      <th>News 5</th>\n",
              "      <th>News 6</th>\n",
              "      <th>News 7</th>\n",
              "      <th>News 8</th>\n",
              "      <th>...</th>\n",
              "      <th>News 16</th>\n",
              "      <th>News 17</th>\n",
              "      <th>News 18</th>\n",
              "      <th>News 19</th>\n",
              "      <th>News 20</th>\n",
              "      <th>News 21</th>\n",
              "      <th>News 22</th>\n",
              "      <th>News 23</th>\n",
              "      <th>News 24</th>\n",
              "      <th>News 25</th>\n",
              "    </tr>\n",
              "  </thead>\n",
              "  <tbody>\n",
              "    <tr>\n",
              "      <th>0</th>\n",
              "      <td>01-01-2010</td>\n",
              "      <td>0</td>\n",
              "      <td>McIlroy's men catch cold from Gudjonsson</td>\n",
              "      <td>Obituary: Brian Walsh</td>\n",
              "      <td>Workplace blues leave employers in the red</td>\n",
              "      <td>Classical review: Rattle</td>\n",
              "      <td>Dance review: Merce Cunningham</td>\n",
              "      <td>Genetic tests to be used in setting premiums</td>\n",
              "      <td>Opera review: La Bohème</td>\n",
              "      <td>Pop review: Britney Spears</td>\n",
              "      <td>...</td>\n",
              "      <td>Finland 0 - 0 England</td>\n",
              "      <td>Healy a marked man</td>\n",
              "      <td>Happy birthday Harpers &amp; Queen</td>\n",
              "      <td>Win unlimited access to the Raindance film fes...</td>\n",
              "      <td>Labour pledges £800m to bridge north-south divide</td>\n",
              "      <td>Wales: Lib-Lab pact firm despite resignation</td>\n",
              "      <td>Donald Dewar</td>\n",
              "      <td>Regenerating homes  regenerates well-being in ...</td>\n",
              "      <td>Win £100 worth of underwear</td>\n",
              "      <td>TV guide: Random views</td>\n",
              "    </tr>\n",
              "    <tr>\n",
              "      <th>1</th>\n",
              "      <td>02-01-2010</td>\n",
              "      <td>0</td>\n",
              "      <td>Warning from history points to crash</td>\n",
              "      <td>Investors flee to dollar haven</td>\n",
              "      <td>Banks and tobacco in favour</td>\n",
              "      <td>Review: Llama Farmers</td>\n",
              "      <td>War jitters lead to sell-off</td>\n",
              "      <td>Your not-so-secret history</td>\n",
              "      <td>Review: The Northern Sinfonia</td>\n",
              "      <td>Review: Hysteria</td>\n",
              "      <td>...</td>\n",
              "      <td>Why Wenger will stick to his Gunners</td>\n",
              "      <td>Out of luck England hit rock bottom</td>\n",
              "      <td>Wilkinson out of his depth</td>\n",
              "      <td>Kinsella sparks Irish power play</td>\n",
              "      <td>Brown banished as Scots rebound</td>\n",
              "      <td>Battling Wales cling to lifeline</td>\n",
              "      <td>Ehiogu close to sealing Boro move</td>\n",
              "      <td>Man-to-man marking</td>\n",
              "      <td>Match stats</td>\n",
              "      <td>French referee at centre of storm is no strang...</td>\n",
              "    </tr>\n",
              "    <tr>\n",
              "      <th>2</th>\n",
              "      <td>03-01-2010</td>\n",
              "      <td>0</td>\n",
              "      <td>Comment: Why Israel's peaceniks feel betrayed</td>\n",
              "      <td>Court deals blow to seizure of drug assets</td>\n",
              "      <td>An ideal target for spooks</td>\n",
              "      <td>World steps between two sides intent on war</td>\n",
              "      <td>What the region's papers say</td>\n",
              "      <td>Comment: Fear and rage in Palestine</td>\n",
              "      <td>Poverty and resentment fuels Palestinian fury</td>\n",
              "      <td>Republican feud fear as dissident is killed</td>\n",
              "      <td>...</td>\n",
              "      <td>FTSE goes upwardly mobile</td>\n",
              "      <td>At this price?  BP Amoco</td>\n",
              "      <td>Go fish</td>\n",
              "      <td>Bosnian Serb blows himself up to evade law</td>\n",
              "      <td>Orange float delayed to 2001</td>\n",
              "      <td>Angry factory workers root out fear, favours a...</td>\n",
              "      <td>Smith defied advice on dome payout</td>\n",
              "      <td>Xerox takes the axe to jobs</td>\n",
              "      <td>Comment: Refugees in Britain</td>\n",
              "      <td>Maverick who sparked the new intifada</td>\n",
              "    </tr>\n",
              "    <tr>\n",
              "      <th>3</th>\n",
              "      <td>04-01-2010</td>\n",
              "      <td>1</td>\n",
              "      <td>£750,000-a-goal Weah aims parting shot</td>\n",
              "      <td>Newcastle pay for Fletcher years</td>\n",
              "      <td>Brown sent to the stands for Scotland qualifier</td>\n",
              "      <td>Tourists wary of breaking new ground</td>\n",
              "      <td>Canary Wharf climbs into the FTSE 100</td>\n",
              "      <td>Review: Bill Bailey</td>\n",
              "      <td>Review: Classical</td>\n",
              "      <td>Review: New Contemporaries 2000</td>\n",
              "      <td>...</td>\n",
              "      <td>More cash on way for counties</td>\n",
              "      <td>Cairns carries Kiwis to victory</td>\n",
              "      <td>Year of Blanchflower's flourish when Spurs sto...</td>\n",
              "      <td>New direct approach brings only pay-per-blues</td>\n",
              "      <td>Third Division  round-up</td>\n",
              "      <td>Second Division  round-up</td>\n",
              "      <td>First Division  round-up</td>\n",
              "      <td>McLean ends his career with a punch</td>\n",
              "      <td>Heskey grabs triple crown</td>\n",
              "      <td>Weah on his way as City march on</td>\n",
              "    </tr>\n",
              "    <tr>\n",
              "      <th>4</th>\n",
              "      <td>05-01-2010</td>\n",
              "      <td>1</td>\n",
              "      <td>Leeds arrive in Turkey to the silence of the fans</td>\n",
              "      <td>One woman's vision offers loan lifeline</td>\n",
              "      <td>Working Lives: How world leaders worked</td>\n",
              "      <td>Working Lives: Tricks of the trade</td>\n",
              "      <td>Working Lives: six-hour days, long lunches and...</td>\n",
              "      <td>Pop review: We Love UK</td>\n",
              "      <td>World music review: Marisa Monte</td>\n",
              "      <td>Art review:  Hollingsworth/Heyer</td>\n",
              "      <td>...</td>\n",
              "      <td>Duisenberg in double trouble</td>\n",
              "      <td>Pru to cut pension charges</td>\n",
              "      <td>Art review: Paul Graham</td>\n",
              "      <td>Shearer shot sparks Boro humiliation</td>\n",
              "      <td>Ridsdale's lingering fears as Leeds revisit Tu...</td>\n",
              "      <td>Champions League: Rangers v Galatasaray</td>\n",
              "      <td>Champions League: Lazio v Arsenal</td>\n",
              "      <td>Lazio 1 - 1 Arsenal</td>\n",
              "      <td>England in Pakistan</td>\n",
              "      <td>England given olive-branch reception</td>\n",
              "    </tr>\n",
              "  </tbody>\n",
              "</table>\n",
              "<p>5 rows × 27 columns</p>\n",
              "</div>\n",
              "    <div class=\"colab-df-buttons\">\n",
              "\n",
              "  <div class=\"colab-df-container\">\n",
              "    <button class=\"colab-df-convert\" onclick=\"convertToInteractive('df-9fbd1d4f-3880-44d7-a0c7-9760696e59a6')\"\n",
              "            title=\"Convert this dataframe to an interactive table.\"\n",
              "            style=\"display:none;\">\n",
              "\n",
              "  <svg xmlns=\"http://www.w3.org/2000/svg\" height=\"24px\" viewBox=\"0 -960 960 960\">\n",
              "    <path d=\"M120-120v-720h720v720H120Zm60-500h600v-160H180v160Zm220 220h160v-160H400v160Zm0 220h160v-160H400v160ZM180-400h160v-160H180v160Zm440 0h160v-160H620v160ZM180-180h160v-160H180v160Zm440 0h160v-160H620v160Z\"/>\n",
              "  </svg>\n",
              "    </button>\n",
              "\n",
              "  <style>\n",
              "    .colab-df-container {\n",
              "      display:flex;\n",
              "      gap: 12px;\n",
              "    }\n",
              "\n",
              "    .colab-df-convert {\n",
              "      background-color: #E8F0FE;\n",
              "      border: none;\n",
              "      border-radius: 50%;\n",
              "      cursor: pointer;\n",
              "      display: none;\n",
              "      fill: #1967D2;\n",
              "      height: 32px;\n",
              "      padding: 0 0 0 0;\n",
              "      width: 32px;\n",
              "    }\n",
              "\n",
              "    .colab-df-convert:hover {\n",
              "      background-color: #E2EBFA;\n",
              "      box-shadow: 0px 1px 2px rgba(60, 64, 67, 0.3), 0px 1px 3px 1px rgba(60, 64, 67, 0.15);\n",
              "      fill: #174EA6;\n",
              "    }\n",
              "\n",
              "    .colab-df-buttons div {\n",
              "      margin-bottom: 4px;\n",
              "    }\n",
              "\n",
              "    [theme=dark] .colab-df-convert {\n",
              "      background-color: #3B4455;\n",
              "      fill: #D2E3FC;\n",
              "    }\n",
              "\n",
              "    [theme=dark] .colab-df-convert:hover {\n",
              "      background-color: #434B5C;\n",
              "      box-shadow: 0px 1px 3px 1px rgba(0, 0, 0, 0.15);\n",
              "      filter: drop-shadow(0px 1px 2px rgba(0, 0, 0, 0.3));\n",
              "      fill: #FFFFFF;\n",
              "    }\n",
              "  </style>\n",
              "\n",
              "    <script>\n",
              "      const buttonEl =\n",
              "        document.querySelector('#df-9fbd1d4f-3880-44d7-a0c7-9760696e59a6 button.colab-df-convert');\n",
              "      buttonEl.style.display =\n",
              "        google.colab.kernel.accessAllowed ? 'block' : 'none';\n",
              "\n",
              "      async function convertToInteractive(key) {\n",
              "        const element = document.querySelector('#df-9fbd1d4f-3880-44d7-a0c7-9760696e59a6');\n",
              "        const dataTable =\n",
              "          await google.colab.kernel.invokeFunction('convertToInteractive',\n",
              "                                                    [key], {});\n",
              "        if (!dataTable) return;\n",
              "\n",
              "        const docLinkHtml = 'Like what you see? Visit the ' +\n",
              "          '<a target=\"_blank\" href=https://colab.research.google.com/notebooks/data_table.ipynb>data table notebook</a>'\n",
              "          + ' to learn more about interactive tables.';\n",
              "        element.innerHTML = '';\n",
              "        dataTable['output_type'] = 'display_data';\n",
              "        await google.colab.output.renderOutput(dataTable, element);\n",
              "        const docLink = document.createElement('div');\n",
              "        docLink.innerHTML = docLinkHtml;\n",
              "        element.appendChild(docLink);\n",
              "      }\n",
              "    </script>\n",
              "  </div>\n",
              "\n",
              "\n",
              "<div id=\"df-7e49d91b-21e9-4ca4-92fe-9069427ac676\">\n",
              "  <button class=\"colab-df-quickchart\" onclick=\"quickchart('df-7e49d91b-21e9-4ca4-92fe-9069427ac676')\"\n",
              "            title=\"Suggest charts\"\n",
              "            style=\"display:none;\">\n",
              "\n",
              "<svg xmlns=\"http://www.w3.org/2000/svg\" height=\"24px\"viewBox=\"0 0 24 24\"\n",
              "     width=\"24px\">\n",
              "    <g>\n",
              "        <path d=\"M19 3H5c-1.1 0-2 .9-2 2v14c0 1.1.9 2 2 2h14c1.1 0 2-.9 2-2V5c0-1.1-.9-2-2-2zM9 17H7v-7h2v7zm4 0h-2V7h2v10zm4 0h-2v-4h2v4z\"/>\n",
              "    </g>\n",
              "</svg>\n",
              "  </button>\n",
              "\n",
              "<style>\n",
              "  .colab-df-quickchart {\n",
              "      --bg-color: #E8F0FE;\n",
              "      --fill-color: #1967D2;\n",
              "      --hover-bg-color: #E2EBFA;\n",
              "      --hover-fill-color: #174EA6;\n",
              "      --disabled-fill-color: #AAA;\n",
              "      --disabled-bg-color: #DDD;\n",
              "  }\n",
              "\n",
              "  [theme=dark] .colab-df-quickchart {\n",
              "      --bg-color: #3B4455;\n",
              "      --fill-color: #D2E3FC;\n",
              "      --hover-bg-color: #434B5C;\n",
              "      --hover-fill-color: #FFFFFF;\n",
              "      --disabled-bg-color: #3B4455;\n",
              "      --disabled-fill-color: #666;\n",
              "  }\n",
              "\n",
              "  .colab-df-quickchart {\n",
              "    background-color: var(--bg-color);\n",
              "    border: none;\n",
              "    border-radius: 50%;\n",
              "    cursor: pointer;\n",
              "    display: none;\n",
              "    fill: var(--fill-color);\n",
              "    height: 32px;\n",
              "    padding: 0;\n",
              "    width: 32px;\n",
              "  }\n",
              "\n",
              "  .colab-df-quickchart:hover {\n",
              "    background-color: var(--hover-bg-color);\n",
              "    box-shadow: 0 1px 2px rgba(60, 64, 67, 0.3), 0 1px 3px 1px rgba(60, 64, 67, 0.15);\n",
              "    fill: var(--button-hover-fill-color);\n",
              "  }\n",
              "\n",
              "  .colab-df-quickchart-complete:disabled,\n",
              "  .colab-df-quickchart-complete:disabled:hover {\n",
              "    background-color: var(--disabled-bg-color);\n",
              "    fill: var(--disabled-fill-color);\n",
              "    box-shadow: none;\n",
              "  }\n",
              "\n",
              "  .colab-df-spinner {\n",
              "    border: 2px solid var(--fill-color);\n",
              "    border-color: transparent;\n",
              "    border-bottom-color: var(--fill-color);\n",
              "    animation:\n",
              "      spin 1s steps(1) infinite;\n",
              "  }\n",
              "\n",
              "  @keyframes spin {\n",
              "    0% {\n",
              "      border-color: transparent;\n",
              "      border-bottom-color: var(--fill-color);\n",
              "      border-left-color: var(--fill-color);\n",
              "    }\n",
              "    20% {\n",
              "      border-color: transparent;\n",
              "      border-left-color: var(--fill-color);\n",
              "      border-top-color: var(--fill-color);\n",
              "    }\n",
              "    30% {\n",
              "      border-color: transparent;\n",
              "      border-left-color: var(--fill-color);\n",
              "      border-top-color: var(--fill-color);\n",
              "      border-right-color: var(--fill-color);\n",
              "    }\n",
              "    40% {\n",
              "      border-color: transparent;\n",
              "      border-right-color: var(--fill-color);\n",
              "      border-top-color: var(--fill-color);\n",
              "    }\n",
              "    60% {\n",
              "      border-color: transparent;\n",
              "      border-right-color: var(--fill-color);\n",
              "    }\n",
              "    80% {\n",
              "      border-color: transparent;\n",
              "      border-right-color: var(--fill-color);\n",
              "      border-bottom-color: var(--fill-color);\n",
              "    }\n",
              "    90% {\n",
              "      border-color: transparent;\n",
              "      border-bottom-color: var(--fill-color);\n",
              "    }\n",
              "  }\n",
              "</style>\n",
              "\n",
              "  <script>\n",
              "    async function quickchart(key) {\n",
              "      const quickchartButtonEl =\n",
              "        document.querySelector('#' + key + ' button');\n",
              "      quickchartButtonEl.disabled = true;  // To prevent multiple clicks.\n",
              "      quickchartButtonEl.classList.add('colab-df-spinner');\n",
              "      try {\n",
              "        const charts = await google.colab.kernel.invokeFunction(\n",
              "            'suggestCharts', [key], {});\n",
              "      } catch (error) {\n",
              "        console.error('Error during call to suggestCharts:', error);\n",
              "      }\n",
              "      quickchartButtonEl.classList.remove('colab-df-spinner');\n",
              "      quickchartButtonEl.classList.add('colab-df-quickchart-complete');\n",
              "    }\n",
              "    (() => {\n",
              "      let quickchartButtonEl =\n",
              "        document.querySelector('#df-7e49d91b-21e9-4ca4-92fe-9069427ac676 button');\n",
              "      quickchartButtonEl.style.display =\n",
              "        google.colab.kernel.accessAllowed ? 'block' : 'none';\n",
              "    })();\n",
              "  </script>\n",
              "</div>\n",
              "\n",
              "    </div>\n",
              "  </div>\n"
            ],
            "application/vnd.google.colaboratory.intrinsic+json": {
              "type": "dataframe",
              "variable_name": "df"
            }
          },
          "metadata": {},
          "execution_count": 7
        }
      ]
    },
    {
      "cell_type": "code",
      "source": [
        "df.tail()"
      ],
      "metadata": {
        "colab": {
          "base_uri": "https://localhost:8080/",
          "height": 793
        },
        "id": "v0PMs7wdXn0c",
        "outputId": "7cfb0aad-4aab-4a4e-820c-c6d62e5d83e4"
      },
      "execution_count": 8,
      "outputs": [
        {
          "output_type": "execute_result",
          "data": {
            "text/plain": [
              "            Date  Label                                             News 1  \\\n",
              "4096  20-03-2021      0  Barclays and RBS shares suspended from trading...   \n",
              "4097  21-03-2021      1  2,500 Scientists To Australia: If You Want To ...   \n",
              "4098  22-03-2021      1                   Explosion At Airport In Istanbul   \n",
              "4099  23-03-2021      1  Jamaica proposes marijuana dispensers for tour...   \n",
              "4100  24-03-2021      1  A 117-year-old woman in Mexico City finally re...   \n",
              "\n",
              "                                                 News 2  \\\n",
              "4096  Pope says Church should ask forgiveness from g...   \n",
              "4097  The personal details of 112,000 French police ...   \n",
              "4098  Yemeni former president: Terrorism is the offs...   \n",
              "4099  Stephen Hawking says pollution and 'stupidity'...   \n",
              "4100   IMF chief backs Athens as permanent Olympic host   \n",
              "\n",
              "                                                 News 3  \\\n",
              "4096  Poland 'shocked' by xenophobic abuse of Poles ...   \n",
              "4097  S&amp;P cuts United Kingdom sovereign credit r...   \n",
              "4098  UK must accept freedom of movement to access E...   \n",
              "4099  Boris Johnson says he will not run for Tory pa...   \n",
              "4100  The president of France says if Brexit won, so...   \n",
              "\n",
              "                                                 News 4  \\\n",
              "4096  There will be no second referendum, cabinet ag...   \n",
              "4097                Huge helium deposit found in Africa   \n",
              "4098  Devastated: scientists too late to captive bre...   \n",
              "4099  Six gay men in Ivory Coast were abused and for...   \n",
              "4100  British Man Who Must Give Police 24 Hours' Not...   \n",
              "\n",
              "                                                 News 5  \\\n",
              "4096      Scotland welcome to join EU, Merkel ally says   \n",
              "4097  CEO of the South African state broadcaster qui...   \n",
              "4098  British Labor Party leader Jeremy Corbyn loses...   \n",
              "4099  Switzerland denies citizenship to Muslim immig...   \n",
              "4100  100+ Nobel laureates urge Greenpeace to stop o...   \n",
              "\n",
              "                                                 News 6  \\\n",
              "4096  Sterling dips below Friday's 31-year low amid ...   \n",
              "4097  Brexit cost investors $2 trillion, the worst o...   \n",
              "4098  A Muslim Shop in the UK Was Just Firebombed Wh...   \n",
              "4099  Palestinian terrorist stabs israeli teen girl ...   \n",
              "4100  Brazil: Huge spike in number of police killing...   \n",
              "\n",
              "                                                 News 7  \\\n",
              "4096  No negative news about South African President...   \n",
              "4097  Hong Kong democracy activists call for return ...   \n",
              "4098  Mexican Authorities Sexually Torture Women in ...   \n",
              "4099  Puerto Rico will default on $1 billion of debt...   \n",
              "4100  Austria's highest court annuls presidential el...   \n",
              "\n",
              "                                                 News 8  ...  \\\n",
              "4096  Surge in Hate Crimes in the U.K. Following U.K...  ...   \n",
              "4097  Brexit: Iceland president says UK can join 'tr...  ...   \n",
              "4098            UK shares and pound continue to recover  ...   \n",
              "4099  Republic of Ireland fans to be awarded medal f...  ...   \n",
              "4100  Facebook wins privacy case, can track any Belg...  ...   \n",
              "\n",
              "                                                News 16  \\\n",
              "4096  German lawyers to probe Erdogan over alleged w...   \n",
              "4097  US, Canada and Mexico pledge 50% of power from...   \n",
              "4098  Escape Tunnel, Dug by Hand, Is Found at Holoca...   \n",
              "4099  Googles free wifi at Indian railway stations i...   \n",
              "4100  The United States has placed Myanmar, Uzbekist...   \n",
              "\n",
              "                                                News 17  \\\n",
              "4096  Boris Johnson says the UK will continue to \"in...   \n",
              "4097  There is increasing evidence that Australia is...   \n",
              "4098  The land under Beijing is sinking by as much a...   \n",
              "4099  Mounting evidence suggests 'hobbits' were wipe...   \n",
              "4100  S&amp;P revises European Union credit rating t...   \n",
              "\n",
              "                                                News 18  \\\n",
              "4096  Richard Branson is calling on the UK governmen...   \n",
              "4097  Richard Branson, the founder of Virgin Group, ...   \n",
              "4098  Car bomb and Anti-Islamic attack on Mosque in ...   \n",
              "4099  The men who carried out Tuesday's terror attac...   \n",
              "4100  India gets $1 billion loan from World Bank for...   \n",
              "\n",
              "                                                News 19  \\\n",
              "4096             Turkey 'sorry for downing Russian jet'   \n",
              "4097  37,000-yr-old skull from Borneo reveals surpri...   \n",
              "4098  Emaciated lions in Taiz Zoo are trapped in blo...   \n",
              "4099  Calls to suspend Saudi Arabia from UN Human Ri...   \n",
              "4100  U.S. sailors detained by Iran spoke too much u...   \n",
              "\n",
              "                                                News 20  \\\n",
              "4096  Edward Snowden lawyer vows new push for pardon...   \n",
              "4097  Palestinians stone Western Wall worshipers; po...   \n",
              "4098  Rupert Murdoch describes Brexit as 'wonderful'...   \n",
              "4099  More Than 100 Nobel Laureates Call Out Greenpe...   \n",
              "4100  Mass fish kill in Vietnam solved as Taiwan ste...   \n",
              "\n",
              "                                                News 21  \\\n",
              "4096  Brexit opinion poll reveals majority don't wan...   \n",
              "4097  Jean-Claude Juncker asks Farage: Why are you h...   \n",
              "4098       More than 40 killed in Yemen suicide attacks   \n",
              "4099  British pedophile sentenced to 85 years in US ...   \n",
              "4100  Philippines president Rodrigo Duterte urges pe...   \n",
              "\n",
              "                                                News 22  \\\n",
              "4096  Conservative MP Leave Campaigner: \"The leave c...   \n",
              "4097  \"Romanians for Remainians\" offering a new home...   \n",
              "4098  Google Found Disastrous Symantec and Norton Vu...   \n",
              "4099  US permitted 1,200 offshore fracks in Gulf of ...   \n",
              "4100  Spain arrests three Pakistanis accused of prom...   \n",
              "\n",
              "                                                News 23  \\\n",
              "4096  Economists predict UK recession, further weake...   \n",
              "4097  Brexit: Gibraltar in talks with Scotland to st...   \n",
              "4098  Extremist violence on the rise in Germany: Dom...   \n",
              "4099  We will be swimming in ridicule - French beach...   \n",
              "4100  Venezuela, where anger over food shortages is ...   \n",
              "\n",
              "                                                News 24  \\\n",
              "4096  New EU 'superstate plan by France, Germany: Cr...   \n",
              "4097                   8 Suicide Bombers Strike Lebanon   \n",
              "4098  BBC News: Labour MPs pass Corbyn no-confidence...   \n",
              "4099  UEFA says no minutes of silence for Istanbul v...   \n",
              "4100  A Hindu temple worker has been killed by three...   \n",
              "\n",
              "                                                News 25  \n",
              "4096  Pakistani clerics declare transgender marriage...  \n",
              "4097  Mexico's security forces routinely use 'sexual...  \n",
              "4098  Tiny New Zealand town with 'too many jobs' lau...  \n",
              "4099  Law Enforcement Sources: Gun Used in Paris Ter...  \n",
              "4100  Ozone layer hole seems to be healing - US &amp...  \n",
              "\n",
              "[5 rows x 27 columns]"
            ],
            "text/html": [
              "\n",
              "  <div id=\"df-b3a8dead-1dbc-4896-95df-8c068a8b4982\" class=\"colab-df-container\">\n",
              "    <div>\n",
              "<style scoped>\n",
              "    .dataframe tbody tr th:only-of-type {\n",
              "        vertical-align: middle;\n",
              "    }\n",
              "\n",
              "    .dataframe tbody tr th {\n",
              "        vertical-align: top;\n",
              "    }\n",
              "\n",
              "    .dataframe thead th {\n",
              "        text-align: right;\n",
              "    }\n",
              "</style>\n",
              "<table border=\"1\" class=\"dataframe\">\n",
              "  <thead>\n",
              "    <tr style=\"text-align: right;\">\n",
              "      <th></th>\n",
              "      <th>Date</th>\n",
              "      <th>Label</th>\n",
              "      <th>News 1</th>\n",
              "      <th>News 2</th>\n",
              "      <th>News 3</th>\n",
              "      <th>News 4</th>\n",
              "      <th>News 5</th>\n",
              "      <th>News 6</th>\n",
              "      <th>News 7</th>\n",
              "      <th>News 8</th>\n",
              "      <th>...</th>\n",
              "      <th>News 16</th>\n",
              "      <th>News 17</th>\n",
              "      <th>News 18</th>\n",
              "      <th>News 19</th>\n",
              "      <th>News 20</th>\n",
              "      <th>News 21</th>\n",
              "      <th>News 22</th>\n",
              "      <th>News 23</th>\n",
              "      <th>News 24</th>\n",
              "      <th>News 25</th>\n",
              "    </tr>\n",
              "  </thead>\n",
              "  <tbody>\n",
              "    <tr>\n",
              "      <th>4096</th>\n",
              "      <td>20-03-2021</td>\n",
              "      <td>0</td>\n",
              "      <td>Barclays and RBS shares suspended from trading...</td>\n",
              "      <td>Pope says Church should ask forgiveness from g...</td>\n",
              "      <td>Poland 'shocked' by xenophobic abuse of Poles ...</td>\n",
              "      <td>There will be no second referendum, cabinet ag...</td>\n",
              "      <td>Scotland welcome to join EU, Merkel ally says</td>\n",
              "      <td>Sterling dips below Friday's 31-year low amid ...</td>\n",
              "      <td>No negative news about South African President...</td>\n",
              "      <td>Surge in Hate Crimes in the U.K. Following U.K...</td>\n",
              "      <td>...</td>\n",
              "      <td>German lawyers to probe Erdogan over alleged w...</td>\n",
              "      <td>Boris Johnson says the UK will continue to \"in...</td>\n",
              "      <td>Richard Branson is calling on the UK governmen...</td>\n",
              "      <td>Turkey 'sorry for downing Russian jet'</td>\n",
              "      <td>Edward Snowden lawyer vows new push for pardon...</td>\n",
              "      <td>Brexit opinion poll reveals majority don't wan...</td>\n",
              "      <td>Conservative MP Leave Campaigner: \"The leave c...</td>\n",
              "      <td>Economists predict UK recession, further weake...</td>\n",
              "      <td>New EU 'superstate plan by France, Germany: Cr...</td>\n",
              "      <td>Pakistani clerics declare transgender marriage...</td>\n",
              "    </tr>\n",
              "    <tr>\n",
              "      <th>4097</th>\n",
              "      <td>21-03-2021</td>\n",
              "      <td>1</td>\n",
              "      <td>2,500 Scientists To Australia: If You Want To ...</td>\n",
              "      <td>The personal details of 112,000 French police ...</td>\n",
              "      <td>S&amp;amp;P cuts United Kingdom sovereign credit r...</td>\n",
              "      <td>Huge helium deposit found in Africa</td>\n",
              "      <td>CEO of the South African state broadcaster qui...</td>\n",
              "      <td>Brexit cost investors $2 trillion, the worst o...</td>\n",
              "      <td>Hong Kong democracy activists call for return ...</td>\n",
              "      <td>Brexit: Iceland president says UK can join 'tr...</td>\n",
              "      <td>...</td>\n",
              "      <td>US, Canada and Mexico pledge 50% of power from...</td>\n",
              "      <td>There is increasing evidence that Australia is...</td>\n",
              "      <td>Richard Branson, the founder of Virgin Group, ...</td>\n",
              "      <td>37,000-yr-old skull from Borneo reveals surpri...</td>\n",
              "      <td>Palestinians stone Western Wall worshipers; po...</td>\n",
              "      <td>Jean-Claude Juncker asks Farage: Why are you h...</td>\n",
              "      <td>\"Romanians for Remainians\" offering a new home...</td>\n",
              "      <td>Brexit: Gibraltar in talks with Scotland to st...</td>\n",
              "      <td>8 Suicide Bombers Strike Lebanon</td>\n",
              "      <td>Mexico's security forces routinely use 'sexual...</td>\n",
              "    </tr>\n",
              "    <tr>\n",
              "      <th>4098</th>\n",
              "      <td>22-03-2021</td>\n",
              "      <td>1</td>\n",
              "      <td>Explosion At Airport In Istanbul</td>\n",
              "      <td>Yemeni former president: Terrorism is the offs...</td>\n",
              "      <td>UK must accept freedom of movement to access E...</td>\n",
              "      <td>Devastated: scientists too late to captive bre...</td>\n",
              "      <td>British Labor Party leader Jeremy Corbyn loses...</td>\n",
              "      <td>A Muslim Shop in the UK Was Just Firebombed Wh...</td>\n",
              "      <td>Mexican Authorities Sexually Torture Women in ...</td>\n",
              "      <td>UK shares and pound continue to recover</td>\n",
              "      <td>...</td>\n",
              "      <td>Escape Tunnel, Dug by Hand, Is Found at Holoca...</td>\n",
              "      <td>The land under Beijing is sinking by as much a...</td>\n",
              "      <td>Car bomb and Anti-Islamic attack on Mosque in ...</td>\n",
              "      <td>Emaciated lions in Taiz Zoo are trapped in blo...</td>\n",
              "      <td>Rupert Murdoch describes Brexit as 'wonderful'...</td>\n",
              "      <td>More than 40 killed in Yemen suicide attacks</td>\n",
              "      <td>Google Found Disastrous Symantec and Norton Vu...</td>\n",
              "      <td>Extremist violence on the rise in Germany: Dom...</td>\n",
              "      <td>BBC News: Labour MPs pass Corbyn no-confidence...</td>\n",
              "      <td>Tiny New Zealand town with 'too many jobs' lau...</td>\n",
              "    </tr>\n",
              "    <tr>\n",
              "      <th>4099</th>\n",
              "      <td>23-03-2021</td>\n",
              "      <td>1</td>\n",
              "      <td>Jamaica proposes marijuana dispensers for tour...</td>\n",
              "      <td>Stephen Hawking says pollution and 'stupidity'...</td>\n",
              "      <td>Boris Johnson says he will not run for Tory pa...</td>\n",
              "      <td>Six gay men in Ivory Coast were abused and for...</td>\n",
              "      <td>Switzerland denies citizenship to Muslim immig...</td>\n",
              "      <td>Palestinian terrorist stabs israeli teen girl ...</td>\n",
              "      <td>Puerto Rico will default on $1 billion of debt...</td>\n",
              "      <td>Republic of Ireland fans to be awarded medal f...</td>\n",
              "      <td>...</td>\n",
              "      <td>Googles free wifi at Indian railway stations i...</td>\n",
              "      <td>Mounting evidence suggests 'hobbits' were wipe...</td>\n",
              "      <td>The men who carried out Tuesday's terror attac...</td>\n",
              "      <td>Calls to suspend Saudi Arabia from UN Human Ri...</td>\n",
              "      <td>More Than 100 Nobel Laureates Call Out Greenpe...</td>\n",
              "      <td>British pedophile sentenced to 85 years in US ...</td>\n",
              "      <td>US permitted 1,200 offshore fracks in Gulf of ...</td>\n",
              "      <td>We will be swimming in ridicule - French beach...</td>\n",
              "      <td>UEFA says no minutes of silence for Istanbul v...</td>\n",
              "      <td>Law Enforcement Sources: Gun Used in Paris Ter...</td>\n",
              "    </tr>\n",
              "    <tr>\n",
              "      <th>4100</th>\n",
              "      <td>24-03-2021</td>\n",
              "      <td>1</td>\n",
              "      <td>A 117-year-old woman in Mexico City finally re...</td>\n",
              "      <td>IMF chief backs Athens as permanent Olympic host</td>\n",
              "      <td>The president of France says if Brexit won, so...</td>\n",
              "      <td>British Man Who Must Give Police 24 Hours' Not...</td>\n",
              "      <td>100+ Nobel laureates urge Greenpeace to stop o...</td>\n",
              "      <td>Brazil: Huge spike in number of police killing...</td>\n",
              "      <td>Austria's highest court annuls presidential el...</td>\n",
              "      <td>Facebook wins privacy case, can track any Belg...</td>\n",
              "      <td>...</td>\n",
              "      <td>The United States has placed Myanmar, Uzbekist...</td>\n",
              "      <td>S&amp;amp;P revises European Union credit rating t...</td>\n",
              "      <td>India gets $1 billion loan from World Bank for...</td>\n",
              "      <td>U.S. sailors detained by Iran spoke too much u...</td>\n",
              "      <td>Mass fish kill in Vietnam solved as Taiwan ste...</td>\n",
              "      <td>Philippines president Rodrigo Duterte urges pe...</td>\n",
              "      <td>Spain arrests three Pakistanis accused of prom...</td>\n",
              "      <td>Venezuela, where anger over food shortages is ...</td>\n",
              "      <td>A Hindu temple worker has been killed by three...</td>\n",
              "      <td>Ozone layer hole seems to be healing - US &amp;amp...</td>\n",
              "    </tr>\n",
              "  </tbody>\n",
              "</table>\n",
              "<p>5 rows × 27 columns</p>\n",
              "</div>\n",
              "    <div class=\"colab-df-buttons\">\n",
              "\n",
              "  <div class=\"colab-df-container\">\n",
              "    <button class=\"colab-df-convert\" onclick=\"convertToInteractive('df-b3a8dead-1dbc-4896-95df-8c068a8b4982')\"\n",
              "            title=\"Convert this dataframe to an interactive table.\"\n",
              "            style=\"display:none;\">\n",
              "\n",
              "  <svg xmlns=\"http://www.w3.org/2000/svg\" height=\"24px\" viewBox=\"0 -960 960 960\">\n",
              "    <path d=\"M120-120v-720h720v720H120Zm60-500h600v-160H180v160Zm220 220h160v-160H400v160Zm0 220h160v-160H400v160ZM180-400h160v-160H180v160Zm440 0h160v-160H620v160ZM180-180h160v-160H180v160Zm440 0h160v-160H620v160Z\"/>\n",
              "  </svg>\n",
              "    </button>\n",
              "\n",
              "  <style>\n",
              "    .colab-df-container {\n",
              "      display:flex;\n",
              "      gap: 12px;\n",
              "    }\n",
              "\n",
              "    .colab-df-convert {\n",
              "      background-color: #E8F0FE;\n",
              "      border: none;\n",
              "      border-radius: 50%;\n",
              "      cursor: pointer;\n",
              "      display: none;\n",
              "      fill: #1967D2;\n",
              "      height: 32px;\n",
              "      padding: 0 0 0 0;\n",
              "      width: 32px;\n",
              "    }\n",
              "\n",
              "    .colab-df-convert:hover {\n",
              "      background-color: #E2EBFA;\n",
              "      box-shadow: 0px 1px 2px rgba(60, 64, 67, 0.3), 0px 1px 3px 1px rgba(60, 64, 67, 0.15);\n",
              "      fill: #174EA6;\n",
              "    }\n",
              "\n",
              "    .colab-df-buttons div {\n",
              "      margin-bottom: 4px;\n",
              "    }\n",
              "\n",
              "    [theme=dark] .colab-df-convert {\n",
              "      background-color: #3B4455;\n",
              "      fill: #D2E3FC;\n",
              "    }\n",
              "\n",
              "    [theme=dark] .colab-df-convert:hover {\n",
              "      background-color: #434B5C;\n",
              "      box-shadow: 0px 1px 3px 1px rgba(0, 0, 0, 0.15);\n",
              "      filter: drop-shadow(0px 1px 2px rgba(0, 0, 0, 0.3));\n",
              "      fill: #FFFFFF;\n",
              "    }\n",
              "  </style>\n",
              "\n",
              "    <script>\n",
              "      const buttonEl =\n",
              "        document.querySelector('#df-b3a8dead-1dbc-4896-95df-8c068a8b4982 button.colab-df-convert');\n",
              "      buttonEl.style.display =\n",
              "        google.colab.kernel.accessAllowed ? 'block' : 'none';\n",
              "\n",
              "      async function convertToInteractive(key) {\n",
              "        const element = document.querySelector('#df-b3a8dead-1dbc-4896-95df-8c068a8b4982');\n",
              "        const dataTable =\n",
              "          await google.colab.kernel.invokeFunction('convertToInteractive',\n",
              "                                                    [key], {});\n",
              "        if (!dataTable) return;\n",
              "\n",
              "        const docLinkHtml = 'Like what you see? Visit the ' +\n",
              "          '<a target=\"_blank\" href=https://colab.research.google.com/notebooks/data_table.ipynb>data table notebook</a>'\n",
              "          + ' to learn more about interactive tables.';\n",
              "        element.innerHTML = '';\n",
              "        dataTable['output_type'] = 'display_data';\n",
              "        await google.colab.output.renderOutput(dataTable, element);\n",
              "        const docLink = document.createElement('div');\n",
              "        docLink.innerHTML = docLinkHtml;\n",
              "        element.appendChild(docLink);\n",
              "      }\n",
              "    </script>\n",
              "  </div>\n",
              "\n",
              "\n",
              "<div id=\"df-d8a6e60a-b7b4-411f-9516-9f82617cf1db\">\n",
              "  <button class=\"colab-df-quickchart\" onclick=\"quickchart('df-d8a6e60a-b7b4-411f-9516-9f82617cf1db')\"\n",
              "            title=\"Suggest charts\"\n",
              "            style=\"display:none;\">\n",
              "\n",
              "<svg xmlns=\"http://www.w3.org/2000/svg\" height=\"24px\"viewBox=\"0 0 24 24\"\n",
              "     width=\"24px\">\n",
              "    <g>\n",
              "        <path d=\"M19 3H5c-1.1 0-2 .9-2 2v14c0 1.1.9 2 2 2h14c1.1 0 2-.9 2-2V5c0-1.1-.9-2-2-2zM9 17H7v-7h2v7zm4 0h-2V7h2v10zm4 0h-2v-4h2v4z\"/>\n",
              "    </g>\n",
              "</svg>\n",
              "  </button>\n",
              "\n",
              "<style>\n",
              "  .colab-df-quickchart {\n",
              "      --bg-color: #E8F0FE;\n",
              "      --fill-color: #1967D2;\n",
              "      --hover-bg-color: #E2EBFA;\n",
              "      --hover-fill-color: #174EA6;\n",
              "      --disabled-fill-color: #AAA;\n",
              "      --disabled-bg-color: #DDD;\n",
              "  }\n",
              "\n",
              "  [theme=dark] .colab-df-quickchart {\n",
              "      --bg-color: #3B4455;\n",
              "      --fill-color: #D2E3FC;\n",
              "      --hover-bg-color: #434B5C;\n",
              "      --hover-fill-color: #FFFFFF;\n",
              "      --disabled-bg-color: #3B4455;\n",
              "      --disabled-fill-color: #666;\n",
              "  }\n",
              "\n",
              "  .colab-df-quickchart {\n",
              "    background-color: var(--bg-color);\n",
              "    border: none;\n",
              "    border-radius: 50%;\n",
              "    cursor: pointer;\n",
              "    display: none;\n",
              "    fill: var(--fill-color);\n",
              "    height: 32px;\n",
              "    padding: 0;\n",
              "    width: 32px;\n",
              "  }\n",
              "\n",
              "  .colab-df-quickchart:hover {\n",
              "    background-color: var(--hover-bg-color);\n",
              "    box-shadow: 0 1px 2px rgba(60, 64, 67, 0.3), 0 1px 3px 1px rgba(60, 64, 67, 0.15);\n",
              "    fill: var(--button-hover-fill-color);\n",
              "  }\n",
              "\n",
              "  .colab-df-quickchart-complete:disabled,\n",
              "  .colab-df-quickchart-complete:disabled:hover {\n",
              "    background-color: var(--disabled-bg-color);\n",
              "    fill: var(--disabled-fill-color);\n",
              "    box-shadow: none;\n",
              "  }\n",
              "\n",
              "  .colab-df-spinner {\n",
              "    border: 2px solid var(--fill-color);\n",
              "    border-color: transparent;\n",
              "    border-bottom-color: var(--fill-color);\n",
              "    animation:\n",
              "      spin 1s steps(1) infinite;\n",
              "  }\n",
              "\n",
              "  @keyframes spin {\n",
              "    0% {\n",
              "      border-color: transparent;\n",
              "      border-bottom-color: var(--fill-color);\n",
              "      border-left-color: var(--fill-color);\n",
              "    }\n",
              "    20% {\n",
              "      border-color: transparent;\n",
              "      border-left-color: var(--fill-color);\n",
              "      border-top-color: var(--fill-color);\n",
              "    }\n",
              "    30% {\n",
              "      border-color: transparent;\n",
              "      border-left-color: var(--fill-color);\n",
              "      border-top-color: var(--fill-color);\n",
              "      border-right-color: var(--fill-color);\n",
              "    }\n",
              "    40% {\n",
              "      border-color: transparent;\n",
              "      border-right-color: var(--fill-color);\n",
              "      border-top-color: var(--fill-color);\n",
              "    }\n",
              "    60% {\n",
              "      border-color: transparent;\n",
              "      border-right-color: var(--fill-color);\n",
              "    }\n",
              "    80% {\n",
              "      border-color: transparent;\n",
              "      border-right-color: var(--fill-color);\n",
              "      border-bottom-color: var(--fill-color);\n",
              "    }\n",
              "    90% {\n",
              "      border-color: transparent;\n",
              "      border-bottom-color: var(--fill-color);\n",
              "    }\n",
              "  }\n",
              "</style>\n",
              "\n",
              "  <script>\n",
              "    async function quickchart(key) {\n",
              "      const quickchartButtonEl =\n",
              "        document.querySelector('#' + key + ' button');\n",
              "      quickchartButtonEl.disabled = true;  // To prevent multiple clicks.\n",
              "      quickchartButtonEl.classList.add('colab-df-spinner');\n",
              "      try {\n",
              "        const charts = await google.colab.kernel.invokeFunction(\n",
              "            'suggestCharts', [key], {});\n",
              "      } catch (error) {\n",
              "        console.error('Error during call to suggestCharts:', error);\n",
              "      }\n",
              "      quickchartButtonEl.classList.remove('colab-df-spinner');\n",
              "      quickchartButtonEl.classList.add('colab-df-quickchart-complete');\n",
              "    }\n",
              "    (() => {\n",
              "      let quickchartButtonEl =\n",
              "        document.querySelector('#df-d8a6e60a-b7b4-411f-9516-9f82617cf1db button');\n",
              "      quickchartButtonEl.style.display =\n",
              "        google.colab.kernel.accessAllowed ? 'block' : 'none';\n",
              "    })();\n",
              "  </script>\n",
              "</div>\n",
              "\n",
              "    </div>\n",
              "  </div>\n"
            ],
            "application/vnd.google.colaboratory.intrinsic+json": {
              "type": "dataframe"
            }
          },
          "metadata": {},
          "execution_count": 8
        }
      ]
    },
    {
      "cell_type": "markdown",
      "source": [
        "Data Visualize"
      ],
      "metadata": {
        "id": "66_FPhV3Xsle"
      }
    },
    {
      "cell_type": "code",
      "source": [
        "df.shape"
      ],
      "metadata": {
        "colab": {
          "base_uri": "https://localhost:8080/"
        },
        "id": "MCgL2-hUXvIR",
        "outputId": "ed543e1b-e264-44cf-da0c-c39f52f4bd3a"
      },
      "execution_count": 10,
      "outputs": [
        {
          "output_type": "execute_result",
          "data": {
            "text/plain": [
              "(4101, 27)"
            ]
          },
          "metadata": {},
          "execution_count": 10
        }
      ]
    },
    {
      "cell_type": "code",
      "source": [
        "df.columns"
      ],
      "metadata": {
        "colab": {
          "base_uri": "https://localhost:8080/"
        },
        "id": "EgWPJU0mYCA1",
        "outputId": "29b09fec-aa0a-4a43-ce16-9dff1a7b4c00"
      },
      "execution_count": 11,
      "outputs": [
        {
          "output_type": "execute_result",
          "data": {
            "text/plain": [
              "Index(['Date', 'Label', 'News 1', 'News 2', 'News 3', 'News 4', 'News 5',\n",
              "       'News 6', 'News 7', 'News 8', 'News 9', 'News 10', 'News 11', 'News 12',\n",
              "       'News 13', 'News 14', 'News 15', 'News 16', 'News 17', 'News 18',\n",
              "       'News 19', 'News 20', 'News 21', 'News 22', 'News 23', 'News 24',\n",
              "       'News 25'],\n",
              "      dtype='object')"
            ]
          },
          "metadata": {},
          "execution_count": 11
        }
      ]
    },
    {
      "cell_type": "markdown",
      "source": [
        "Data Pre-Processing"
      ],
      "metadata": {
        "id": "eN28SsrOYFT0"
      }
    },
    {
      "cell_type": "code",
      "source": [
        "df.duplicated('Date').sum()"
      ],
      "metadata": {
        "colab": {
          "base_uri": "https://localhost:8080/"
        },
        "id": "_HT5Mkh1YITW",
        "outputId": "7c152971-4eac-4b6c-fafd-7b14ed69bc6a"
      },
      "execution_count": 13,
      "outputs": [
        {
          "output_type": "execute_result",
          "data": {
            "text/plain": [
              "0"
            ]
          },
          "metadata": {},
          "execution_count": 13
        }
      ]
    },
    {
      "cell_type": "markdown",
      "source": [
        "Feauture Selection"
      ],
      "metadata": {
        "id": "FSHjJWUAYvEf"
      }
    },
    {
      "cell_type": "code",
      "source": [
        "' '.join(str(x) for x in df.iloc[1,2:27])"
      ],
      "metadata": {
        "colab": {
          "base_uri": "https://localhost:8080/",
          "height": 105
        },
        "id": "3y570LtfY16O",
        "outputId": "72c3d671-15d8-4064-9659-6680013ae118"
      },
      "execution_count": 14,
      "outputs": [
        {
          "output_type": "execute_result",
          "data": {
            "text/plain": [
              "\"Warning from history points to crash Investors flee to dollar haven Banks and tobacco in favour Review: Llama Farmers War jitters lead to sell-off Your not-so-secret history Review: The Northern Sinfonia Review: Hysteria Review: The Guardsman Opera: The Marriage of Figaro Review: The Turk in Italy Deutsche spells out its plans for diversification Traders' panic sends oil prices skyward TV sport chief leaves home over romance Leader: Hi-tech twitch Why Wenger will stick to his Gunners Out of luck England hit rock bottom Wilkinson out of his depth Kinsella sparks Irish power play Brown banished as Scots rebound Battling Wales cling to lifeline Ehiogu close to sealing Boro move Man-to-man marking Match stats French referee at centre of storm is no stranger to controversy\""
            ],
            "application/vnd.google.colaboratory.intrinsic+json": {
              "type": "string"
            }
          },
          "metadata": {},
          "execution_count": 14
        }
      ]
    },
    {
      "cell_type": "code",
      "source": [
        "df.index"
      ],
      "metadata": {
        "colab": {
          "base_uri": "https://localhost:8080/"
        },
        "id": "0RujPK02ZAMP",
        "outputId": "5419f918-c9cb-4447-9f05-e093cd6e9eba"
      },
      "execution_count": 15,
      "outputs": [
        {
          "output_type": "execute_result",
          "data": {
            "text/plain": [
              "RangeIndex(start=0, stop=4101, step=1)"
            ]
          },
          "metadata": {},
          "execution_count": 15
        }
      ]
    },
    {
      "cell_type": "code",
      "source": [
        "len(df.index)"
      ],
      "metadata": {
        "colab": {
          "base_uri": "https://localhost:8080/"
        },
        "id": "MVovjHjxZE6r",
        "outputId": "8a7360f2-0b16-4eee-bbc2-5f0619135cad"
      },
      "execution_count": 16,
      "outputs": [
        {
          "output_type": "execute_result",
          "data": {
            "text/plain": [
              "4101"
            ]
          },
          "metadata": {},
          "execution_count": 16
        }
      ]
    },
    {
      "cell_type": "code",
      "source": [
        "news=[]\n",
        "for row in range(0,len(df.index)):\n",
        "  news.append(' '.join(str(x) for x in df.iloc[row,2:27]))"
      ],
      "metadata": {
        "id": "ZoOjtxc8ZKa5"
      },
      "execution_count": 17,
      "outputs": []
    },
    {
      "cell_type": "code",
      "source": [
        "type(news)"
      ],
      "metadata": {
        "colab": {
          "base_uri": "https://localhost:8080/"
        },
        "id": "ML6eGqfxaZIF",
        "outputId": "d89b3c76-1b19-4122-b09b-bd49e1149384"
      },
      "execution_count": 18,
      "outputs": [
        {
          "output_type": "execute_result",
          "data": {
            "text/plain": [
              "list"
            ]
          },
          "metadata": {},
          "execution_count": 18
        }
      ]
    },
    {
      "cell_type": "markdown",
      "source": [
        "This shows that type of the news we are analyzing is of type **list**"
      ],
      "metadata": {
        "id": "oK1OSLZmabcb"
      }
    },
    {
      "cell_type": "code",
      "source": [
        "news[0]"
      ],
      "metadata": {
        "colab": {
          "base_uri": "https://localhost:8080/",
          "height": 105
        },
        "id": "NASni_Hqai6R",
        "outputId": "28ecbd9d-8aff-40ff-b536-25dbe1855755"
      },
      "execution_count": 19,
      "outputs": [
        {
          "output_type": "execute_result",
          "data": {
            "text/plain": [
              "\"McIlroy's men catch cold from Gudjonsson Obituary: Brian Walsh Workplace blues leave employers in the red Classical review: Rattle Dance review: Merce Cunningham Genetic tests to be used in setting premiums Opera review: La Bohème Pop review: Britney Spears Theatre review: The Circle Wales face a fraught night Under-21  round-up Smith off to blot his copybook Finns taking the mickey Praise wasted as Brown studies injury options Ireland wary of minnows Finland 0 - 0 England Healy a marked man Happy birthday Harpers & Queen Win unlimited access to the Raindance film festival Labour pledges £800m to bridge north-south divide Wales: Lib-Lab pact firm despite resignation Donald Dewar Regenerating homes  regenerates well-being in people Win £100 worth of underwear TV guide: Random views\""
            ],
            "application/vnd.google.colaboratory.intrinsic+json": {
              "type": "string"
            }
          },
          "metadata": {},
          "execution_count": 19
        }
      ]
    },
    {
      "cell_type": "code",
      "source": [
        "X=news"
      ],
      "metadata": {
        "id": "n9WpSLOca1a2"
      },
      "execution_count": 20,
      "outputs": []
    },
    {
      "cell_type": "code",
      "source": [
        "type(X)"
      ],
      "metadata": {
        "colab": {
          "base_uri": "https://localhost:8080/"
        },
        "id": "TPwhdkoSbMaD",
        "outputId": "3dabbcfd-0d1d-4099-ad5b-a840168d76bc"
      },
      "execution_count": 21,
      "outputs": [
        {
          "output_type": "execute_result",
          "data": {
            "text/plain": [
              "list"
            ]
          },
          "metadata": {},
          "execution_count": 21
        }
      ]
    },
    {
      "cell_type": "markdown",
      "source": [
        "Get Feature Text Conversion To Bag Of Words"
      ],
      "metadata": {
        "id": "YTF94DPxbQZA"
      }
    },
    {
      "cell_type": "code",
      "source": [
        "from sklearn.feature_extraction.text import CountVectorizer"
      ],
      "metadata": {
        "id": "75jfFqmubYzu"
      },
      "execution_count": 22,
      "outputs": []
    },
    {
      "cell_type": "code",
      "source": [
        "cv=CountVectorizer(lowercase=True,ngram_range=(1,1))\n"
      ],
      "metadata": {
        "id": "Dk1Nzx9sb2mM"
      },
      "execution_count": 23,
      "outputs": []
    },
    {
      "cell_type": "code",
      "source": [
        "X=cv.fit_transform(X)"
      ],
      "metadata": {
        "id": "GfRpN5tYcEq1"
      },
      "execution_count": 24,
      "outputs": []
    },
    {
      "cell_type": "markdown",
      "source": [
        "Define Target Variable (y) and Feature Variables (X)"
      ],
      "metadata": {
        "id": "4R9dzmyScadC"
      }
    },
    {
      "cell_type": "code",
      "source": [
        "X.shape"
      ],
      "metadata": {
        "colab": {
          "base_uri": "https://localhost:8080/"
        },
        "id": "iu_vwO4UcO7H",
        "outputId": "9982b1a8-3765-44d0-f057-7559ee96bc3b"
      },
      "execution_count": 25,
      "outputs": [
        {
          "output_type": "execute_result",
          "data": {
            "text/plain": [
              "(4101, 48527)"
            ]
          },
          "metadata": {},
          "execution_count": 25
        }
      ]
    },
    {
      "cell_type": "code",
      "source": [
        "Y=df['Label']"
      ],
      "metadata": {
        "id": "0bRmqzVNcRoz"
      },
      "execution_count": 26,
      "outputs": []
    },
    {
      "cell_type": "code",
      "source": [
        "Y.shape"
      ],
      "metadata": {
        "colab": {
          "base_uri": "https://localhost:8080/"
        },
        "id": "NxqrEcFEcWPP",
        "outputId": "bb34401c-235f-4819-ea2f-3c0af96bbaae"
      },
      "execution_count": 27,
      "outputs": [
        {
          "output_type": "execute_result",
          "data": {
            "text/plain": [
              "(4101,)"
            ]
          },
          "metadata": {},
          "execution_count": 27
        }
      ]
    },
    {
      "cell_type": "markdown",
      "source": [
        "Train Test Split"
      ],
      "metadata": {
        "id": "_Py7rJTkcdfy"
      }
    },
    {
      "cell_type": "code",
      "source": [
        "from sklearn.model_selection import train_test_split"
      ],
      "metadata": {
        "id": "WHgsbi6ScgmO"
      },
      "execution_count": 28,
      "outputs": []
    },
    {
      "cell_type": "code",
      "source": [
        "X_train,X_test,Y_train,Y_test=train_test_split(X,Y,test_size=0.3,stratify=Y,random_state=2529)"
      ],
      "metadata": {
        "id": "_VXwbHezcrJ0"
      },
      "execution_count": 30,
      "outputs": []
    },
    {
      "cell_type": "markdown",
      "source": [
        "Modelling"
      ],
      "metadata": {
        "id": "QC18U_iFd58m"
      }
    },
    {
      "cell_type": "code",
      "source": [
        "from sklearn.ensemble import RandomForestClassifier\n",
        "rf=RandomForestClassifier(n_estimators=200)"
      ],
      "metadata": {
        "id": "vJsr3eI0dA4h"
      },
      "execution_count": 91,
      "outputs": []
    },
    {
      "cell_type": "code",
      "source": [
        "rf.fit(X_train,Y_train)"
      ],
      "metadata": {
        "colab": {
          "base_uri": "https://localhost:8080/",
          "height": 74
        },
        "id": "oNhXzSHqdXSC",
        "outputId": "19620099-6aad-4e97-aaf9-24c37c031459"
      },
      "execution_count": 92,
      "outputs": [
        {
          "output_type": "execute_result",
          "data": {
            "text/plain": [
              "RandomForestClassifier(n_estimators=200)"
            ],
            "text/html": [
              "<style>#sk-container-id-10 {color: black;background-color: white;}#sk-container-id-10 pre{padding: 0;}#sk-container-id-10 div.sk-toggleable {background-color: white;}#sk-container-id-10 label.sk-toggleable__label {cursor: pointer;display: block;width: 100%;margin-bottom: 0;padding: 0.3em;box-sizing: border-box;text-align: center;}#sk-container-id-10 label.sk-toggleable__label-arrow:before {content: \"▸\";float: left;margin-right: 0.25em;color: #696969;}#sk-container-id-10 label.sk-toggleable__label-arrow:hover:before {color: black;}#sk-container-id-10 div.sk-estimator:hover label.sk-toggleable__label-arrow:before {color: black;}#sk-container-id-10 div.sk-toggleable__content {max-height: 0;max-width: 0;overflow: hidden;text-align: left;background-color: #f0f8ff;}#sk-container-id-10 div.sk-toggleable__content pre {margin: 0.2em;color: black;border-radius: 0.25em;background-color: #f0f8ff;}#sk-container-id-10 input.sk-toggleable__control:checked~div.sk-toggleable__content {max-height: 200px;max-width: 100%;overflow: auto;}#sk-container-id-10 input.sk-toggleable__control:checked~label.sk-toggleable__label-arrow:before {content: \"▾\";}#sk-container-id-10 div.sk-estimator input.sk-toggleable__control:checked~label.sk-toggleable__label {background-color: #d4ebff;}#sk-container-id-10 div.sk-label input.sk-toggleable__control:checked~label.sk-toggleable__label {background-color: #d4ebff;}#sk-container-id-10 input.sk-hidden--visually {border: 0;clip: rect(1px 1px 1px 1px);clip: rect(1px, 1px, 1px, 1px);height: 1px;margin: -1px;overflow: hidden;padding: 0;position: absolute;width: 1px;}#sk-container-id-10 div.sk-estimator {font-family: monospace;background-color: #f0f8ff;border: 1px dotted black;border-radius: 0.25em;box-sizing: border-box;margin-bottom: 0.5em;}#sk-container-id-10 div.sk-estimator:hover {background-color: #d4ebff;}#sk-container-id-10 div.sk-parallel-item::after {content: \"\";width: 100%;border-bottom: 1px solid gray;flex-grow: 1;}#sk-container-id-10 div.sk-label:hover label.sk-toggleable__label {background-color: #d4ebff;}#sk-container-id-10 div.sk-serial::before {content: \"\";position: absolute;border-left: 1px solid gray;box-sizing: border-box;top: 0;bottom: 0;left: 50%;z-index: 0;}#sk-container-id-10 div.sk-serial {display: flex;flex-direction: column;align-items: center;background-color: white;padding-right: 0.2em;padding-left: 0.2em;position: relative;}#sk-container-id-10 div.sk-item {position: relative;z-index: 1;}#sk-container-id-10 div.sk-parallel {display: flex;align-items: stretch;justify-content: center;background-color: white;position: relative;}#sk-container-id-10 div.sk-item::before, #sk-container-id-10 div.sk-parallel-item::before {content: \"\";position: absolute;border-left: 1px solid gray;box-sizing: border-box;top: 0;bottom: 0;left: 50%;z-index: -1;}#sk-container-id-10 div.sk-parallel-item {display: flex;flex-direction: column;z-index: 1;position: relative;background-color: white;}#sk-container-id-10 div.sk-parallel-item:first-child::after {align-self: flex-end;width: 50%;}#sk-container-id-10 div.sk-parallel-item:last-child::after {align-self: flex-start;width: 50%;}#sk-container-id-10 div.sk-parallel-item:only-child::after {width: 0;}#sk-container-id-10 div.sk-dashed-wrapped {border: 1px dashed gray;margin: 0 0.4em 0.5em 0.4em;box-sizing: border-box;padding-bottom: 0.4em;background-color: white;}#sk-container-id-10 div.sk-label label {font-family: monospace;font-weight: bold;display: inline-block;line-height: 1.2em;}#sk-container-id-10 div.sk-label-container {text-align: center;}#sk-container-id-10 div.sk-container {/* jupyter's `normalize.less` sets `[hidden] { display: none; }` but bootstrap.min.css set `[hidden] { display: none !important; }` so we also need the `!important` here to be able to override the default hidden behavior on the sphinx rendered scikit-learn.org. See: https://github.com/scikit-learn/scikit-learn/issues/21755 */display: inline-block !important;position: relative;}#sk-container-id-10 div.sk-text-repr-fallback {display: none;}</style><div id=\"sk-container-id-10\" class=\"sk-top-container\"><div class=\"sk-text-repr-fallback\"><pre>RandomForestClassifier(n_estimators=200)</pre><b>In a Jupyter environment, please rerun this cell to show the HTML representation or trust the notebook. <br />On GitHub, the HTML representation is unable to render, please try loading this page with nbviewer.org.</b></div><div class=\"sk-container\" hidden><div class=\"sk-item\"><div class=\"sk-estimator sk-toggleable\"><input class=\"sk-toggleable__control sk-hidden--visually\" id=\"sk-estimator-id-10\" type=\"checkbox\" checked><label for=\"sk-estimator-id-10\" class=\"sk-toggleable__label sk-toggleable__label-arrow\">RandomForestClassifier</label><div class=\"sk-toggleable__content\"><pre>RandomForestClassifier(n_estimators=200)</pre></div></div></div></div></div>"
            ]
          },
          "metadata": {},
          "execution_count": 92
        }
      ]
    },
    {
      "cell_type": "markdown",
      "source": [
        "Prediction"
      ],
      "metadata": {
        "id": "wiCk4cpbd2Sa"
      }
    },
    {
      "cell_type": "code",
      "source": [
        "Y_pred=rf.predict(X_test)"
      ],
      "metadata": {
        "id": "mIw9adtCdl_B"
      },
      "execution_count": 93,
      "outputs": []
    },
    {
      "cell_type": "markdown",
      "source": [
        "Model Evaluation"
      ],
      "metadata": {
        "id": "Zh0YTbQcd9Y7"
      }
    },
    {
      "cell_type": "code",
      "source": [
        "from sklearn.metrics import classification_report,confusion_matrix,accuracy_score"
      ],
      "metadata": {
        "id": "BP_qvIRfeAdX"
      },
      "execution_count": 85,
      "outputs": []
    },
    {
      "cell_type": "code",
      "source": [
        "confusion_matrix(Y_test,Y_pred)"
      ],
      "metadata": {
        "colab": {
          "base_uri": "https://localhost:8080/"
        },
        "id": "692Jg-NGeJ3Q",
        "outputId": "7797f191-e798-4558-c39b-e27199688a6c"
      },
      "execution_count": 94,
      "outputs": [
        {
          "output_type": "execute_result",
          "data": {
            "text/plain": [
              "array([[152, 429],\n",
              "       [148, 502]])"
            ]
          },
          "metadata": {},
          "execution_count": 94
        }
      ]
    },
    {
      "cell_type": "code",
      "source": [
        "print(classification_report(Y_test,Y_pred))"
      ],
      "metadata": {
        "colab": {
          "base_uri": "https://localhost:8080/"
        },
        "id": "PHDdjy-PePUC",
        "outputId": "36b5e9af-8f53-414f-db66-409edeb7aefd"
      },
      "execution_count": 95,
      "outputs": [
        {
          "output_type": "stream",
          "name": "stdout",
          "text": [
            "              precision    recall  f1-score   support\n",
            "\n",
            "           0       0.51      0.26      0.35       581\n",
            "           1       0.54      0.77      0.64       650\n",
            "\n",
            "    accuracy                           0.53      1231\n",
            "   macro avg       0.52      0.52      0.49      1231\n",
            "weighted avg       0.52      0.53      0.50      1231\n",
            "\n"
          ]
        }
      ]
    },
    {
      "cell_type": "markdown",
      "source": [
        "Explaination:\n",
        "\n",
        "Financial market sentiment analysis involves using natural language processing (NLP) and machine learning techniques to analyze textual data from various sources (e.g., news articles, social media, financial reports) to gauge the sentiment of market participants. This sentiment can provide insights into market movements and assist in making informed investment decisions.\n",
        "\n",
        "Why Random Forest?\n",
        "Random Forest is an **ensemble learning method** that operates by constructing multiple decision trees during training and outputting the class that is the mode of the classes (classification) or mean prediction (regression) of the individual trees. It's particularly effective for sentiment analysis because:\n",
        "\n",
        "Robustness: It handles a large amount of input variables without overfitting.\n",
        "Feature Importance: It can identify the most important features for the prediction task.\n",
        "Accuracy: It often provides better accuracy compared to individual decision trees.\n",
        "Steps to Perform Sentiment Analysis Using Random Forest\n",
        "1. Data Collection and Preparation\n",
        "Gather textual data related to financial markets. This data can come from various sources such as news articles, tweets, blogs, and financial reports. Each piece of text needs to be labeled with a sentiment (positive, negative, neutral).\n",
        "\n",
        "2. Data Preprocessing\n",
        "Clean the data by removing noise (e.g., special characters, numbers, punctuation). Tokenize the text, convert to lower case, remove stop words, and perform stemming/lemmatization.\n",
        "\n",
        "3. Feature Extraction\n",
        "Convert the text data into numerical features. Common methods include:\n",
        "\n",
        "Bag of Words (BoW)\n",
        "Word Embeddings (e.g., Word2Vec, GloVe)\n",
        "4. Model Training\n",
        "Train the Random Forest model using the extracted features and sentiment labels.\n",
        "\n",
        "5. Model Evaluation\n",
        "Evaluate the model using metrics such as accuracy, precision, recall, and F1-score."
      ],
      "metadata": {
        "id": "QEXFITtbl8DT"
      }
    }
  ]
}